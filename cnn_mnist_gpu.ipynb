{
  "cells": [
    {
      "cell_type": "markdown",
      "metadata": {
        "id": "xYQtczjRFdl4"
      },
      "source": [
        "# Сверточная нейронная сеть (CNN) для классификации MNIST на GPU\n",
        "\n",
        "Этот ноутбук демонстрирует реализацию сверточной нейронной сети (CNN) для классификации рукописных цифр из набора данных MNIST, оптимизированную для работы на GPU в Google Colab. Мы используем `ipywidgets` для интерактивной настройки гиперпараметров, визуализацию карт активации, интерактивную матрицу ошибок с `plotly` и анализ ошибок классификации.\n",
        "\n",
        "**Примечание:** Код оптимизирован для работы на GPU."
      ]
    },
    {
      "cell_type": "code",
      "execution_count": 1,
      "metadata": {
        "id": "l-RBD86yFdmC",
        "colab": {
          "base_uri": "https://localhost:8080/"
        },
        "outputId": "c658d784-192b-4ffc-85a4-1bf79f76ff00"
      },
      "outputs": [
        {
          "output_type": "stream",
          "name": "stdout",
          "text": [
            "GPU detected: /physical_device:GPU:0\n"
          ]
        }
      ],
      "source": [
        "import numpy as np\n",
        "import matplotlib.pyplot as plt\n",
        "import seaborn as sns\n",
        "from tensorflow.keras.datasets import mnist\n",
        "from tensorflow.keras.models import Sequential, Model\n",
        "from tensorflow.keras.layers import Conv2D, MaxPooling2D, Dense, Flatten, Dropout\n",
        "from tensorflow.keras.utils import to_categorical\n",
        "from sklearn.metrics import confusion_matrix\n",
        "import tensorflow as tf\n",
        "import plotly.express as px\n",
        "from ipywidgets import interact, IntSlider, Dropdown\n",
        "import pandas as pd\n",
        "\n",
        "# Зафиксируем seed для воспроизводимости\n",
        "np.random.seed(42)\n",
        "tf.random.set_seed(42)\n",
        "\n",
        "# Проверка доступности GPU\n",
        "gpus = tf.config.list_physical_devices('GPU')\n",
        "if gpus:\n",
        "    print(f'GPU detected: {gpus[0].name}')\n",
        "else:\n",
        "    print('No GPU detected, running on CPU')"
      ]
    },
    {
      "cell_type": "markdown",
      "metadata": {
        "id": "iTrg1DkdFdmF"
      },
      "source": [
        "## 1. Загрузка и предобработка данных MNIST\n",
        "\n",
        "Загружаем набор данных MNIST, нормализуем значения пикселей (0-255 -> 0-1), изменяем форму данных для CNN и преобразуем метки в категориальный формат."
      ]
    },
    {
      "cell_type": "code",
      "execution_count": 2,
      "metadata": {
        "id": "wIeovip9FdmG",
        "colab": {
          "base_uri": "https://localhost:8080/"
        },
        "outputId": "227415b1-ec5d-4398-e9f2-2aeb3d4d49a8"
      },
      "outputs": [
        {
          "output_type": "stream",
          "name": "stdout",
          "text": [
            "Downloading data from https://storage.googleapis.com/tensorflow/tf-keras-datasets/mnist.npz\n",
            "\u001b[1m11490434/11490434\u001b[0m \u001b[32m━━━━━━━━━━━━━━━━━━━━\u001b[0m\u001b[37m\u001b[0m \u001b[1m2s\u001b[0m 0us/step\n"
          ]
        }
      ],
      "source": [
        "# Загрузка и предобработка данных MNIST\n",
        "(X_train, y_train), (X_test, y_test) = mnist.load_data()\n",
        "\n",
        "# Нормализация данных (0-255 -> 0-1)\n",
        "X_train = X_train.astype('float32') / 255.0\n",
        "X_test = X_test.astype('float32') / 255.0\n",
        "\n",
        "# Изменение формы для CNN (добавляем канал для черно-белых изображений)\n",
        "X_train = X_train.reshape(-1, 28, 28, 1)\n",
        "X_test = X_test.reshape(-1, 28, 28, 1)\n",
        "\n",
        "# Преобразование меток в категориальный формат\n",
        "y_train = to_categorical(y_train, 10)\n",
        "y_test = to_categorical(y_test, 10)"
      ]
    },
    {
      "cell_type": "markdown",
      "metadata": {
        "id": "iKhBUB8pFdmH"
      },
      "source": [
        "## 2. Создание модели CNN\n",
        "\n",
        "Определяем архитектуру CNN с двумя сверточными слоями, пулинг-слоями, слоем Flatten, плотным слоем с Dropout и выходным слоем для классификации 10 классов."
      ]
    },
    {
      "cell_type": "code",
      "execution_count": 3,
      "metadata": {
        "id": "NywMEDp-FdmI",
        "colab": {
          "base_uri": "https://localhost:8080/"
        },
        "outputId": "9bd7d745-6986-4a44-8b5c-06d29dedaa58"
      },
      "outputs": [
        {
          "output_type": "stream",
          "name": "stderr",
          "text": [
            "/usr/local/lib/python3.11/dist-packages/keras/src/layers/convolutional/base_conv.py:107: UserWarning: Do not pass an `input_shape`/`input_dim` argument to a layer. When using Sequential models, prefer using an `Input(shape)` object as the first layer in the model instead.\n",
            "  super().__init__(activity_regularizer=activity_regularizer, **kwargs)\n"
          ]
        }
      ],
      "source": [
        "# Создание модели CNN\n",
        "def create_model():\n",
        "    model = Sequential([\n",
        "        Conv2D(32, (3, 3), activation='relu', input_shape=(28, 28, 1), name='conv1'),\n",
        "        MaxPooling2D((2, 2), name='pool1'),\n",
        "        Conv2D(64, (3, 3), activation='relu', name='conv2'),\n",
        "        MaxPooling2D((2, 2), name='pool2'),\n",
        "        Flatten(),\n",
        "        Dense(128, activation='relu', name='dense1'),\n",
        "        Dropout(0.5),\n",
        "        Dense(10, activation='softmax', name='output')\n",
        "    ])\n",
        "    model.compile(optimizer='adam', loss='categorical_crossentropy', metrics=['accuracy'])\n",
        "    return model\n",
        "\n",
        "model = create_model()"
      ]
    },
    {
      "cell_type": "markdown",
      "metadata": {
        "id": "V7gC-4coFdmJ"
      },
      "source": [
        "## 3. Интерактивное обучение модели\n",
        "\n",
        "Используем виджеты для выбора количества эпох и размера батча. Модель обучается на GPU с использованием массивов NumPy."
      ]
    },
    {
      "cell_type": "code",
      "execution_count": 4,
      "metadata": {
        "id": "VA92R455FdmK"
      },
      "outputs": [],
      "source": [
        "# Определение функции обучения\n",
        "def train_model(epochs, batch_size):\n",
        "    global model, history\n",
        "    model = create_model()  # Создаем новую модель для каждого запуска\n",
        "    history = model.fit(X_train, y_train, epochs=epochs, batch_size=batch_size,\n",
        "                        validation_split=0.2, verbose=1)\n",
        "    test_loss, test_accuracy = model.evaluate(X_test, y_test, verbose=0)\n",
        "    print(f'\\nТочность на тестовом наборе: {test_accuracy:.4f}')"
      ]
    },
    {
      "cell_type": "code",
      "execution_count": 5,
      "metadata": {
        "colab": {
          "base_uri": "https://localhost:8080/",
          "height": 1000,
          "referenced_widgets": [
            "27b49623038b4a8aa854eeb8aa71006f",
            "6d46c40d1da247a1b7c418e5b652c13a",
            "1cef2223d5c049efaaee53228b3af1ac",
            "e8c9bb768d7a4aa6b3b450bf7700bc5f",
            "a25a61c1ef7a4174ac65612a29652042",
            "185faa38ff2a44a1a99296431a782626",
            "c01deb0861884acfa72de4649e6e1128",
            "77a02c4b12ee470fad816fbf021bbe1e",
            "5b4751cbe9734fbc91b4b93ba7eaf2b6",
            "df8683a8e9364ae996b4c0acb7471ad7"
          ]
        },
        "id": "H3okr-P9Qwgf",
        "outputId": "a79236c3-a9e4-4596-eb5f-24c98923ed17"
      },
      "outputs": [
        {
          "output_type": "display_data",
          "data": {
            "text/plain": [
              "interactive(children=(IntSlider(value=10, description='epochs', max=20, min=1), Dropdown(description='batch_si…"
            ],
            "application/vnd.jupyter.widget-view+json": {
              "version_major": 2,
              "version_minor": 0,
              "model_id": "27b49623038b4a8aa854eeb8aa71006f"
            }
          },
          "metadata": {}
        }
      ],
      "source": [
        "# Интерактивный вызов функции\n",
        "from ipywidgets import interact, IntSlider, Dropdown\n",
        "@interact(epochs=IntSlider(min=1, max=20, step=1, value=10),\n",
        "          batch_size=Dropdown(options=[32, 64, 128, 256], value=128))\n",
        "def interactive_train(epochs, batch_size):\n",
        "    train_model(epochs, batch_size)"
      ]
    },
    {
      "cell_type": "markdown",
      "metadata": {
        "id": "Hib9pKPZFdmK"
      },
      "source": [
        "## 4. Визуализация фильтров первого сверточного слоя\n",
        "\n",
        "Визуализируем фильтры первого сверточного слоя, чтобы показать, какие шаблоны модель изучает."
      ]
    },
    {
      "cell_type": "code",
      "execution_count": 6,
      "metadata": {
        "id": "UXyYdjsXFdmM",
        "colab": {
          "base_uri": "https://localhost:8080/",
          "height": 424
        },
        "outputId": "67c949b8-8a9c-45e0-afee-7d7d2ebea8c5"
      },
      "outputs": [
        {
          "output_type": "display_data",
          "data": {
            "text/plain": [
              "<Figure size 1200x600 with 32 Axes>"
            ],
            "image/png": "[encoded data removed]"
          },
          "metadata": {}
        }
      ],
      "source": [
        "# Визуализация фильтров первого сверточного слоя\n",
        "filters, biases = model.get_layer('conv1').get_weights()\n",
        "fig, axes = plt.subplots(4, 8, figsize=(12, 6))\n",
        "fig.suptitle('Фильтры первого сверточного слоя')\n",
        "for i in range(32):\n",
        "    ax = axes[i // 8, i % 8]\n",
        "    ax.imshow(filters[:, :, 0, i], cmap='gray')\n",
        "    ax.axis('off')\n",
        "plt.show()"
      ]
    },
    {
      "cell_type": "markdown",
      "metadata": {
        "id": "he9NJqHDFdmN"
      },
      "source": [
        "## 5. Графики точности и потерь\n",
        "\n",
        "Графики показывают изменение точности и потерь на тренировочных и валидационных данных."
      ]
    },
    {
      "cell_type": "code",
      "execution_count": 8,
      "metadata": {
        "id": "eggP1pA7FdmN",
        "colab": {
          "base_uri": "https://localhost:8080/",
          "height": 251
        },
        "outputId": "6307c46b-8395-46d2-eba0-0ad5ae459041"
      },
      "outputs": [
        {
          "output_type": "display_data",
          "data": {
            "text/plain": [
              "<Figure size 1200x400 with 2 Axes>"
            ],
            "image/png": "[encoded data removed]"
          },
          "metadata": {}
        }
      ],
      "source": [
        "# Графики точности и потерь\n",
        "plt.figure(figsize=(12, 4))\n",
        "\n",
        "plt.subplot(1, 2, 1)\n",
        "plt.plot(history.history['accuracy'], label='Точность на обучении')\n",
        "plt.plot(history.history['val_accuracy'], label='Точность на валидации')\n",
        "plt.title('Точность модели')\n",
        "plt.xlabel('Эпоха')\n",
        "plt.ylabel('Точность')\n",
        "plt.legend()\n",
        "\n",
        "plt.subplot(1, 2, 2)\n",
        "plt.plot(history.history['loss'], label='Потери на обучении')\n",
        "plt.plot(history.history['val_loss'], label='Потери на валидации')\n",
        "plt.title('Потери модели')\n",
        "plt.xlabel('Эпоха')\n",
        "plt.ylabel('Потери')\n",
        "plt.legend()\n",
        "\n",
        "plt.tight_layout()\n",
        "plt.show()"
      ]
    },
    {
      "cell_type": "markdown",
      "metadata": {
        "id": "5dBvRxrWFdmO"
      },
      "source": [
        "## 6. Интерактивная матрица ошибок\n",
        "\n",
        "Создаем интерактивную матрицу ошибок с помощью Plotly для более удобного анализа."
      ]
    },
    {
      "cell_type": "code",
      "execution_count": 9,
      "metadata": {
        "id": "E4EHUbZcFdmO",
        "colab": {
          "base_uri": "https://localhost:8080/",
          "height": 559
        },
        "outputId": "e3d87783-ce09-4ede-86bf-0d60d49cd800"
      },
      "outputs": [
        {
          "output_type": "stream",
          "name": "stdout",
          "text": [
            "\u001b[1m313/313\u001b[0m \u001b[32m━━━━━━━━━━━━━━━━━━━━\u001b[0m\u001b[37m\u001b[0m \u001b[1m1s\u001b[0m 2ms/step\n"
          ]
        },
        {
          "output_type": "display_data",
          "data": {
            "text/html": [
              "<html>\n",
              "<head><meta charset=\"utf-8\" /></head>\n",
              "<body>\n",
              "    <div>            <script src=\"https://cdnjs.cloudflare.com/ajax/libs/mathjax/2.7.5/MathJax.js?config=TeX-AMS-MML_SVG\"></script><script type=\"text/javascript\">if (window.MathJax && window.MathJax.Hub && window.MathJax.Hub.Config) {window.MathJax.Hub.Config({SVG: {font: \"STIX-Web\"}});}</script>                <script type=\"text/javascript\">window.PlotlyConfig = {MathJaxConfig: 'local'};</script>\n",
              "        <script charset=\"utf-8\" src=\"https://cdn.plot.ly/plotly-2.35.2.min.js\"></script>                <div id=\"037d21c4-f7be-44ab-a695-bd6bd16db4bd\" class=\"plotly-graph-div\" style=\"height:525px; width:100%;\"></div>            <script type=\"text/javascript\">                                    window.PLOTLYENV=window.PLOTLYENV || {};                                    if (document.getElementById(\"037d21c4-f7be-44ab-a695-bd6bd16db4bd\")) {                    Plotly.newPlot(                        \"037d21c4-f7be-44ab-a695-bd6bd16db4bd\",                        [{\"coloraxis\":\"coloraxis\",\"name\":\"0\",\"texttemplate\":\"%{z}\",\"z\":[[978,0,1,0,0,0,0,1,0,0],[0,1131,1,2,0,0,1,0,0,0],[1,2,1021,0,1,0,0,7,0,0],[0,0,1,1005,0,2,0,1,1,0],[0,0,1,0,971,0,3,1,0,6],[2,1,0,7,0,876,2,1,2,1],[2,2,0,0,1,1,951,0,1,0],[0,3,1,1,0,0,0,1022,0,1],[3,1,1,2,0,1,0,2,963,1],[0,2,0,1,3,4,0,4,1,994]],\"type\":\"heatmap\",\"xaxis\":\"x\",\"yaxis\":\"y\",\"hovertemplate\":\"Предсказанный класс: %{x}\\u003cbr\\u003eИстинный класс: %{y}\\u003cbr\\u003eКоличество: %{z}\\u003cextra\\u003e\\u003c\\u002fextra\\u003e\"}],                        {\"template\":{\"data\":{\"histogram2dcontour\":[{\"type\":\"histogram2dcontour\",\"colorbar\":{\"outlinewidth\":0,\"ticks\":\"\"},\"colorscale\":[[0.0,\"#0d0887\"],[0.1111111111111111,\"#46039f\"],[0.2222222222222222,\"#7201a8\"],[0.3333333333333333,\"#9c179e\"],[0.4444444444444444,\"#bd3786\"],[0.5555555555555556,\"#d8576b\"],[0.6666666666666666,\"#ed7953\"],[0.7777777777777778,\"#fb9f3a\"],[0.8888888888888888,\"#fdca26\"],[1.0,\"#f0f921\"]]}],\"choropleth\":[{\"type\":\"choropleth\",\"colorbar\":{\"outlinewidth\":0,\"ticks\":\"\"}}],\"histogram2d\":[{\"type\":\"histogram2d\",\"colorbar\":{\"outlinewidth\":0,\"ticks\":\"\"},\"colorscale\":[[0.0,\"#0d0887\"],[0.1111111111111111,\"#46039f\"],[0.2222222222222222,\"#7201a8\"],[0.3333333333333333,\"#9c179e\"],[0.4444444444444444,\"#bd3786\"],[0.5555555555555556,\"#d8576b\"],[0.6666666666666666,\"#ed7953\"],[0.7777777777777778,\"#fb9f3a\"],[0.8888888888888888,\"#fdca26\"],[1.0,\"#f0f921\"]]}],\"heatmap\":[{\"type\":\"heatmap\",\"colorbar\":{\"outlinewidth\":0,\"ticks\":\"\"},\"colorscale\":[[0.0,\"#0d0887\"],[0.1111111111111111,\"#46039f\"],[0.2222222222222222,\"#7201a8\"],[0.3333333333333333,\"#9c179e\"],[0.4444444444444444,\"#bd3786\"],[0.5555555555555556,\"#d8576b\"],[0.6666666666666666,\"#ed7953\"],[0.7777777777777778,\"#fb9f3a\"],[0.8888888888888888,\"#fdca26\"],[1.0,\"#f0f921\"]]}],\"heatmapgl\":[{\"type\":\"heatmapgl\",\"colorbar\":{\"outlinewidth\":0,\"ticks\":\"\"},\"colorscale\":[[0.0,\"#0d0887\"],[0.1111111111111111,\"#46039f\"],[0.2222222222222222,\"#7201a8\"],[0.3333333333333333,\"#9c179e\"],[0.4444444444444444,\"#bd3786\"],[0.5555555555555556,\"#d8576b\"],[0.6666666666666666,\"#ed7953\"],[0.7777777777777778,\"#fb9f3a\"],[0.8888888888888888,\"#fdca26\"],[1.0,\"#f0f921\"]]}],\"contourcarpet\":[{\"type\":\"contourcarpet\",\"colorbar\":{\"outlinewidth\":0,\"ticks\":\"\"}}],\"contour\":[{\"type\":\"contour\",\"colorbar\":{\"outlinewidth\":0,\"ticks\":\"\"},\"colorscale\":[[0.0,\"#0d0887\"],[0.1111111111111111,\"#46039f\"],[0.2222222222222222,\"#7201a8\"],[0.3333333333333333,\"#9c179e\"],[0.4444444444444444,\"#bd3786\"],[0.5555555555555556,\"#d8576b\"],[0.6666666666666666,\"#ed7953\"],[0.7777777777777778,\"#fb9f3a\"],[0.8888888888888888,\"#fdca26\"],[1.0,\"#f0f921\"]]}],\"surface\":[{\"type\":\"surface\",\"colorbar\":{\"outlinewidth\":0,\"ticks\":\"\"},\"colorscale\":[[0.0,\"#0d0887\"],[0.1111111111111111,\"#46039f\"],[0.2222222222222222,\"#7201a8\"],[0.3333333333333333,\"#9c179e\"],[0.4444444444444444,\"#bd3786\"],[0.5555555555555556,\"#d8576b\"],[0.6666666666666666,\"#ed7953\"],[0.7777777777777778,\"#fb9f3a\"],[0.8888888888888888,\"#fdca26\"],[1.0,\"#f0f921\"]]}],\"mesh3d\":[{\"type\":\"mesh3d\",\"colorbar\":{\"outlinewidth\":0,\"ticks\":\"\"}}],\"scatter\":[{\"fillpattern\":{\"fillmode\":\"overlay\",\"size\":10,\"solidity\":0.2},\"type\":\"scatter\"}],\"parcoords\":[{\"type\":\"parcoords\",\"line\":{\"colorbar\":{\"outlinewidth\":0,\"ticks\":\"\"}}}],\"scatterpolargl\":[{\"type\":\"scatterpolargl\",\"marker\":{\"colorbar\":{\"outlinewidth\":0,\"ticks\":\"\"}}}],\"bar\":[{\"error_x\":{\"color\":\"#2a3f5f\"},\"error_y\":{\"color\":\"#2a3f5f\"},\"marker\":{\"line\":{\"color\":\"#E5ECF6\",\"width\":0.5},\"pattern\":{\"fillmode\":\"overlay\",\"size\":10,\"solidity\":0.2}},\"type\":\"bar\"}],\"scattergeo\":[{\"type\":\"scattergeo\",\"marker\":{\"colorbar\":{\"outlinewidth\":0,\"ticks\":\"\"}}}],\"scatterpolar\":[{\"type\":\"scatterpolar\",\"marker\":{\"colorbar\":{\"outlinewidth\":0,\"ticks\":\"\"}}}],\"histogram\":[{\"marker\":{\"pattern\":{\"fillmode\":\"overlay\",\"size\":10,\"solidity\":0.2}},\"type\":\"histogram\"}],\"scattergl\":[{\"type\":\"scattergl\",\"marker\":{\"colorbar\":{\"outlinewidth\":0,\"ticks\":\"\"}}}],\"scatter3d\":[{\"type\":\"scatter3d\",\"line\":{\"colorbar\":{\"outlinewidth\":0,\"ticks\":\"\"}},\"marker\":{\"colorbar\":{\"outlinewidth\":0,\"ticks\":\"\"}}}],\"scattermapbox\":[{\"type\":\"scattermapbox\",\"marker\":{\"colorbar\":{\"outlinewidth\":0,\"ticks\":\"\"}}}],\"scatterternary\":[{\"type\":\"scatterternary\",\"marker\":{\"colorbar\":{\"outlinewidth\":0,\"ticks\":\"\"}}}],\"scattercarpet\":[{\"type\":\"scattercarpet\",\"marker\":{\"colorbar\":{\"outlinewidth\":0,\"ticks\":\"\"}}}],\"carpet\":[{\"aaxis\":{\"endlinecolor\":\"#2a3f5f\",\"gridcolor\":\"white\",\"linecolor\":\"white\",\"minorgridcolor\":\"white\",\"startlinecolor\":\"#2a3f5f\"},\"baxis\":{\"endlinecolor\":\"#2a3f5f\",\"gridcolor\":\"white\",\"linecolor\":\"white\",\"minorgridcolor\":\"white\",\"startlinecolor\":\"#2a3f5f\"},\"type\":\"carpet\"}],\"table\":[{\"cells\":{\"fill\":{\"color\":\"#EBF0F8\"},\"line\":{\"color\":\"white\"}},\"header\":{\"fill\":{\"color\":\"#C8D4E3\"},\"line\":{\"color\":\"white\"}},\"type\":\"table\"}],\"barpolar\":[{\"marker\":{\"line\":{\"color\":\"#E5ECF6\",\"width\":0.5},\"pattern\":{\"fillmode\":\"overlay\",\"size\":10,\"solidity\":0.2}},\"type\":\"barpolar\"}],\"pie\":[{\"automargin\":true,\"type\":\"pie\"}]},\"layout\":{\"autotypenumbers\":\"strict\",\"colorway\":[\"#636efa\",\"#EF553B\",\"#00cc96\",\"#ab63fa\",\"#FFA15A\",\"#19d3f3\",\"#FF6692\",\"#B6E880\",\"#FF97FF\",\"#FECB52\"],\"font\":{\"color\":\"#2a3f5f\"},\"hovermode\":\"closest\",\"hoverlabel\":{\"align\":\"left\"},\"paper_bgcolor\":\"white\",\"plot_bgcolor\":\"#E5ECF6\",\"polar\":{\"bgcolor\":\"#E5ECF6\",\"angularaxis\":{\"gridcolor\":\"white\",\"linecolor\":\"white\",\"ticks\":\"\"},\"radialaxis\":{\"gridcolor\":\"white\",\"linecolor\":\"white\",\"ticks\":\"\"}},\"ternary\":{\"bgcolor\":\"#E5ECF6\",\"aaxis\":{\"gridcolor\":\"white\",\"linecolor\":\"white\",\"ticks\":\"\"},\"baxis\":{\"gridcolor\":\"white\",\"linecolor\":\"white\",\"ticks\":\"\"},\"caxis\":{\"gridcolor\":\"white\",\"linecolor\":\"white\",\"ticks\":\"\"}},\"coloraxis\":{\"colorbar\":{\"outlinewidth\":0,\"ticks\":\"\"}},\"colorscale\":{\"sequential\":[[0.0,\"#0d0887\"],[0.1111111111111111,\"#46039f\"],[0.2222222222222222,\"#7201a8\"],[0.3333333333333333,\"#9c179e\"],[0.4444444444444444,\"#bd3786\"],[0.5555555555555556,\"#d8576b\"],[0.6666666666666666,\"#ed7953\"],[0.7777777777777778,\"#fb9f3a\"],[0.8888888888888888,\"#fdca26\"],[1.0,\"#f0f921\"]],\"sequentialminus\":[[0.0,\"#0d0887\"],[0.1111111111111111,\"#46039f\"],[0.2222222222222222,\"#7201a8\"],[0.3333333333333333,\"#9c179e\"],[0.4444444444444444,\"#bd3786\"],[0.5555555555555556,\"#d8576b\"],[0.6666666666666666,\"#ed7953\"],[0.7777777777777778,\"#fb9f3a\"],[0.8888888888888888,\"#fdca26\"],[1.0,\"#f0f921\"]],\"diverging\":[[0,\"#8e0152\"],[0.1,\"#c51b7d\"],[0.2,\"#de77ae\"],[0.3,\"#f1b6da\"],[0.4,\"#fde0ef\"],[0.5,\"#f7f7f7\"],[0.6,\"#e6f5d0\"],[0.7,\"#b8e186\"],[0.8,\"#7fbc41\"],[0.9,\"#4d9221\"],[1,\"#276419\"]]},\"xaxis\":{\"gridcolor\":\"white\",\"linecolor\":\"white\",\"ticks\":\"\",\"title\":{\"standoff\":15},\"zerolinecolor\":\"white\",\"automargin\":true,\"zerolinewidth\":2},\"yaxis\":{\"gridcolor\":\"white\",\"linecolor\":\"white\",\"ticks\":\"\",\"title\":{\"standoff\":15},\"zerolinecolor\":\"white\",\"automargin\":true,\"zerolinewidth\":2},\"scene\":{\"xaxis\":{\"backgroundcolor\":\"#E5ECF6\",\"gridcolor\":\"white\",\"linecolor\":\"white\",\"showbackground\":true,\"ticks\":\"\",\"zerolinecolor\":\"white\",\"gridwidth\":2},\"yaxis\":{\"backgroundcolor\":\"#E5ECF6\",\"gridcolor\":\"white\",\"linecolor\":\"white\",\"showbackground\":true,\"ticks\":\"\",\"zerolinecolor\":\"white\",\"gridwidth\":2},\"zaxis\":{\"backgroundcolor\":\"#E5ECF6\",\"gridcolor\":\"white\",\"linecolor\":\"white\",\"showbackground\":true,\"ticks\":\"\",\"zerolinecolor\":\"white\",\"gridwidth\":2}},\"shapedefaults\":{\"line\":{\"color\":\"#2a3f5f\"}},\"annotationdefaults\":{\"arrowcolor\":\"#2a3f5f\",\"arrowhead\":0,\"arrowwidth\":1},\"geo\":{\"bgcolor\":\"white\",\"landcolor\":\"#E5ECF6\",\"subunitcolor\":\"white\",\"showland\":true,\"showlakes\":true,\"lakecolor\":\"white\"},\"title\":{\"x\":0.05},\"mapbox\":{\"style\":\"light\"}}},\"xaxis\":{\"anchor\":\"y\",\"domain\":[0.0,1.0],\"scaleanchor\":\"y\",\"constrain\":\"domain\",\"title\":{\"text\":\"Предсказанный класс\"},\"side\":\"top\"},\"yaxis\":{\"anchor\":\"x\",\"domain\":[0.0,1.0],\"autorange\":\"reversed\",\"constrain\":\"domain\",\"title\":{\"text\":\"Истинный класс\"}},\"coloraxis\":{\"colorbar\":{\"title\":{\"text\":\"Количество\"}},\"colorscale\":[[0.0,\"rgb(247,251,255)\"],[0.125,\"rgb(222,235,247)\"],[0.25,\"rgb(198,219,239)\"],[0.375,\"rgb(158,202,225)\"],[0.5,\"rgb(107,174,214)\"],[0.625,\"rgb(66,146,198)\"],[0.75,\"rgb(33,113,181)\"],[0.875,\"rgb(8,81,156)\"],[1.0,\"rgb(8,48,107)\"]]},\"title\":{\"text\":\"Интерактивная матрица ошибок\"}},                        {\"responsive\": true}                    ).then(function(){\n",
              "                            \n",
              "var gd = document.getElementById('037d21c4-f7be-44ab-a695-bd6bd16db4bd');\n",
              "var x = new MutationObserver(function (mutations, observer) {{\n",
              "        var display = window.getComputedStyle(gd).display;\n",
              "        if (!display || display === 'none') {{\n",
              "            console.log([gd, 'removed!']);\n",
              "            Plotly.purge(gd);\n",
              "            observer.disconnect();\n",
              "        }}\n",
              "}});\n",
              "\n",
              "// Listen for the removal of the full notebook cells\n",
              "var notebookContainer = gd.closest('#notebook-container');\n",
              "if (notebookContainer) {{\n",
              "    x.observe(notebookContainer, {childList: true});\n",
              "}}\n",
              "\n",
              "// Listen for the clearing of the current output cell\n",
              "var outputEl = gd.closest('.output');\n",
              "if (outputEl) {{\n",
              "    x.observe(outputEl, {childList: true});\n",
              "}}\n",
              "\n",
              "                        })                };                            </script>        </div>\n",
              "</body>\n",
              "</html>"
            ]
          },
          "metadata": {}
        }
      ],
      "source": [
        "# Матрица ошибок\n",
        "y_pred = model.predict(X_test)\n",
        "y_pred_classes = np.argmax(y_pred, axis=1)\n",
        "y_true = np.argmax(y_test, axis=1)\n",
        "cm = confusion_matrix(y_true, y_pred_classes)\n",
        "\n",
        "# Интерактивная матрица ошибок с Plotly\n",
        "fig = px.imshow(cm, text_auto=True, color_continuous_scale='Blues',\n",
        "                labels=dict(x='Предсказанный класс', y='Истинный класс', color='Количество'),\n",
        "                title='Интерактивная матрица ошибок')\n",
        "fig.update_xaxes(side='top')\n",
        "fig.show()"
      ]
    },
    {
      "cell_type": "markdown",
      "metadata": {
        "id": "iOrEQ_K3FdmO"
      },
      "source": [
        "## 7. Анализ ошибок классификации\n",
        "\n",
        "Визуализируем изображения, которые модель классифицировала неверно."
      ]
    },
    {
      "cell_type": "code",
      "execution_count": 10,
      "metadata": {
        "id": "Ni9NL59lFdmP",
        "colab": {
          "base_uri": "https://localhost:8080/",
          "height": 556,
          "referenced_widgets": [
            "c46c55e6ed78470a9e2c0e85284e3193",
            "539d42cf2a704f8fb768de3222a7a144",
            "77d06b1ec72543c2b42e791884e12911",
            "b6524b7db1014e469934db5fd30c4069",
            "67ef48b799c6482282583b8a4ee8bdfb",
            "4ae69195e31840e9b1aaaa4e4f9067d1",
            "7d531ecc319f49c497468970dc513334"
          ]
        },
        "outputId": "59e8920e-928e-453e-b84f-c952fb980ca9"
      },
      "outputs": [
        {
          "output_type": "display_data",
          "data": {
            "text/plain": [
              "interactive(children=(IntSlider(value=10, description='num_samples', max=20, min=1), Output()), _dom_classes=(…"
            ],
            "application/vnd.jupyter.widget-view+json": {
              "version_major": 2,
              "version_minor": 0,
              "model_id": "c46c55e6ed78470a9e2c0e85284e3193"
            }
          },
          "metadata": {}
        }
      ],
      "source": [
        "@interact(num_samples=IntSlider(min=1, max=20, step=1, value=10))\n",
        "def visualize_misclassifications(num_samples):\n",
        "    incorrect_indices = np.where(y_pred_classes != y_true)[0]\n",
        "    num_samples = min(num_samples, len(incorrect_indices))\n",
        "\n",
        "    plt.figure(figsize=(15, 3 * num_samples // 5 + 1))\n",
        "    plt.suptitle('Неверно классифицированные изображения')\n",
        "    for i, idx in enumerate(incorrect_indices[:num_samples]):\n",
        "        plt.subplot(num_samples // 5 + 1, 5, i + 1)\n",
        "        plt.imshow(X_test[idx].reshape(28, 28), cmap='gray')\n",
        "        plt.title(f'Предсказано: {y_pred_classes[idx]}\\nИстинное: {y_true[idx]}')\n",
        "        plt.axis('off')\n",
        "    plt.tight_layout()\n",
        "    plt.show()"
      ]
    },
    {
      "cell_type": "markdown",
      "metadata": {
        "id": "fUGY3CzmQwgk"
      },
      "source": [
        "## 8. Интерактивное предсказание для выбранного изображения\n",
        "\n",
        "Выберите индекс тестового изображения, чтобы увидеть предсказание модели и распределение вероятностей."
      ]
    },
    {
      "cell_type": "code",
      "execution_count": 11,
      "metadata": {
        "colab": {
          "base_uri": "https://localhost:8080/",
          "height": 461,
          "referenced_widgets": [
            "4f1801f2b01247c79f1d9b08f121cc22",
            "0649064751294b6e981090f08cbd5274",
            "95f8555223554fc68a8be2b408494c98",
            "5c283d9b1ba545e489ffba0494f48340",
            "c4b36b2112dc44c9b033e98db9b090a8",
            "03ad2459f8f144b4bc232025c1c537e0",
            "bfce11e53082435e9cec5d238bd4e739"
          ]
        },
        "id": "h56kwJjKQwgk",
        "outputId": "21441c67-8896-4850-ea90-39dac8ef1064"
      },
      "outputs": [
        {
          "output_type": "display_data",
          "data": {
            "text/plain": [
              "interactive(children=(IntSlider(value=0, description='image_idx', max=9999), Output()), _dom_classes=('widget-…"
            ],
            "application/vnd.jupyter.widget-view+json": {
              "version_major": 2,
              "version_minor": 0,
              "model_id": "4f1801f2b01247c79f1d9b08f121cc22"
            }
          },
          "metadata": {}
        }
      ],
      "source": [
        "@interact(image_idx=IntSlider(min=0, max=len(X_test)-1, step=1, value=0))\n",
        "def predict_image(image_idx):\n",
        "    pred = model.predict(X_test[image_idx:image_idx+1])\n",
        "    pred_class = np.argmax(pred, axis=1)[0]\n",
        "    true_class = y_true[image_idx]\n",
        "\n",
        "    # Визуализация изображения\n",
        "    plt.figure(figsize=(8, 4))\n",
        "    plt.subplot(1, 2, 1)\n",
        "    plt.imshow(X_test[image_idx].reshape(28, 28), cmap='gray')\n",
        "    plt.title(f'Предсказано: {pred_class}\\nИстинное: {true_class}')\n",
        "    plt.axis('off')\n",
        "\n",
        "    # Визуализация вероятностей\n",
        "    plt.subplot(1, 2, 2)\n",
        "    plt.bar(range(10), pred[0])\n",
        "    plt.title('Вероятности классов')\n",
        "    plt.xlabel('Класс')\n",
        "    plt.ylabel('Вероятность')\n",
        "    plt.tight_layout()\n",
        "    plt.show()"
      ]
    },
    {
      "cell_type": "markdown",
      "source": [
        "## 9. Интерактивное рисование и предсказание\n",
        "\n",
        "Нарисуйте цифру мышью на канвасе, нажмите \\\"Предсказать\\\", чтобы получить предсказание модели. Показаны предсказанный класс, уверенность и топ-3 вероятности."
      ],
      "metadata": {
        "id": "7Oq41apaTv7y"
      }
    },
    {
      "cell_type": "code",
      "source": [
        "import numpy as np\n",
        "import matplotlib.pyplot as plt\n",
        "import base64\n",
        "import io\n",
        "from PIL import Image\n",
        "from IPython.display import HTML, display\n",
        "from google.colab import output\n",
        "\n",
        "# HTML/JavaScript для рисования\n",
        "canvas_html = \"\"\"\n",
        "<canvas id='canvas' width='280' height='280' style='border:2px solid black;'></canvas>\n",
        "<br>\n",
        "<button onclick='clearCanvas()'>Очистить</button>\n",
        "<button onclick='predict()'>Предсказать</button>\n",
        "<script>\n",
        "var canvas = document.getElementById('canvas');\n",
        "var ctx = canvas.getContext('2d');\n",
        "ctx.fillStyle = 'black';\n",
        "ctx.fillRect(0, 0, canvas.width, canvas.height);\n",
        "ctx.strokeStyle = 'white';\n",
        "ctx.lineWidth = 20;\n",
        "ctx.lineCap = 'round';\n",
        "var drawing = false;\n",
        "\n",
        "canvas.addEventListener('mousedown', function(e) {\n",
        "    drawing = true;\n",
        "    ctx.beginPath();\n",
        "    ctx.moveTo(e.offsetX, e.offsetY);\n",
        "});\n",
        "\n",
        "canvas.addEventListener('mousemove', function(e) {\n",
        "    if (drawing) {\n",
        "        ctx.lineTo(e.offsetX, e.offsetY);\n",
        "        ctx.stroke();\n",
        "    }\n",
        "});\n",
        "\n",
        "canvas.addEventListener('mouseup', function() {\n",
        "    drawing = false;\n",
        "    ctx.closePath();\n",
        "});\n",
        "\n",
        "function clearCanvas() {\n",
        "    ctx.fillStyle = 'black';\n",
        "    ctx.fillRect(0, 0, canvas.width, canvas.height);\n",
        "}\n",
        "\n",
        "function predict() {\n",
        "    var dataURL = canvas.toDataURL('image/png');\n",
        "    google.colab.kernel.invokeFunction('notebook.predict', [dataURL], {});\n",
        "}\n",
        "</script>\n",
        "\"\"\"\n",
        "\n",
        "# Отображаем канвас\n",
        "display(HTML(canvas_html))\n",
        "\n",
        "# Функция для обработки изображения и предсказания\n",
        "def predict_drawing(data_url):\n",
        "    # Декодируем base64 изображение\n",
        "    img_data = base64.b64decode(data_url.split(',')[1])\n",
        "    img = Image.open(io.BytesIO(img_data)).convert('L')  # Конвертируем в grayscale\n",
        "    img = img.resize((28, 28))  # Изменяем размер до 28x28\n",
        "    img_array = np.array(img) / 255.0  # Нормализация\n",
        "    img_array = img_array.reshape(1, 28, 28, 1)  # Формат для модели\n",
        "\n",
        "    # Предсказание\n",
        "    # Убедитесь, что ваша модель (например, 'model') загружена и доступна\n",
        "    # Например, если вы использовали модель из предыдущих шагов:\n",
        "    # from tensorflow.keras.models import load_model\n",
        "    # model = load_model('путь_к_вашей_модели.h5') # Или используйте модель, обученную в предыдущих ячейках\n",
        "    pred = model.predict(img_array)\n",
        "    pred_class = np.argmax(pred, axis=1)[0]\n",
        "    confidence = np.max(pred) * 100\n",
        "\n",
        "    # Топ-3 класса\n",
        "    top3_indices = np.argsort(pred[0])[-3:][::-1]\n",
        "    top3_probs = pred[0][top3_indices] * 100\n",
        "    top3_text = '\\n'.join([f'Класс {idx}: {prob:.2f}%' for idx, prob in zip(top3_indices, top3_probs)])\n",
        "\n",
        "    # Визуализация\n",
        "    plt.figure(figsize=(10, 5))\n",
        "    plt.subplot(1, 2, 1)\n",
        "    plt.imshow(img_array.reshape(28, 28), cmap='gray')\n",
        "    plt.title(f'Предсказано: {pred_class}\\nУверенность: {confidence:.2f}%\\n\\nТоп-3:\\n{top3_text}')\n",
        "    plt.axis('off')\n",
        "\n",
        "    plt.subplot(1, 2, 2)\n",
        "    plt.bar(range(10), pred[0])\n",
        "    plt.title('Вероятности классов')\n",
        "    plt.xlabel('Класс')\n",
        "    plt.ylabel('Вероятность')\n",
        "    plt.tight_layout()\n",
        "    plt.show()\n",
        "\n",
        "# Регистрируем функцию для вызова из JavaScript\n",
        "output.register_callback('notebook.predict', predict_drawing)"
      ],
      "metadata": {
        "colab": {
          "base_uri": "https://localhost:8080/",
          "height": 1000
        },
        "id": "6k-MzzB_UEY_",
        "outputId": "de3aa320-022f-4f1a-c2c5-50fff9164528"
      },
      "execution_count": 12,
      "outputs": [
        {
          "output_type": "display_data",
          "data": {
            "text/plain": [
              "<IPython.core.display.HTML object>"
            ],
            "text/html": [
              "\n",
              "<canvas id='canvas' width='280' height='280' style='border:2px solid black;'></canvas>\n",
              "<br>\n",
              "<button onclick='clearCanvas()'>Очистить</button>\n",
              "<button onclick='predict()'>Предсказать</button>\n",
              "<script>\n",
              "var canvas = document.getElementById('canvas');\n",
              "var ctx = canvas.getContext('2d');\n",
              "ctx.fillStyle = 'black';\n",
              "ctx.fillRect(0, 0, canvas.width, canvas.height);\n",
              "ctx.strokeStyle = 'white';\n",
              "ctx.lineWidth = 20;\n",
              "ctx.lineCap = 'round';\n",
              "var drawing = false;\n",
              "\n",
              "canvas.addEventListener('mousedown', function(e) {\n",
              "    drawing = true;\n",
              "    ctx.beginPath();\n",
              "    ctx.moveTo(e.offsetX, e.offsetY);\n",
              "});\n",
              "\n",
              "canvas.addEventListener('mousemove', function(e) {\n",
              "    if (drawing) {\n",
              "        ctx.lineTo(e.offsetX, e.offsetY);\n",
              "        ctx.stroke();\n",
              "    }\n",
              "});\n",
              "\n",
              "canvas.addEventListener('mouseup', function() {\n",
              "    drawing = false;\n",
              "    ctx.closePath();\n",
              "});\n",
              "\n",
              "function clearCanvas() {\n",
              "    ctx.fillStyle = 'black';\n",
              "    ctx.fillRect(0, 0, canvas.width, canvas.height);\n",
              "}\n",
              "\n",
              "function predict() {\n",
              "    var dataURL = canvas.toDataURL('image/png');\n",
              "    google.colab.kernel.invokeFunction('notebook.predict', [dataURL], {});\n",
              "}\n",
              "</script>\n"
            ]
          },
          "metadata": {}
        },
        {
          "output_type": "stream",
          "name": "stdout",
          "text": [
            "\u001b[1m1/1\u001b[0m \u001b[32m━━━━━━━━━━━━━━━━━━━━\u001b[0m\u001b[37m\u001b[0m \u001b[1m0s\u001b[0m 31ms/step\n"
          ]
        },
        {
          "output_type": "display_data",
          "data": {
            "text/plain": [
              "<Figure size 1000x500 with 2 Axes>"
            ],
            "image/png": "[encoded data removed]"
          },
          "metadata": {}
        },
        {
          "output_type": "stream",
          "name": "stdout",
          "text": [
            "\u001b[1m1/1\u001b[0m \u001b[32m━━━━━━━━━━━━━━━━━━━━\u001b[0m\u001b[37m\u001b[0m \u001b[1m0s\u001b[0m 34ms/step\n"
          ]
        },
        {
          "output_type": "display_data",
          "data": {
            "text/plain": [
              "<Figure size 1000x500 with 2 Axes>"
            ],
            "image/png": "[encoded data removed]"
          },
          "metadata": {}
        },
        {
          "output_type": "stream",
          "name": "stdout",
          "text": [
            "\u001b[1m1/1\u001b[0m \u001b[32m━━━━━━━━━━━━━━━━━━━━\u001b[0m\u001b[37m\u001b[0m \u001b[1m0s\u001b[0m 49ms/step\n"
          ]
        },
        {
          "output_type": "display_data",
          "data": {
            "text/plain": [
              "<Figure size 1000x500 with 2 Axes>"
            ],
            "image/png": "[encoded data removed]"
          },
          "metadata": {}
        }
      ]
    }
  ],
  "metadata": {
    "kernelspec": {
      "display_name": "Python 3",
      "name": "python3"
    },
    "language_info": {
      "codemirror_mode": {
        "name": "ipython",
        "version": 3
      },
      "file_extension": ".py",
      "mimetype": "text/x-python",
      "name": "python",
      "nbconvert_exporter": "python",
      "pygments_lexer": "ipython3",
      "version": "3.8.5"
    },
    "colab": {
      "provenance": [],
      "gpuType": "T4"
    },
    "accelerator": "GPU",
    "widgets": {
      "application/vnd.jupyter.widget-state+json": {
        "27b49623038b4a8aa854eeb8aa71006f": {
          "model_module": "@jupyter-widgets/controls",
          "model_name": "VBoxModel",
          "model_module_version": "1.5.0",
          "state": {
            "_dom_classes": [
              "widget-interact"
            ],
            "_model_module": "@jupyter-widgets/controls",
            "_model_module_version": "1.5.0",
            "_model_name": "VBoxModel",
            "_view_count": null,
            "_view_module": "@jupyter-widgets/controls",
            "_view_module_version": "1.5.0",
            "_view_name": "VBoxView",
            "box_style": "",
            "children": [
              "IPY_MODEL_6d46c40d1da247a1b7c418e5b652c13a",
              "IPY_MODEL_1cef2223d5c049efaaee53228b3af1ac",
              "IPY_MODEL_e8c9bb768d7a4aa6b3b450bf7700bc5f"
            ],
            "layout": "IPY_MODEL_a25a61c1ef7a4174ac65612a29652042"
          }
        },
        "6d46c40d1da247a1b7c418e5b652c13a": {
          "model_module": "@jupyter-widgets/controls",
          "model_name": "IntSliderModel",
          "model_module_version": "1.5.0",
          "state": {
            "_dom_classes": [],
            "_model_module": "@jupyter-widgets/controls",
            "_model_module_version": "1.5.0",
            "_model_name": "IntSliderModel",
            "_view_count": null,
            "_view_module": "@jupyter-widgets/controls",
            "_view_module_version": "1.5.0",
            "_view_name": "IntSliderView",
            "continuous_update": true,
            "description": "epochs",
            "description_tooltip": null,
            "disabled": false,
            "layout": "IPY_MODEL_185faa38ff2a44a1a99296431a782626",
            "max": 20,
            "min": 1,
            "orientation": "horizontal",
            "readout": true,
            "readout_format": "d",
            "step": 1,
            "style": "IPY_MODEL_c01deb0861884acfa72de4649e6e1128",
            "value": 10
          }
        },
        "1cef2223d5c049efaaee53228b3af1ac": {
          "model_module": "@jupyter-widgets/controls",
          "model_name": "DropdownModel",
          "model_module_version": "1.5.0",
          "state": {
            "_dom_classes": [],
            "_model_module": "@jupyter-widgets/controls",
            "_model_module_version": "1.5.0",
            "_model_name": "DropdownModel",
            "_options_labels": [
              "32",
              "64",
              "128",
              "256"
            ],
            "_view_count": null,
            "_view_module": "@jupyter-widgets/controls",
            "_view_module_version": "1.5.0",
            "_view_name": "DropdownView",
            "description": "batch_size",
            "description_tooltip": null,
            "disabled": false,
            "index": 2,
            "layout": "IPY_MODEL_77a02c4b12ee470fad816fbf021bbe1e",
            "style": "IPY_MODEL_5b4751cbe9734fbc91b4b93ba7eaf2b6"
          }
        },
        "e8c9bb768d7a4aa6b3b450bf7700bc5f": {
          "model_module": "@jupyter-widgets/output",
          "model_name": "OutputModel",
          "model_module_version": "1.0.0",
          "state": {
            "_dom_classes": [],
            "_model_module": "@jupyter-widgets/output",
            "_model_module_version": "1.0.0",
            "_model_name": "OutputModel",
            "_view_count": null,
            "_view_module": "@jupyter-widgets/output",
            "_view_module_version": "1.0.0",
            "_view_name": "OutputView",
            "layout": "IPY_MODEL_df8683a8e9364ae996b4c0acb7471ad7",
            "msg_id": "",
            "outputs": [
              {
                "output_type": "stream",
                "name": "stdout",
                "text": [
                  "Epoch 1/10\n"
                ]
              },
              {
                "output_type": "stream",
                "name": "stdout",
                "text": [
                  "\r\u001b[1m  1/375\u001b[0m \u001b[37m━━━━━━━━━━━━━━━━━━━━\u001b[0m \u001b[1m31:13\u001b[0m 5s/step - accuracy: 0.0859 - loss: 2.2974"
                ]
              },
              {
                "output_type": "stream",
                "name": "stdout",
                "text": [
                  "\b\b\b\b\b\b\b\b\b\b\b\b\b\b\b\b\b\b\b\b\b\b\b\b\b\b\b\b\b\b\b\b\b\b\b\b\b\b\b\b\b\b\b\b\b\b\b\b\b\b\b\b\b\b\b\b\b\b\b\b\b\b\b\b\b\b\b\b\b\b\b\b\b\b\b\b\r\u001b[1m 14/375\u001b[0m \u001b[37m━━━━━━━━━━━━━━━━━━━━\u001b[0m \u001b[1m1s\u001b[0m 4ms/step - accuracy: 0.2290 - loss: 2.1814  "
                ]
              },
              {
                "output_type": "stream",
                "name": "stdout",
                "text": [
                  "\b\b\b\b\b\b\b\b\b\b\b\b\b\b\b\b\b\b\b\b\b\b\b\b\b\b\b\b\b\b\b\b\b\b\b\b\b\b\b\b\b\b\b\b\b\b\b\b\b\b\b\b\b\b\b\b\b\b\b\b\b\b\b\b\b\b\b\b\b\b\b\b\b\b\r\u001b[1m 28/375\u001b[0m \u001b[32m━\u001b[0m\u001b[37m━━━━━━━━━━━━━━━━━━━\u001b[0m \u001b[1m1s\u001b[0m 4ms/step - accuracy: 0.3394 - loss: 1.9769"
                ]
              },
              {
                "output_type": "stream",
                "name": "stdout",
                "text": [
                  "\b\b\b\b\b\b\b\b\b\b\b\b\b\b\b\b\b\b\b\b\b\b\b\b\b\b\b\b\b\b\b\b\b\b\b\b\b\b\b\b\b\b\b\b\b\b\b\b\b\b\b\b\b\b\b\b\b\b\b\b\b\b\b\b\b\b\b\b\b\b\b\b\b\b\r\u001b[1m 42/375\u001b[0m \u001b[32m━━\u001b[0m\u001b[37m━━━━━━━━━━━━━━━━━━\u001b[0m \u001b[1m1s\u001b[0m 4ms/step - accuracy: 0.4141 - loss: 1.7861"
                ]
              },
              {
                "output_type": "stream",
                "name": "stdout",
                "text": [
                  "\b\b\b\b\b\b\b\b\b\b\b\b\b\b\b\b\b\b\b\b\b\b\b\b\b\b\b\b\b\b\b\b\b\b\b\b\b\b\b\b\b\b\b\b\b\b\b\b\b\b\b\b\b\b\b\b\b\b\b\b\b\b\b\b\b\b\b\b\b\b\b\b\b\b\r\u001b[1m 56/375\u001b[0m \u001b[32m━━\u001b[0m\u001b[37m━━━━━━━━━━━━━━━━━━\u001b[0m \u001b[1m1s\u001b[0m 4ms/step - accuracy: 0.4702 - loss: 1.6309"
                ]
              },
              {
                "output_type": "stream",
                "name": "stdout",
                "text": [
                  "\b\b\b\b\b\b\b\b\b\b\b\b\b\b\b\b\b\b\b\b\b\b\b\b\b\b\b\b\b\b\b\b\b\b\b\b\b\b\b\b\b\b\b\b\b\b\b\b\b\b\b\b\b\b\b\b\b\b\b\b\b\b\b\b\b\b\b\b\b\b\b\b\b\b\r\u001b[1m 68/375\u001b[0m \u001b[32m━━━\u001b[0m\u001b[37m━━━━━━━━━━━━━━━━━\u001b[0m \u001b[1m1s\u001b[0m 4ms/step - accuracy: 0.5085 - loss: 1.5208"
                ]
              },
              {
                "output_type": "stream",
                "name": "stdout",
                "text": [
                  "\b\b\b\b\b\b\b\b\b\b\b\b\b\b\b\b\b\b\b\b\b\b\b\b\b\b\b\b\b\b\b\b\b\b\b\b\b\b\b\b\b\b\b\b\b\b\b\b\b\b\b\b\b\b\b\b\b\b\b\b\b\b\b\b\b\b\b\b\b\b\b\b\b\b\r\u001b[1m 82/375\u001b[0m \u001b[32m━━━━\u001b[0m\u001b[37m━━━━━━━━━━━━━━━━\u001b[0m \u001b[1m1s\u001b[0m 4ms/step - accuracy: 0.5452 - loss: 1.4139"
                ]
              },
              {
                "output_type": "stream",
                "name": "stdout",
                "text": [
                  "\b\b\b\b\b\b\b\b\b\b\b\b\b\b\b\b\b\b\b\b\b\b\b\b\b\b\b\b\b\b\b\b\b\b\b\b\b\b\b\b\b\b\b\b\b\b\b\b\b\b\b\b\b\b\b\b\b\b\b\b\b\b\b\b\b\b\b\b\b\b\b\b\b\b\r\u001b[1m 97/375\u001b[0m \u001b[32m━━━━━\u001b[0m\u001b[37m━━━━━━━━━━━━━━━\u001b[0m \u001b[1m1s\u001b[0m 4ms/step - accuracy: 0.5774 - loss: 1.3192"
                ]
              },
              {
                "output_type": "stream",
                "name": "stdout",
                "text": [
                  "\b\b\b\b\b\b\b\b\b\b\b\b\b\b\b\b\b\b\b\b\b\b\b\b\b\b\b\b\b\b\b\b\b\b\b\b\b\b\b\b\b\b\b\b\b\b\b\b\b\b\b\b\b\b\b\b\b\b\b\b\b\b\b\b\b\b\b\b\b\b\b\b\b\b\r\u001b[1m111/375\u001b[0m \u001b[32m━━━━━\u001b[0m\u001b[37m━━━━━━━━━━━━━━━\u001b[0m \u001b[1m0s\u001b[0m 4ms/step - accuracy: 0.6023 - loss: 1.2450"
                ]
              },
              {
                "output_type": "stream",
                "name": "stdout",
                "text": [
                  "\b\b\b\b\b\b\b\b\b\b\b\b\b\b\b\b\b\b\b\b\b\b\b\b\b\b\b\b\b\b\b\b\b\b\b\b\b\b\b\b\b\b\b\b\b\b\b\b\b\b\b\b\b\b\b\b\b\b\b\b\b\b\b\b\b\b\b\b\b\b\b\b\b\b\r\u001b[1m125/375\u001b[0m \u001b[32m━━━━━━\u001b[0m\u001b[37m━━━━━━━━━━━━━━\u001b[0m \u001b[1m0s\u001b[0m 4ms/step - accuracy: 0.6236 - loss: 1.1814"
                ]
              },
              {
                "output_type": "stream",
                "name": "stdout",
                "text": [
                  "\b\b\b\b\b\b\b\b\b\b\b\b\b\b\b\b\b\b\b\b\b\b\b\b\b\b\b\b\b\b\b\b\b\b\b\b\b\b\b\b\b\b\b\b\b\b\b\b\b\b\b\b\b\b\b\b\b\b\b\b\b\b\b\b\b\b\b\b\b\b\b\b\b\b\r\u001b[1m140/375\u001b[0m \u001b[32m━━━━━━━\u001b[0m\u001b[37m━━━━━━━━━━━━━\u001b[0m \u001b[1m0s\u001b[0m 4ms/step - accuracy: 0.6432 - loss: 1.1226"
                ]
              },
              {
                "output_type": "stream",
                "name": "stdout",
                "text": [
                  "\b\b\b\b\b\b\b\b\b\b\b\b\b\b\b\b\b\b\b\b\b\b\b\b\b\b\b\b\b\b\b\b\b\b\b\b\b\b\b\b\b\b\b\b\b\b\b\b\b\b\b\b\b\b\b\b\b\b\b\b\b\b\b\b\b\b\b\b\b\b\b\b\b\b\r\u001b[1m154/375\u001b[0m \u001b[32m━━━━━━━━\u001b[0m\u001b[37m━━━━━━━━━━━━\u001b[0m \u001b[1m0s\u001b[0m 4ms/step - accuracy: 0.6592 - loss: 1.0744"
                ]
              },
              {
                "output_type": "stream",
                "name": "stdout",
                "text": [
                  "\b\b\b\b\b\b\b\b\b\b\b\b\b\b\b\b\b\b\b\b\b\b\b\b\b\b\b\b\b\b\b\b\b\b\b\b\b\b\b\b\b\b\b\b\b\b\b\b\b\b\b\b\b\b\b\b\b\b\b\b\b\b\b\b\b\b\b\b\b\b\b\b\b\b\r\u001b[1m169/375\u001b[0m \u001b[32m━━━━━━━━━\u001b[0m\u001b[37m━━━━━━━━━━━\u001b[0m \u001b[1m0s\u001b[0m 4ms/step - accuracy: 0.6744 - loss: 1.0287"
                ]
              },
              {
                "output_type": "stream",
                "name": "stdout",
                "text": [
                  "\b\b\b\b\b\b\b\b\b\b\b\b\b\b\b\b\b\b\b\b\b\b\b\b\b\b\b\b\b\b\b\b\b\b\b\b\b\b\b\b\b\b\b\b\b\b\b\b\b\b\b\b\b\b\b\b\b\b\b\b\b\b\b\b\b\b\b\b\b\b\b\b\b\b\r\u001b[1m183/375\u001b[0m \u001b[32m━━━━━━━━━\u001b[0m\u001b[37m━━━━━━━━━━━\u001b[0m \u001b[1m0s\u001b[0m 4ms/step - accuracy: 0.6869 - loss: 0.9907"
                ]
              },
              {
                "output_type": "stream",
                "name": "stdout",
                "text": [
                  "\b\b\b\b\b\b\b\b\b\b\b\b\b\b\b\b\b\b\b\b\b\b\b\b\b\b\b\b\b\b\b\b\b\b\b\b\b\b\b\b\b\b\b\b\b\b\b\b\b\b\b\b\b\b\b\b\b\b\b\b\b\b\b\b\b\b\b\b\b\b\b\b\b\b\r\u001b[1m196/375\u001b[0m \u001b[32m━━━━━━━━━━\u001b[0m\u001b[37m━━━━━━━━━━\u001b[0m \u001b[1m0s\u001b[0m 4ms/step - accuracy: 0.6975 - loss: 0.9587"
                ]
              },
              {
                "output_type": "stream",
                "name": "stdout",
                "text": [
                  "\b\b\b\b\b\b\b\b\b\b\b\b\b\b\b\b\b\b\b\b\b\b\b\b\b\b\b\b\b\b\b\b\b\b\b\b\b\b\b\b\b\b\b\b\b\b\b\b\b\b\b\b\b\b\b\b\b\b\b\b\b\b\b\b\b\b\b\b\b\b\b\b\b\b\r\u001b[1m211/375\u001b[0m \u001b[32m━━━━━━━━━━━\u001b[0m\u001b[37m━━━━━━━━━\u001b[0m \u001b[1m0s\u001b[0m 4ms/step - accuracy: 0.7085 - loss: 0.9252"
                ]
              },
              {
                "output_type": "stream",
                "name": "stdout",
                "text": [
                  "\b\b\b\b\b\b\b\b\b\b\b\b\b\b\b\b\b\b\b\b\b\b\b\b\b\b\b\b\b\b\b\b\b\b\b\b\b\b\b\b\b\b\b\b\b\b\b\b\b\b\b\b\b\b\b\b\b\b\b\b\b\b\b\b\b\b\b\b\b\b\b\b\b\b\r\u001b[1m225/375\u001b[0m \u001b[32m━━━━━━━━━━━━\u001b[0m\u001b[37m━━━━━━━━\u001b[0m \u001b[1m0s\u001b[0m 4ms/step - accuracy: 0.7179 - loss: 0.8966"
                ]
              },
              {
                "output_type": "stream",
                "name": "stdout",
                "text": [
                  "\b\b\b\b\b\b\b\b\b\b\b\b\b\b\b\b\b\b\b\b\b\b\b\b\b\b\b\b\b\b\b\b\b\b\b\b\b\b\b\b\b\b\b\b\b\b\b\b\b\b\b\b\b\b\b\b\b\b\b\b\b\b\b\b\b\b\b\b\b\b\b\b\b\b\r\u001b[1m239/375\u001b[0m \u001b[32m━━━━━━━━━━━━\u001b[0m\u001b[37m━━━━━━━━\u001b[0m \u001b[1m0s\u001b[0m 4ms/step - accuracy: 0.7265 - loss: 0.8703"
                ]
              },
              {
                "output_type": "stream",
                "name": "stdout",
                "text": [
                  "\b\b\b\b\b\b\b\b\b\b\b\b\b\b\b\b\b\b\b\b\b\b\b\b\b\b\b\b\b\b\b\b\b\b\b\b\b\b\b\b\b\b\b\b\b\b\b\b\b\b\b\b\b\b\b\b\b\b\b\b\b\b\b\b\b\b\b\b\b\b\b\b\b\b\r\u001b[1m254/375\u001b[0m \u001b[32m━━━━━━━━━━━━━\u001b[0m\u001b[37m━━━━━━━\u001b[0m \u001b[1m0s\u001b[0m 4ms/step - accuracy: 0.7350 - loss: 0.8443"
                ]
              },
              {
                "output_type": "stream",
                "name": "stdout",
                "text": [
                  "\b\b\b\b\b\b\b\b\b\b\b\b\b\b\b\b\b\b\b\b\b\b\b\b\b\b\b\b\b\b\b\b\b\b\b\b\b\b\b\b\b\b\b\b\b\b\b\b\b\b\b\b\b\b\b\b\b\b\b\b\b\b\b\b\b\b\b\b\b\b\b\b\b\b\r\u001b[1m269/375\u001b[0m \u001b[32m━━━━━━━━━━━━━━\u001b[0m\u001b[37m━━━━━━\u001b[0m \u001b[1m0s\u001b[0m 4ms/step - accuracy: 0.7428 - loss: 0.8205"
                ]
              },
              {
                "output_type": "stream",
                "name": "stdout",
                "text": [
                  "\b\b\b\b\b\b\b\b\b\b\b\b\b\b\b\b\b\b\b\b\b\b\b\b\b\b\b\b\b\b\b\b\b\b\b\b\b\b\b\b\b\b\b\b\b\b\b\b\b\b\b\b\b\b\b\b\b\b\b\b\b\b\b\b\b\b\b\b\b\b\b\b\b\b\r\u001b[1m283/375\u001b[0m \u001b[32m━━━━━━━━━━━━━━━\u001b[0m\u001b[37m━━━━━\u001b[0m \u001b[1m0s\u001b[0m 4ms/step - accuracy: 0.7495 - loss: 0.7998"
                ]
              },
              {
                "output_type": "stream",
                "name": "stdout",
                "text": [
                  "\b\b\b\b\b\b\b\b\b\b\b\b\b\b\b\b\b\b\b\b\b\b\b\b\b\b\b\b\b\b\b\b\b\b\b\b\b\b\b\b\b\b\b\b\b\b\b\b\b\b\b\b\b\b\b\b\b\b\b\b\b\b\b\b\b\b\b\b\b\b\b\b\b\b\r\u001b[1m297/375\u001b[0m \u001b[32m━━━━━━━━━━━━━━━\u001b[0m\u001b[37m━━━━━\u001b[0m \u001b[1m0s\u001b[0m 4ms/step - accuracy: 0.7558 - loss: 0.7804"
                ]
              },
              {
                "output_type": "stream",
                "name": "stdout",
                "text": [
                  "\b\b\b\b\b\b\b\b\b\b\b\b\b\b\b\b\b\b\b\b\b\b\b\b\b\b\b\b\b\b\b\b\b\b\b\b\b\b\b\b\b\b\b\b\b\b\b\b\b\b\b\b\b\b\b\b\b\b\b\b\b\b\b\b\b\b\b\b\b\b\b\b\b\b\r\u001b[1m311/375\u001b[0m \u001b[32m━━━━━━━━━━━━━━━━\u001b[0m\u001b[37m━━━━\u001b[0m \u001b[1m0s\u001b[0m 4ms/step - accuracy: 0.7617 - loss: 0.7624"
                ]
              },
              {
                "output_type": "stream",
                "name": "stdout",
                "text": [
                  "\b\b\b\b\b\b\b\b\b\b\b\b\b\b\b\b\b\b\b\b\b\b\b\b\b\b\b\b\b\b\b\b\b\b\b\b\b\b\b\b\b\b\b\b\b\b\b\b\b\b\b\b\b\b\b\b\b\b\b\b\b\b\b\b\b\b\b\b\b\b\b\b\b\b\r\u001b[1m325/375\u001b[0m \u001b[32m━━━━━━━━━━━━━━━━━\u001b[0m\u001b[37m━━━\u001b[0m \u001b[1m0s\u001b[0m 4ms/step - accuracy: 0.7671 - loss: 0.7455"
                ]
              },
              {
                "output_type": "stream",
                "name": "stdout",
                "text": [
                  "\b\b\b\b\b\b\b\b\b\b\b\b\b\b\b\b\b\b\b\b\b\b\b\b\b\b\b\b\b\b\b\b\b\b\b\b\b\b\b\b\b\b\b\b\b\b\b\b\b\b\b\b\b\b\b\b\b\b\b\b\b\b\b\b\b\b\b\b\b\b\b\b\b\b\r\u001b[1m339/375\u001b[0m \u001b[32m━━━━━━━━━━━━━━━━━━\u001b[0m\u001b[37m━━\u001b[0m \u001b[1m0s\u001b[0m 4ms/step - accuracy: 0.7723 - loss: 0.7297"
                ]
              },
              {
                "output_type": "stream",
                "name": "stdout",
                "text": [
                  "\b\b\b\b\b\b\b\b\b\b\b\b\b\b\b\b\b\b\b\b\b\b\b\b\b\b\b\b\b\b\b\b\b\b\b\b\b\b\b\b\b\b\b\b\b\b\b\b\b\b\b\b\b\b\b\b\b\b\b\b\b\b\b\b\b\b\b\b\b\b\b\b\b\b\r\u001b[1m350/375\u001b[0m \u001b[32m━━━━━━━━━━━━━━━━━━\u001b[0m\u001b[37m━━\u001b[0m \u001b[1m0s\u001b[0m 4ms/step - accuracy: 0.7761 - loss: 0.7178"
                ]
              },
              {
                "output_type": "stream",
                "name": "stdout",
                "text": [
                  "\b\b\b\b\b\b\b\b\b\b\b\b\b\b\b\b\b\b\b\b\b\b\b\b\b\b\b\b\b\b\b\b\b\b\b\b\b\b\b\b\b\b\b\b\b\b\b\b\b\b\b\b\b\b\b\b\b\b\b\b\b\b\b\b\b\b\b\b\b\b\b\b\b\b\r\u001b[1m364/375\u001b[0m \u001b[32m━━━━━━━━━━━━━━━━━━━\u001b[0m\u001b[37m━\u001b[0m \u001b[1m0s\u001b[0m 4ms/step - accuracy: 0.7807 - loss: 0.7035"
                ]
              },
              {
                "output_type": "stream",
                "name": "stdout",
                "text": [
                  "\b\b\b\b\b\b\b\b\b\b\b\b\b\b\b\b\b\b\b\b\b\b\b\b\b\b\b\b\b\b\b\b\b\b\b\b\b\b\b\b\b\b\b\b\b\b\b\b\b\b\b\b\b\b\b\b\b\b\b\b\b\b\b\b\b\b\b\b\b\b\b\b\b\b\r\u001b[1m375/375\u001b[0m \u001b[32m━━━━━━━━━━━━━━━━━━━━\u001b[0m\u001b[37m\u001b[0m \u001b[1m8s\u001b[0m 7ms/step - accuracy: 0.7845 - loss: 0.6918 - val_accuracy: 0.9776 - val_loss: 0.0715\n"
                ]
              },
              {
                "output_type": "stream",
                "name": "stdout",
                "text": [
                  "Epoch 2/10\n"
                ]
              },
              {
                "output_type": "stream",
                "name": "stdout",
                "text": [
                  "\r\u001b[1m  1/375\u001b[0m \u001b[37m━━━━━━━━━━━━━━━━━━━━\u001b[0m \u001b[1m8s\u001b[0m 24ms/step - accuracy: 0.9531 - loss: 0.1346"
                ]
              },
              {
                "output_type": "stream",
                "name": "stdout",
                "text": [
                  "\b\b\b\b\b\b\b\b\b\b\b\b\b\b\b\b\b\b\b\b\b\b\b\b\b\b\b\b\b\b\b\b\b\b\b\b\b\b\b\b\b\b\b\b\b\b\b\b\b\b\b\b\b\b\b\b\b\b\b\b\b\b\b\b\b\b\b\b\b\b\b\b\b\b\b\r\u001b[1m 16/375\u001b[0m \u001b[37m━━━━━━━━━━━━━━━━━━━━\u001b[0m \u001b[1m1s\u001b[0m 3ms/step - accuracy: 0.9585 - loss: 0.1248 "
                ]
              },
              {
                "output_type": "stream",
                "name": "stdout",
                "text": [
                  "\b\b\b\b\b\b\b\b\b\b\b\b\b\b\b\b\b\b\b\b\b\b\b\b\b\b\b\b\b\b\b\b\b\b\b\b\b\b\b\b\b\b\b\b\b\b\b\b\b\b\b\b\b\b\b\b\b\b\b\b\b\b\b\b\b\b\b\b\b\b\b\b\b\b\r\u001b[1m 30/375\u001b[0m \u001b[32m━\u001b[0m\u001b[37m━━━━━━━━━━━━━━━━━━━\u001b[0m \u001b[1m1s\u001b[0m 4ms/step - accuracy: 0.9587 - loss: 0.1240"
                ]
              },
              {
                "output_type": "stream",
                "name": "stdout",
                "text": [
                  "\b\b\b\b\b\b\b\b\b\b\b\b\b\b\b\b\b\b\b\b\b\b\b\b\b\b\b\b\b\b\b\b\b\b\b\b\b\b\b\b\b\b\b\b\b\b\b\b\b\b\b\b\b\b\b\b\b\b\b\b\b\b\b\b\b\b\b\b\b\b\b\b\b\b\r\u001b[1m 44/375\u001b[0m \u001b[32m━━\u001b[0m\u001b[37m━━━━━━━━━━━━━━━━━━\u001b[0m \u001b[1m1s\u001b[0m 4ms/step - accuracy: 0.9589 - loss: 0.1249"
                ]
              },
              {
                "output_type": "stream",
                "name": "stdout",
                "text": [
                  "\b\b\b\b\b\b\b\b\b\b\b\b\b\b\b\b\b\b\b\b\b\b\b\b\b\b\b\b\b\b\b\b\b\b\b\b\b\b\b\b\b\b\b\b\b\b\b\b\b\b\b\b\b\b\b\b\b\b\b\b\b\b\b\b\b\b\b\b\b\b\b\b\b\b\r\u001b[1m 57/375\u001b[0m \u001b[32m━━━\u001b[0m\u001b[37m━━━━━━━━━━━━━━━━━\u001b[0m \u001b[1m1s\u001b[0m 4ms/step - accuracy: 0.9595 - loss: 0.1247"
                ]
              },
              {
                "output_type": "stream",
                "name": "stdout",
                "text": [
                  "\b\b\b\b\b\b\b\b\b\b\b\b\b\b\b\b\b\b\b\b\b\b\b\b\b\b\b\b\b\b\b\b\b\b\b\b\b\b\b\b\b\b\b\b\b\b\b\b\b\b\b\b\b\b\b\b\b\b\b\b\b\b\b\b\b\b\b\b\b\b\b\b\b\b\r\u001b[1m 68/375\u001b[0m \u001b[32m━━━\u001b[0m\u001b[37m━━━━━━━━━━━━━━━━━\u001b[0m \u001b[1m1s\u001b[0m 4ms/step - accuracy: 0.9599 - loss: 0.1241"
                ]
              },
              {
                "output_type": "stream",
                "name": "stdout",
                "text": [
                  "\b\b\b\b\b\b\b\b\b\b\b\b\b\b\b\b\b\b\b\b\b\b\b\b\b\b\b\b\b\b\b\b\b\b\b\b\b\b\b\b\b\b\b\b\b\b\b\b\b\b\b\b\b\b\b\b\b\b\b\b\b\b\b\b\b\b\b\b\b\b\b\b\b\b\r\u001b[1m 79/375\u001b[0m \u001b[32m━━━━\u001b[0m\u001b[37m━━━━━━━━━━━━━━━━\u001b[0m \u001b[1m1s\u001b[0m 4ms/step - accuracy: 0.9603 - loss: 0.1236"
                ]
              },
              {
                "output_type": "stream",
                "name": "stdout",
                "text": [
                  "\b\b\b\b\b\b\b\b\b\b\b\b\b\b\b\b\b\b\b\b\b\b\b\b\b\b\b\b\b\b\b\b\b\b\b\b\b\b\b\b\b\b\b\b\b\b\b\b\b\b\b\b\b\b\b\b\b\b\b\b\b\b\b\b\b\b\b\b\b\b\b\b\b\b\r\u001b[1m 91/375\u001b[0m \u001b[32m━━━━\u001b[0m\u001b[37m━━━━━━━━━━━━━━━━\u001b[0m \u001b[1m1s\u001b[0m 4ms/step - accuracy: 0.9607 - loss: 0.1231"
                ]
              },
              {
                "output_type": "stream",
                "name": "stdout",
                "text": [
                  "\b\b\b\b\b\b\b\b\b\b\b\b\b\b\b\b\b\b\b\b\b\b\b\b\b\b\b\b\b\b\b\b\b\b\b\b\b\b\b\b\b\b\b\b\b\b\b\b\b\b\b\b\b\b\b\b\b\b\b\b\b\b\b\b\b\b\b\b\b\b\b\b\b\b\r\u001b[1m102/375\u001b[0m \u001b[32m━━━━━\u001b[0m\u001b[37m━━━━━━━━━━━━━━━\u001b[0m \u001b[1m1s\u001b[0m 4ms/step - accuracy: 0.9610 - loss: 0.1227"
                ]
              },
              {
                "output_type": "stream",
                "name": "stdout",
                "text": [
                  "\b\b\b\b\b\b\b\b\b\b\b\b\b\b\b\b\b\b\b\b\b\b\b\b\b\b\b\b\b\b\b\b\b\b\b\b\b\b\b\b\b\b\b\b\b\b\b\b\b\b\b\b\b\b\b\b\b\b\b\b\b\b\b\b\b\b\b\b\b\b\b\b\b\b\r\u001b[1m113/375\u001b[0m \u001b[32m━━━━━━\u001b[0m\u001b[37m━━━━━━━━━━━━━━\u001b[0m \u001b[1m1s\u001b[0m 4ms/step - accuracy: 0.9613 - loss: 0.1224"
                ]
              },
              {
                "output_type": "stream",
                "name": "stdout",
                "text": [
                  "\b\b\b\b\b\b\b\b\b\b\b\b\b\b\b\b\b\b\b\b\b\b\b\b\b\b\b\b\b\b\b\b\b\b\b\b\b\b\b\b\b\b\b\b\b\b\b\b\b\b\b\b\b\b\b\b\b\b\b\b\b\b\b\b\b\b\b\b\b\b\b\b\b\b\r\u001b[1m124/375\u001b[0m \u001b[32m━━━━━━\u001b[0m\u001b[37m━━━━━━━━━━━━━━\u001b[0m \u001b[1m1s\u001b[0m 4ms/step - accuracy: 0.9615 - loss: 0.1222"
                ]
              },
              {
                "output_type": "stream",
                "name": "stdout",
                "text": [
                  "\b\b\b\b\b\b\b\b\b\b\b\b\b\b\b\b\b\b\b\b\b\b\b\b\b\b\b\b\b\b\b\b\b\b\b\b\b\b\b\b\b\b\b\b\b\b\b\b\b\b\b\b\b\b\b\b\b\b\b\b\b\b\b\b\b\b\b\b\b\b\b\b\b\b\r\u001b[1m135/375\u001b[0m \u001b[32m━━━━━━━\u001b[0m\u001b[37m━━━━━━━━━━━━━\u001b[0m \u001b[1m1s\u001b[0m 4ms/step - accuracy: 0.9617 - loss: 0.1221"
                ]
              },
              {
                "output_type": "stream",
                "name": "stdout",
                "text": [
                  "\b\b\b\b\b\b\b\b\b\b\b\b\b\b\b\b\b\b\b\b\b\b\b\b\b\b\b\b\b\b\b\b\b\b\b\b\b\b\b\b\b\b\b\b\b\b\b\b\b\b\b\b\b\b\b\b\b\b\b\b\b\b\b\b\b\b\b\b\b\b\b\b\b\b\r\u001b[1m144/375\u001b[0m \u001b[32m━━━━━━━\u001b[0m\u001b[37m━━━━━━━━━━━━━\u001b[0m \u001b[1m1s\u001b[0m 4ms/step - accuracy: 0.9619 - loss: 0.1221"
                ]
              },
              {
                "output_type": "stream",
                "name": "stdout",
                "text": [
                  "\b\b\b\b\b\b\b\b\b\b\b\b\b\b\b\b\b\b\b\b\b\b\b\b\b\b\b\b\b\b\b\b\b\b\b\b\b\b\b\b\b\b\b\b\b\b\b\b\b\b\b\b\b\b\b\b\b\b\b\b\b\b\b\b\b\b\b\b\b\b\b\b\b\b\r\u001b[1m156/375\u001b[0m \u001b[32m━━━━━━━━\u001b[0m\u001b[37m━━━━━━━━━━━━\u001b[0m \u001b[1m0s\u001b[0m 4ms/step - accuracy: 0.9621 - loss: 0.1220"
                ]
              },
              {
                "output_type": "stream",
                "name": "stdout",
                "text": [
                  "\b\b\b\b\b\b\b\b\b\b\b\b\b\b\b\b\b\b\b\b\b\b\b\b\b\b\b\b\b\b\b\b\b\b\b\b\b\b\b\b\b\b\b\b\b\b\b\b\b\b\b\b\b\b\b\b\b\b\b\b\b\b\b\b\b\b\b\b\b\b\b\b\b\b\r\u001b[1m167/375\u001b[0m \u001b[32m━━━━━━━━\u001b[0m\u001b[37m━━━━━━━━━━━━\u001b[0m \u001b[1m0s\u001b[0m 4ms/step - accuracy: 0.9622 - loss: 0.1218"
                ]
              },
              {
                "output_type": "stream",
                "name": "stdout",
                "text": [
                  "\b\b\b\b\b\b\b\b\b\b\b\b\b\b\b\b\b\b\b\b\b\b\b\b\b\b\b\b\b\b\b\b\b\b\b\b\b\b\b\b\b\b\b\b\b\b\b\b\b\b\b\b\b\b\b\b\b\b\b\b\b\b\b\b\b\b\b\b\b\b\b\b\b\b\r\u001b[1m179/375\u001b[0m \u001b[32m━━━━━━━━━\u001b[0m\u001b[37m━━━━━━━━━━━\u001b[0m \u001b[1m0s\u001b[0m 4ms/step - accuracy: 0.9624 - loss: 0.1218"
                ]
              },
              {
                "output_type": "stream",
                "name": "stdout",
                "text": [
                  "\b\b\b\b\b\b\b\b\b\b\b\b\b\b\b\b\b\b\b\b\b\b\b\b\b\b\b\b\b\b\b\b\b\b\b\b\b\b\b\b\b\b\b\b\b\b\b\b\b\b\b\b\b\b\b\b\b\b\b\b\b\b\b\b\b\b\b\b\b\b\b\b\b\b\r\u001b[1m190/375\u001b[0m \u001b[32m━━━━━━━━━━\u001b[0m\u001b[37m━━━━━━━━━━\u001b[0m \u001b[1m0s\u001b[0m 4ms/step - accuracy: 0.9625 - loss: 0.1217"
                ]
              },
              {
                "output_type": "stream",
                "name": "stdout",
                "text": [
                  "\b\b\b\b\b\b\b\b\b\b\b\b\b\b\b\b\b\b\b\b\b\b\b\b\b\b\b\b\b\b\b\b\b\b\b\b\b\b\b\b\b\b\b\b\b\b\b\b\b\b\b\b\b\b\b\b\b\b\b\b\b\b\b\b\b\b\b\b\b\b\b\b\b\b\r\u001b[1m203/375\u001b[0m \u001b[32m━━━━━━━━━━\u001b[0m\u001b[37m━━━━━━━━━━\u001b[0m \u001b[1m0s\u001b[0m 4ms/step - accuracy: 0.9627 - loss: 0.1215"
                ]
              },
              {
                "output_type": "stream",
                "name": "stdout",
                "text": [
                  "\b\b\b\b\b\b\b\b\b\b\b\b\b\b\b\b\b\b\b\b\b\b\b\b\b\b\b\b\b\b\b\b\b\b\b\b\b\b\b\b\b\b\b\b\b\b\b\b\b\b\b\b\b\b\b\b\b\b\b\b\b\b\b\b\b\b\b\b\b\b\b\b\b\b\r\u001b[1m213/375\u001b[0m \u001b[32m━━━━━━━━━━━\u001b[0m\u001b[37m━━━━━━━━━\u001b[0m \u001b[1m0s\u001b[0m 4ms/step - accuracy: 0.9628 - loss: 0.1213"
                ]
              },
              {
                "output_type": "stream",
                "name": "stdout",
                "text": [
                  "\b\b\b\b\b\b\b\b\b\b\b\b\b\b\b\b\b\b\b\b\b\b\b\b\b\b\b\b\b\b\b\b\b\b\b\b\b\b\b\b\b\b\b\b\b\b\b\b\b\b\b\b\b\b\b\b\b\b\b\b\b\b\b\b\b\b\b\b\b\b\b\b\b\b\r\u001b[1m225/375\u001b[0m \u001b[32m━━━━━━━━━━━━\u001b[0m\u001b[37m━━━━━━━━\u001b[0m \u001b[1m0s\u001b[0m 4ms/step - accuracy: 0.9630 - loss: 0.1209"
                ]
              },
              {
                "output_type": "stream",
                "name": "stdout",
                "text": [
                  "\b\b\b\b\b\b\b\b\b\b\b\b\b\b\b\b\b\b\b\b\b\b\b\b\b\b\b\b\b\b\b\b\b\b\b\b\b\b\b\b\b\b\b\b\b\b\b\b\b\b\b\b\b\b\b\b\b\b\b\b\b\b\b\b\b\b\b\b\b\b\b\b\b\b\r\u001b[1m237/375\u001b[0m \u001b[32m━━━━━━━━━━━━\u001b[0m\u001b[37m━━━━━━━━\u001b[0m \u001b[1m0s\u001b[0m 4ms/step - accuracy: 0.9631 - loss: 0.1206"
                ]
              },
              {
                "output_type": "stream",
                "name": "stdout",
                "text": [
                  "\b\b\b\b\b\b\b\b\b\b\b\b\b\b\b\b\b\b\b\b\b\b\b\b\b\b\b\b\b\b\b\b\b\b\b\b\b\b\b\b\b\b\b\b\b\b\b\b\b\b\b\b\b\b\b\b\b\b\b\b\b\b\b\b\b\b\b\b\b\b\b\b\b\b\r\u001b[1m248/375\u001b[0m \u001b[32m━━━━━━━━━━━━━\u001b[0m\u001b[37m━━━━━━━\u001b[0m \u001b[1m0s\u001b[0m 4ms/step - accuracy: 0.9633 - loss: 0.1202"
                ]
              },
              {
                "output_type": "stream",
                "name": "stdout",
                "text": [
                  "\b\b\b\b\b\b\b\b\b\b\b\b\b\b\b\b\b\b\b\b\b\b\b\b\b\b\b\b\b\b\b\b\b\b\b\b\b\b\b\b\b\b\b\b\b\b\b\b\b\b\b\b\b\b\b\b\b\b\b\b\b\b\b\b\b\b\b\b\b\b\b\b\b\b\r\u001b[1m259/375\u001b[0m \u001b[32m━━━━━━━━━━━━━\u001b[0m\u001b[37m━━━━━━━\u001b[0m \u001b[1m0s\u001b[0m 4ms/step - accuracy: 0.9634 - loss: 0.1199"
                ]
              },
              {
                "output_type": "stream",
                "name": "stdout",
                "text": [
                  "\b\b\b\b\b\b\b\b\b\b\b\b\b\b\b\b\b\b\b\b\b\b\b\b\b\b\b\b\b\b\b\b\b\b\b\b\b\b\b\b\b\b\b\b\b\b\b\b\b\b\b\b\b\b\b\b\b\b\b\b\b\b\b\b\b\b\b\b\b\b\b\b\b\b\r\u001b[1m271/375\u001b[0m \u001b[32m━━━━━━━━━━━━━━\u001b[0m\u001b[37m━━━━━━\u001b[0m \u001b[1m0s\u001b[0m 4ms/step - accuracy: 0.9636 - loss: 0.1195"
                ]
              },
              {
                "output_type": "stream",
                "name": "stdout",
                "text": [
                  "\b\b\b\b\b\b\b\b\b\b\b\b\b\b\b\b\b\b\b\b\b\b\b\b\b\b\b\b\b\b\b\b\b\b\b\b\b\b\b\b\b\b\b\b\b\b\b\b\b\b\b\b\b\b\b\b\b\b\b\b\b\b\b\b\b\b\b\b\b\b\b\b\b\b\r\u001b[1m283/375\u001b[0m \u001b[32m━━━━━━━━━━━━━━━\u001b[0m\u001b[37m━━━━━\u001b[0m \u001b[1m0s\u001b[0m 4ms/step - accuracy: 0.9637 - loss: 0.1192"
                ]
              },
              {
                "output_type": "stream",
                "name": "stdout",
                "text": [
                  "\b\b\b\b\b\b\b\b\b\b\b\b\b\b\b\b\b\b\b\b\b\b\b\b\b\b\b\b\b\b\b\b\b\b\b\b\b\b\b\b\b\b\b\b\b\b\b\b\b\b\b\b\b\b\b\b\b\b\b\b\b\b\b\b\b\b\b\b\b\b\b\b\b\b\r\u001b[1m295/375\u001b[0m \u001b[32m━━━━━━━━━━━━━━━\u001b[0m\u001b[37m━━━━━\u001b[0m \u001b[1m0s\u001b[0m 4ms/step - accuracy: 0.9638 - loss: 0.1188"
                ]
              },
              {
                "output_type": "stream",
                "name": "stdout",
                "text": [
                  "\b\b\b\b\b\b\b\b\b\b\b\b\b\b\b\b\b\b\b\b\b\b\b\b\b\b\b\b\b\b\b\b\b\b\b\b\b\b\b\b\b\b\b\b\b\b\b\b\b\b\b\b\b\b\b\b\b\b\b\b\b\b\b\b\b\b\b\b\b\b\b\b\b\b\r\u001b[1m307/375\u001b[0m \u001b[32m━━━━━━━━━━━━━━━━\u001b[0m\u001b[37m━━━━\u001b[0m \u001b[1m0s\u001b[0m 4ms/step - accuracy: 0.9640 - loss: 0.1185"
                ]
              },
              {
                "output_type": "stream",
                "name": "stdout",
                "text": [
                  "\b\b\b\b\b\b\b\b\b\b\b\b\b\b\b\b\b\b\b\b\b\b\b\b\b\b\b\b\b\b\b\b\b\b\b\b\b\b\b\b\b\b\b\b\b\b\b\b\b\b\b\b\b\b\b\b\b\b\b\b\b\b\b\b\b\b\b\b\b\b\b\b\b\b\r\u001b[1m319/375\u001b[0m \u001b[32m━━━━━━━━━━━━━━━━━\u001b[0m\u001b[37m━━━\u001b[0m \u001b[1m0s\u001b[0m 4ms/step - accuracy: 0.9641 - loss: 0.1182"
                ]
              },
              {
                "output_type": "stream",
                "name": "stdout",
                "text": [
                  "\b\b\b\b\b\b\b\b\b\b\b\b\b\b\b\b\b\b\b\b\b\b\b\b\b\b\b\b\b\b\b\b\b\b\b\b\b\b\b\b\b\b\b\b\b\b\b\b\b\b\b\b\b\b\b\b\b\b\b\b\b\b\b\b\b\b\b\b\b\b\b\b\b\b\r\u001b[1m331/375\u001b[0m \u001b[32m━━━━━━━━━━━━━━━━━\u001b[0m\u001b[37m━━━\u001b[0m \u001b[1m0s\u001b[0m 4ms/step - accuracy: 0.9642 - loss: 0.1179"
                ]
              },
              {
                "output_type": "stream",
                "name": "stdout",
                "text": [
                  "\b\b\b\b\b\b\b\b\b\b\b\b\b\b\b\b\b\b\b\b\b\b\b\b\b\b\b\b\b\b\b\b\b\b\b\b\b\b\b\b\b\b\b\b\b\b\b\b\b\b\b\b\b\b\b\b\b\b\b\b\b\b\b\b\b\b\b\b\b\b\b\b\b\b\r\u001b[1m342/375\u001b[0m \u001b[32m━━━━━━━━━━━━━━━━━━\u001b[0m\u001b[37m━━\u001b[0m \u001b[1m0s\u001b[0m 4ms/step - accuracy: 0.9643 - loss: 0.1177"
                ]
              },
              {
                "output_type": "stream",
                "name": "stdout",
                "text": [
                  "\b\b\b\b\b\b\b\b\b\b\b\b\b\b\b\b\b\b\b\b\b\b\b\b\b\b\b\b\b\b\b\b\b\b\b\b\b\b\b\b\b\b\b\b\b\b\b\b\b\b\b\b\b\b\b\b\b\b\b\b\b\b\b\b\b\b\b\b\b\b\b\b\b\b\r\u001b[1m353/375\u001b[0m \u001b[32m━━━━━━━━━━━━━━━━━━\u001b[0m\u001b[37m━━\u001b[0m \u001b[1m0s\u001b[0m 4ms/step - accuracy: 0.9644 - loss: 0.1174"
                ]
              },
              {
                "output_type": "stream",
                "name": "stdout",
                "text": [
                  "\b\b\b\b\b\b\b\b\b\b\b\b\b\b\b\b\b\b\b\b\b\b\b\b\b\b\b\b\b\b\b\b\b\b\b\b\b\b\b\b\b\b\b\b\b\b\b\b\b\b\b\b\b\b\b\b\b\b\b\b\b\b\b\b\b\b\b\b\b\b\b\b\b\b\r\u001b[1m363/375\u001b[0m \u001b[32m━━━━━━━━━━━━━━━━━━━\u001b[0m\u001b[37m━\u001b[0m \u001b[1m0s\u001b[0m 4ms/step - accuracy: 0.9645 - loss: 0.1171"
                ]
              },
              {
                "output_type": "stream",
                "name": "stdout",
                "text": [
                  "\b\b\b\b\b\b\b\b\b\b\b\b\b\b\b\b\b\b\b\b\b\b\b\b\b\b\b\b\b\b\b\b\b\b\b\b\b\b\b\b\b\b\b\b\b\b\b\b\b\b\b\b\b\b\b\b\b\b\b\b\b\b\b\b\b\b\b\b\b\b\b\b\b\b\r\u001b[1m373/375\u001b[0m \u001b[32m━━━━━━━━━━━━━━━━━━━\u001b[0m\u001b[37m━\u001b[0m \u001b[1m0s\u001b[0m 4ms/step - accuracy: 0.9646 - loss: 0.1169"
                ]
              },
              {
                "output_type": "stream",
                "name": "stdout",
                "text": [
                  "\b\b\b\b\b\b\b\b\b\b\b\b\b\b\b\b\b\b\b\b\b\b\b\b\b\b\b\b\b\b\b\b\b\b\b\b\b\b\b\b\b\b\b\b\b\b\b\b\b\b\b\b\b\b\b\b\b\b\b\b\b\b\b\b\b\b\b\b\b\b\b\b\b\b\r\u001b[1m375/375\u001b[0m \u001b[32m━━━━━━━━━━━━━━━━━━━━\u001b[0m\u001b[37m\u001b[0m \u001b[1m2s\u001b[0m 5ms/step - accuracy: 0.9646 - loss: 0.1168 - val_accuracy: 0.9827 - val_loss: 0.0593\n"
                ]
              },
              {
                "output_type": "stream",
                "name": "stdout",
                "text": [
                  "Epoch 3/10\n"
                ]
              },
              {
                "output_type": "stream",
                "name": "stdout",
                "text": [
                  "\r\u001b[1m  1/375\u001b[0m \u001b[37m━━━━━━━━━━━━━━━━━━━━\u001b[0m \u001b[1m2:59\u001b[0m 481ms/step - accuracy: 0.9688 - loss: 0.1096"
                ]
              },
              {
                "output_type": "stream",
                "name": "stdout",
                "text": [
                  "\b\b\b\b\b\b\b\b\b\b\b\b\b\b\b\b\b\b\b\b\b\b\b\b\b\b\b\b\b\b\b\b\b\b\b\b\b\b\b\b\b\b\b\b\b\b\b\b\b\b\b\b\b\b\b\b\b\b\b\b\b\b\b\b\b\b\b\b\b\b\b\b\b\b\b\b\b\b\r\u001b[1m 14/375\u001b[0m \u001b[37m━━━━━━━━━━━━━━━━━━━━\u001b[0m \u001b[1m1s\u001b[0m 4ms/step - accuracy: 0.9700 - loss: 0.1026    "
                ]
              },
              {
                "output_type": "stream",
                "name": "stdout",
                "text": [
                  "\b\b\b\b\b\b\b\b\b\b\b\b\b\b\b\b\b\b\b\b\b\b\b\b\b\b\b\b\b\b\b\b\b\b\b\b\b\b\b\b\b\b\b\b\b\b\b\b\b\b\b\b\b\b\b\b\b\b\b\b\b\b\b\b\b\b\b\b\b\b\b\b\b\b\r\u001b[1m 28/375\u001b[0m \u001b[32m━\u001b[0m\u001b[37m━━━━━━━━━━━━━━━━━━━\u001b[0m \u001b[1m1s\u001b[0m 4ms/step - accuracy: 0.9704 - loss: 0.0982"
                ]
              },
              {
                "output_type": "stream",
                "name": "stdout",
                "text": [
                  "\b\b\b\b\b\b\b\b\b\b\b\b\b\b\b\b\b\b\b\b\b\b\b\b\b\b\b\b\b\b\b\b\b\b\b\b\b\b\b\b\b\b\b\b\b\b\b\b\b\b\b\b\b\b\b\b\b\b\b\b\b\b\b\b\b\b\b\b\b\b\b\b\b\b\r\u001b[1m 41/375\u001b[0m \u001b[32m━━\u001b[0m\u001b[37m━━━━━━━━━━━━━━━━━━\u001b[0m \u001b[1m1s\u001b[0m 4ms/step - accuracy: 0.9699 - loss: 0.0974"
                ]
              },
              {
                "output_type": "stream",
                "name": "stdout",
                "text": [
                  "\b\b\b\b\b\b\b\b\b\b\b\b\b\b\b\b\b\b\b\b\b\b\b\b\b\b\b\b\b\b\b\b\b\b\b\b\b\b\b\b\b\b\b\b\b\b\b\b\b\b\b\b\b\b\b\b\b\b\b\b\b\b\b\b\b\b\b\b\b\b\b\b\b\b\r\u001b[1m 53/375\u001b[0m \u001b[32m━━\u001b[0m\u001b[37m━━━━━━━━━━━━━━━━━━\u001b[0m \u001b[1m1s\u001b[0m 4ms/step - accuracy: 0.9698 - loss: 0.0967"
                ]
              },
              {
                "output_type": "stream",
                "name": "stdout",
                "text": [
                  "\b\b\b\b\b\b\b\b\b\b\b\b\b\b\b\b\b\b\b\b\b\b\b\b\b\b\b\b\b\b\b\b\b\b\b\b\b\b\b\b\b\b\b\b\b\b\b\b\b\b\b\b\b\b\b\b\b\b\b\b\b\b\b\b\b\b\b\b\b\b\b\b\b\b\r\u001b[1m 66/375\u001b[0m \u001b[32m━━━\u001b[0m\u001b[37m━━━━━━━━━━━━━━━━━\u001b[0m \u001b[1m1s\u001b[0m 4ms/step - accuracy: 0.9698 - loss: 0.0958"
                ]
              },
              {
                "output_type": "stream",
                "name": "stdout",
                "text": [
                  "\b\b\b\b\b\b\b\b\b\b\b\b\b\b\b\b\b\b\b\b\b\b\b\b\b\b\b\b\b\b\b\b\b\b\b\b\b\b\b\b\b\b\b\b\b\b\b\b\b\b\b\b\b\b\b\b\b\b\b\b\b\b\b\b\b\b\b\b\b\b\b\b\b\b\r\u001b[1m 79/375\u001b[0m \u001b[32m━━━━\u001b[0m\u001b[37m━━━━━━━━━━━━━━━━\u001b[0m \u001b[1m1s\u001b[0m 4ms/step - accuracy: 0.9700 - loss: 0.0949"
                ]
              },
              {
                "output_type": "stream",
                "name": "stdout",
                "text": [
                  "\b\b\b\b\b\b\b\b\b\b\b\b\b\b\b\b\b\b\b\b\b\b\b\b\b\b\b\b\b\b\b\b\b\b\b\b\b\b\b\b\b\b\b\b\b\b\b\b\b\b\b\b\b\b\b\b\b\b\b\b\b\b\b\b\b\b\b\b\b\b\b\b\b\b\r\u001b[1m 93/375\u001b[0m \u001b[32m━━━━\u001b[0m\u001b[37m━━━━━━━━━━━━━━━━\u001b[0m \u001b[1m1s\u001b[0m 4ms/step - accuracy: 0.9701 - loss: 0.0943"
                ]
              },
              {
                "output_type": "stream",
                "name": "stdout",
                "text": [
                  "\b\b\b\b\b\b\b\b\b\b\b\b\b\b\b\b\b\b\b\b\b\b\b\b\b\b\b\b\b\b\b\b\b\b\b\b\b\b\b\b\b\b\b\b\b\b\b\b\b\b\b\b\b\b\b\b\b\b\b\b\b\b\b\b\b\b\b\b\b\b\b\b\b\b\r\u001b[1m107/375\u001b[0m \u001b[32m━━━━━\u001b[0m\u001b[37m━━━━━━━━━━━━━━━\u001b[0m \u001b[1m1s\u001b[0m 4ms/step - accuracy: 0.9703 - loss: 0.0938"
                ]
              },
              {
                "output_type": "stream",
                "name": "stdout",
                "text": [
                  "\b\b\b\b\b\b\b\b\b\b\b\b\b\b\b\b\b\b\b\b\b\b\b\b\b\b\b\b\b\b\b\b\b\b\b\b\b\b\b\b\b\b\b\b\b\b\b\b\b\b\b\b\b\b\b\b\b\b\b\b\b\b\b\b\b\b\b\b\b\b\b\b\b\b\r\u001b[1m121/375\u001b[0m \u001b[32m━━━━━━\u001b[0m\u001b[37m━━━━━━━━━━━━━━\u001b[0m \u001b[1m0s\u001b[0m 4ms/step - accuracy: 0.9704 - loss: 0.0935"
                ]
              },
              {
                "output_type": "stream",
                "name": "stdout",
                "text": [
                  "\b\b\b\b\b\b\b\b\b\b\b\b\b\b\b\b\b\b\b\b\b\b\b\b\b\b\b\b\b\b\b\b\b\b\b\b\b\b\b\b\b\b\b\b\b\b\b\b\b\b\b\b\b\b\b\b\b\b\b\b\b\b\b\b\b\b\b\b\b\b\b\b\b\b\r\u001b[1m135/375\u001b[0m \u001b[32m━━━━━━━\u001b[0m\u001b[37m━━━━━━━━━━━━━\u001b[0m \u001b[1m0s\u001b[0m 4ms/step - accuracy: 0.9705 - loss: 0.0934"
                ]
              },
              {
                "output_type": "stream",
                "name": "stdout",
                "text": [
                  "\b\b\b\b\b\b\b\b\b\b\b\b\b\b\b\b\b\b\b\b\b\b\b\b\b\b\b\b\b\b\b\b\b\b\b\b\b\b\b\b\b\b\b\b\b\b\b\b\b\b\b\b\b\b\b\b\b\b\b\b\b\b\b\b\b\b\b\b\b\b\b\b\b\b\r\u001b[1m149/375\u001b[0m \u001b[32m━━━━━━━\u001b[0m\u001b[37m━━━━━━━━━━━━━\u001b[0m \u001b[1m0s\u001b[0m 4ms/step - accuracy: 0.9707 - loss: 0.0932"
                ]
              },
              {
                "output_type": "stream",
                "name": "stdout",
                "text": [
                  "\b\b\b\b\b\b\b\b\b\b\b\b\b\b\b\b\b\b\b\b\b\b\b\b\b\b\b\b\b\b\b\b\b\b\b\b\b\b\b\b\b\b\b\b\b\b\b\b\b\b\b\b\b\b\b\b\b\b\b\b\b\b\b\b\b\b\b\b\b\b\b\b\b\b\r\u001b[1m163/375\u001b[0m \u001b[32m━━━━━━━━\u001b[0m\u001b[37m━━━━━━━━━━━━\u001b[0m \u001b[1m0s\u001b[0m 4ms/step - accuracy: 0.9708 - loss: 0.0929"
                ]
              },
              {
                "output_type": "stream",
                "name": "stdout",
                "text": [
                  "\b\b\b\b\b\b\b\b\b\b\b\b\b\b\b\b\b\b\b\b\b\b\b\b\b\b\b\b\b\b\b\b\b\b\b\b\b\b\b\b\b\b\b\b\b\b\b\b\b\b\b\b\b\b\b\b\b\b\b\b\b\b\b\b\b\b\b\b\b\b\b\b\b\b\r\u001b[1m177/375\u001b[0m \u001b[32m━━━━━━━━━\u001b[0m\u001b[37m━━━━━━━━━━━\u001b[0m \u001b[1m0s\u001b[0m 4ms/step - accuracy: 0.9710 - loss: 0.0928"
                ]
              },
              {
                "output_type": "stream",
                "name": "stdout",
                "text": [
                  "\b\b\b\b\b\b\b\b\b\b\b\b\b\b\b\b\b\b\b\b\b\b\b\b\b\b\b\b\b\b\b\b\b\b\b\b\b\b\b\b\b\b\b\b\b\b\b\b\b\b\b\b\b\b\b\b\b\b\b\b\b\b\b\b\b\b\b\b\b\b\b\b\b\b\r\u001b[1m191/375\u001b[0m \u001b[32m━━━━━━━━━━\u001b[0m\u001b[37m━━━━━━━━━━\u001b[0m \u001b[1m0s\u001b[0m 4ms/step - accuracy: 0.9711 - loss: 0.0925"
                ]
              },
              {
                "output_type": "stream",
                "name": "stdout",
                "text": [
                  "\b\b\b\b\b\b\b\b\b\b\b\b\b\b\b\b\b\b\b\b\b\b\b\b\b\b\b\b\b\b\b\b\b\b\b\b\b\b\b\b\b\b\b\b\b\b\b\b\b\b\b\b\b\b\b\b\b\b\b\b\b\b\b\b\b\b\b\b\b\b\b\b\b\b\r\u001b[1m205/375\u001b[0m \u001b[32m━━━━━━━━━━\u001b[0m\u001b[37m━━━━━━━━━━\u001b[0m \u001b[1m0s\u001b[0m 4ms/step - accuracy: 0.9713 - loss: 0.0923"
                ]
              },
              {
                "output_type": "stream",
                "name": "stdout",
                "text": [
                  "\b\b\b\b\b\b\b\b\b\b\b\b\b\b\b\b\b\b\b\b\b\b\b\b\b\b\b\b\b\b\b\b\b\b\b\b\b\b\b\b\b\b\b\b\b\b\b\b\b\b\b\b\b\b\b\b\b\b\b\b\b\b\b\b\b\b\b\b\b\b\b\b\b\b\r\u001b[1m219/375\u001b[0m \u001b[32m━━━━━━━━━━━\u001b[0m\u001b[37m━━━━━━━━━\u001b[0m \u001b[1m0s\u001b[0m 4ms/step - accuracy: 0.9714 - loss: 0.0919"
                ]
              },
              {
                "output_type": "stream",
                "name": "stdout",
                "text": [
                  "\b\b\b\b\b\b\b\b\b\b\b\b\b\b\b\b\b\b\b\b\b\b\b\b\b\b\b\b\b\b\b\b\b\b\b\b\b\b\b\b\b\b\b\b\b\b\b\b\b\b\b\b\b\b\b\b\b\b\b\b\b\b\b\b\b\b\b\b\b\b\b\b\b\b\r\u001b[1m233/375\u001b[0m \u001b[32m━━━━━━━━━━━━\u001b[0m\u001b[37m━━━━━━━━\u001b[0m \u001b[1m0s\u001b[0m 4ms/step - accuracy: 0.9716 - loss: 0.0916"
                ]
              },
              {
                "output_type": "stream",
                "name": "stdout",
                "text": [
                  "\b\b\b\b\b\b\b\b\b\b\b\b\b\b\b\b\b\b\b\b\b\b\b\b\b\b\b\b\b\b\b\b\b\b\b\b\b\b\b\b\b\b\b\b\b\b\b\b\b\b\b\b\b\b\b\b\b\b\b\b\b\b\b\b\b\b\b\b\b\b\b\b\b\b\r\u001b[1m247/375\u001b[0m \u001b[32m━━━━━━━━━━━━━\u001b[0m\u001b[37m━━━━━━━\u001b[0m \u001b[1m0s\u001b[0m 4ms/step - accuracy: 0.9717 - loss: 0.0912"
                ]
              },
              {
                "output_type": "stream",
                "name": "stdout",
                "text": [
                  "\b\b\b\b\b\b\b\b\b\b\b\b\b\b\b\b\b\b\b\b\b\b\b\b\b\b\b\b\b\b\b\b\b\b\b\b\b\b\b\b\b\b\b\b\b\b\b\b\b\b\b\b\b\b\b\b\b\b\b\b\b\b\b\b\b\b\b\b\b\b\b\b\b\b\r\u001b[1m261/375\u001b[0m \u001b[32m━━━━━━━━━━━━━\u001b[0m\u001b[37m━━━━━━━\u001b[0m \u001b[1m0s\u001b[0m 4ms/step - accuracy: 0.9719 - loss: 0.0909"
                ]
              },
              {
                "output_type": "stream",
                "name": "stdout",
                "text": [
                  "\b\b\b\b\b\b\b\b\b\b\b\b\b\b\b\b\b\b\b\b\b\b\b\b\b\b\b\b\b\b\b\b\b\b\b\b\b\b\b\b\b\b\b\b\b\b\b\b\b\b\b\b\b\b\b\b\b\b\b\b\b\b\b\b\b\b\b\b\b\b\b\b\b\b\r\u001b[1m275/375\u001b[0m \u001b[32m━━━━━━━━━━━━━━\u001b[0m\u001b[37m━━━━━━\u001b[0m \u001b[1m0s\u001b[0m 4ms/step - accuracy: 0.9720 - loss: 0.0905"
                ]
              },
              {
                "output_type": "stream",
                "name": "stdout",
                "text": [
                  "\b\b\b\b\b\b\b\b\b\b\b\b\b\b\b\b\b\b\b\b\b\b\b\b\b\b\b\b\b\b\b\b\b\b\b\b\b\b\b\b\b\b\b\b\b\b\b\b\b\b\b\b\b\b\b\b\b\b\b\b\b\b\b\b\b\b\b\b\b\b\b\b\b\b\r\u001b[1m289/375\u001b[0m \u001b[32m━━━━━━━━━━━━━━━\u001b[0m\u001b[37m━━━━━\u001b[0m \u001b[1m0s\u001b[0m 4ms/step - accuracy: 0.9722 - loss: 0.0902"
                ]
              },
              {
                "output_type": "stream",
                "name": "stdout",
                "text": [
                  "\b\b\b\b\b\b\b\b\b\b\b\b\b\b\b\b\b\b\b\b\b\b\b\b\b\b\b\b\b\b\b\b\b\b\b\b\b\b\b\b\b\b\b\b\b\b\b\b\b\b\b\b\b\b\b\b\b\b\b\b\b\b\b\b\b\b\b\b\b\b\b\b\b\b\r\u001b[1m303/375\u001b[0m \u001b[32m━━━━━━━━━━━━━━━━\u001b[0m\u001b[37m━━━━\u001b[0m \u001b[1m0s\u001b[0m 4ms/step - accuracy: 0.9723 - loss: 0.0899"
                ]
              },
              {
                "output_type": "stream",
                "name": "stdout",
                "text": [
                  "\b\b\b\b\b\b\b\b\b\b\b\b\b\b\b\b\b\b\b\b\b\b\b\b\b\b\b\b\b\b\b\b\b\b\b\b\b\b\b\b\b\b\b\b\b\b\b\b\b\b\b\b\b\b\b\b\b\b\b\b\b\b\b\b\b\b\b\b\b\b\b\b\b\b\r\u001b[1m317/375\u001b[0m \u001b[32m━━━━━━━━━━━━━━━━\u001b[0m\u001b[37m━━━━\u001b[0m \u001b[1m0s\u001b[0m 4ms/step - accuracy: 0.9724 - loss: 0.0896"
                ]
              },
              {
                "output_type": "stream",
                "name": "stdout",
                "text": [
                  "\b\b\b\b\b\b\b\b\b\b\b\b\b\b\b\b\b\b\b\b\b\b\b\b\b\b\b\b\b\b\b\b\b\b\b\b\b\b\b\b\b\b\b\b\b\b\b\b\b\b\b\b\b\b\b\b\b\b\b\b\b\b\b\b\b\b\b\b\b\b\b\b\b\b\r\u001b[1m329/375\u001b[0m \u001b[32m━━━━━━━━━━━━━━━━━\u001b[0m\u001b[37m━━━\u001b[0m \u001b[1m0s\u001b[0m 4ms/step - accuracy: 0.9725 - loss: 0.0894"
                ]
              },
              {
                "output_type": "stream",
                "name": "stdout",
                "text": [
                  "\b\b\b\b\b\b\b\b\b\b\b\b\b\b\b\b\b\b\b\b\b\b\b\b\b\b\b\b\b\b\b\b\b\b\b\b\b\b\b\b\b\b\b\b\b\b\b\b\b\b\b\b\b\b\b\b\b\b\b\b\b\b\b\b\b\b\b\b\b\b\b\b\b\b\r\u001b[1m343/375\u001b[0m \u001b[32m━━━━━━━━━━━━━━━━━━\u001b[0m\u001b[37m━━\u001b[0m \u001b[1m0s\u001b[0m 4ms/step - accuracy: 0.9726 - loss: 0.0891"
                ]
              },
              {
                "output_type": "stream",
                "name": "stdout",
                "text": [
                  "\b\b\b\b\b\b\b\b\b\b\b\b\b\b\b\b\b\b\b\b\b\b\b\b\b\b\b\b\b\b\b\b\b\b\b\b\b\b\b\b\b\b\b\b\b\b\b\b\b\b\b\b\b\b\b\b\b\b\b\b\b\b\b\b\b\b\b\b\b\b\b\b\b\b\r\u001b[1m357/375\u001b[0m \u001b[32m━━━━━━━━━━━━━━━━━━━\u001b[0m\u001b[37m━\u001b[0m \u001b[1m0s\u001b[0m 4ms/step - accuracy: 0.9727 - loss: 0.0888"
                ]
              },
              {
                "output_type": "stream",
                "name": "stdout",
                "text": [
                  "\b\b\b\b\b\b\b\b\b\b\b\b\b\b\b\b\b\b\b\b\b\b\b\b\b\b\b\b\b\b\b\b\b\b\b\b\b\b\b\b\b\b\b\b\b\b\b\b\b\b\b\b\b\b\b\b\b\b\b\b\b\b\b\b\b\b\b\b\b\b\b\b\b\b\r\u001b[1m372/375\u001b[0m \u001b[32m━━━━━━━━━━━━━━━━━━━\u001b[0m\u001b[37m━\u001b[0m \u001b[1m0s\u001b[0m 4ms/step - accuracy: 0.9729 - loss: 0.0885"
                ]
              },
              {
                "output_type": "stream",
                "name": "stdout",
                "text": [
                  "\b\b\b\b\b\b\b\b\b\b\b\b\b\b\b\b\b\b\b\b\b\b\b\b\b\b\b\b\b\b\b\b\b\b\b\b\b\b\b\b\b\b\b\b\b\b\b\b\b\b\b\b\b\b\b\b\b\b\b\b\b\b\b\b\b\b\b\b\b\b\b\b\b\b\r\u001b[1m375/375\u001b[0m \u001b[32m━━━━━━━━━━━━━━━━━━━━\u001b[0m\u001b[37m\u001b[0m \u001b[1m2s\u001b[0m 4ms/step - accuracy: 0.9729 - loss: 0.0884 - val_accuracy: 0.9863 - val_loss: 0.0482\n"
                ]
              },
              {
                "output_type": "stream",
                "name": "stdout",
                "text": [
                  "Epoch 4/10\n"
                ]
              },
              {
                "output_type": "stream",
                "name": "stdout",
                "text": [
                  "\r\u001b[1m  1/375\u001b[0m \u001b[37m━━━━━━━━━━━━━━━━━━━━\u001b[0m \u001b[1m8s\u001b[0m 23ms/step - accuracy: 0.9922 - loss: 0.0739"
                ]
              },
              {
                "output_type": "stream",
                "name": "stdout",
                "text": [
                  "\b\b\b\b\b\b\b\b\b\b\b\b\b\b\b\b\b\b\b\b\b\b\b\b\b\b\b\b\b\b\b\b\b\b\b\b\b\b\b\b\b\b\b\b\b\b\b\b\b\b\b\b\b\b\b\b\b\b\b\b\b\b\b\b\b\b\b\b\b\b\b\b\b\b\b\r\u001b[1m 16/375\u001b[0m \u001b[37m━━━━━━━━━━━━━━━━━━━━\u001b[0m \u001b[1m1s\u001b[0m 4ms/step - accuracy: 0.9832 - loss: 0.0644 "
                ]
              },
              {
                "output_type": "stream",
                "name": "stdout",
                "text": [
                  "\b\b\b\b\b\b\b\b\b\b\b\b\b\b\b\b\b\b\b\b\b\b\b\b\b\b\b\b\b\b\b\b\b\b\b\b\b\b\b\b\b\b\b\b\b\b\b\b\b\b\b\b\b\b\b\b\b\b\b\b\b\b\b\b\b\b\b\b\b\b\b\b\b\b\r\u001b[1m 30/375\u001b[0m \u001b[32m━\u001b[0m\u001b[37m━━━━━━━━━━━━━━━━━━━\u001b[0m \u001b[1m1s\u001b[0m 4ms/step - accuracy: 0.9830 - loss: 0.0604"
                ]
              },
              {
                "output_type": "stream",
                "name": "stdout",
                "text": [
                  "\b\b\b\b\b\b\b\b\b\b\b\b\b\b\b\b\b\b\b\b\b\b\b\b\b\b\b\b\b\b\b\b\b\b\b\b\b\b\b\b\b\b\b\b\b\b\b\b\b\b\b\b\b\b\b\b\b\b\b\b\b\b\b\b\b\b\b\b\b\b\b\b\b\b\r\u001b[1m 44/375\u001b[0m \u001b[32m━━\u001b[0m\u001b[37m━━━━━━━━━━━━━━━━━━\u001b[0m \u001b[1m1s\u001b[0m 4ms/step - accuracy: 0.9818 - loss: 0.0609"
                ]
              },
              {
                "output_type": "stream",
                "name": "stdout",
                "text": [
                  "\b\b\b\b\b\b\b\b\b\b\b\b\b\b\b\b\b\b\b\b\b\b\b\b\b\b\b\b\b\b\b\b\b\b\b\b\b\b\b\b\b\b\b\b\b\b\b\b\b\b\b\b\b\b\b\b\b\b\b\b\b\b\b\b\b\b\b\b\b\b\b\b\b\b\r\u001b[1m 58/375\u001b[0m \u001b[32m━━━\u001b[0m\u001b[37m━━━━━━━━━━━━━━━━━\u001b[0m \u001b[1m1s\u001b[0m 4ms/step - accuracy: 0.9812 - loss: 0.0614"
                ]
              },
              {
                "output_type": "stream",
                "name": "stdout",
                "text": [
                  "\b\b\b\b\b\b\b\b\b\b\b\b\b\b\b\b\b\b\b\b\b\b\b\b\b\b\b\b\b\b\b\b\b\b\b\b\b\b\b\b\b\b\b\b\b\b\b\b\b\b\b\b\b\b\b\b\b\b\b\b\b\b\b\b\b\b\b\b\b\b\b\b\b\b\r\u001b[1m 72/375\u001b[0m \u001b[32m━━━\u001b[0m\u001b[37m━━━━━━━━━━━━━━━━━\u001b[0m \u001b[1m1s\u001b[0m 4ms/step - accuracy: 0.9807 - loss: 0.0622"
                ]
              },
              {
                "output_type": "stream",
                "name": "stdout",
                "text": [
                  "\b\b\b\b\b\b\b\b\b\b\b\b\b\b\b\b\b\b\b\b\b\b\b\b\b\b\b\b\b\b\b\b\b\b\b\b\b\b\b\b\b\b\b\b\b\b\b\b\b\b\b\b\b\b\b\b\b\b\b\b\b\b\b\b\b\b\b\b\b\b\b\b\b\b\r\u001b[1m 86/375\u001b[0m \u001b[32m━━━━\u001b[0m\u001b[37m━━━━━━━━━━━━━━━━\u001b[0m \u001b[1m1s\u001b[0m 4ms/step - accuracy: 0.9802 - loss: 0.0632"
                ]
              },
              {
                "output_type": "stream",
                "name": "stdout",
                "text": [
                  "\b\b\b\b\b\b\b\b\b\b\b\b\b\b\b\b\b\b\b\b\b\b\b\b\b\b\b\b\b\b\b\b\b\b\b\b\b\b\b\b\b\b\b\b\b\b\b\b\b\b\b\b\b\b\b\b\b\b\b\b\b\b\b\b\b\b\b\b\b\b\b\b\b\b\r\u001b[1m100/375\u001b[0m \u001b[32m━━━━━\u001b[0m\u001b[37m━━━━━━━━━━━━━━━\u001b[0m \u001b[1m1s\u001b[0m 4ms/step - accuracy: 0.9799 - loss: 0.0640"
                ]
              },
              {
                "output_type": "stream",
                "name": "stdout",
                "text": [
                  "\b\b\b\b\b\b\b\b\b\b\b\b\b\b\b\b\b\b\b\b\b\b\b\b\b\b\b\b\b\b\b\b\b\b\b\b\b\b\b\b\b\b\b\b\b\b\b\b\b\b\b\b\b\b\b\b\b\b\b\b\b\b\b\b\b\b\b\b\b\b\b\b\b\b\r\u001b[1m114/375\u001b[0m \u001b[32m━━━━━━\u001b[0m\u001b[37m━━━━━━━━━━━━━━\u001b[0m \u001b[1m0s\u001b[0m 4ms/step - accuracy: 0.9798 - loss: 0.0645"
                ]
              },
              {
                "output_type": "stream",
                "name": "stdout",
                "text": [
                  "\b\b\b\b\b\b\b\b\b\b\b\b\b\b\b\b\b\b\b\b\b\b\b\b\b\b\b\b\b\b\b\b\b\b\b\b\b\b\b\b\b\b\b\b\b\b\b\b\b\b\b\b\b\b\b\b\b\b\b\b\b\b\b\b\b\b\b\b\b\b\b\b\b\b\r\u001b[1m129/375\u001b[0m \u001b[32m━━━━━━\u001b[0m\u001b[37m━━━━━━━━━━━━━━\u001b[0m \u001b[1m0s\u001b[0m 4ms/step - accuracy: 0.9796 - loss: 0.0650"
                ]
              },
              {
                "output_type": "stream",
                "name": "stdout",
                "text": [
                  "\b\b\b\b\b\b\b\b\b\b\b\b\b\b\b\b\b\b\b\b\b\b\b\b\b\b\b\b\b\b\b\b\b\b\b\b\b\b\b\b\b\b\b\b\b\b\b\b\b\b\b\b\b\b\b\b\b\b\b\b\b\b\b\b\b\b\b\b\b\b\b\b\b\b\r\u001b[1m143/375\u001b[0m \u001b[32m━━━━━━━\u001b[0m\u001b[37m━━━━━━━━━━━━━\u001b[0m \u001b[1m0s\u001b[0m 4ms/step - accuracy: 0.9794 - loss: 0.0655"
                ]
              },
              {
                "output_type": "stream",
                "name": "stdout",
                "text": [
                  "\b\b\b\b\b\b\b\b\b\b\b\b\b\b\b\b\b\b\b\b\b\b\b\b\b\b\b\b\b\b\b\b\b\b\b\b\b\b\b\b\b\b\b\b\b\b\b\b\b\b\b\b\b\b\b\b\b\b\b\b\b\b\b\b\b\b\b\b\b\b\b\b\b\b\r\u001b[1m155/375\u001b[0m \u001b[32m━━━━━━━━\u001b[0m\u001b[37m━━━━━━━━━━━━\u001b[0m \u001b[1m0s\u001b[0m 4ms/step - accuracy: 0.9794 - loss: 0.0658"
                ]
              },
              {
                "output_type": "stream",
                "name": "stdout",
                "text": [
                  "\b\b\b\b\b\b\b\b\b\b\b\b\b\b\b\b\b\b\b\b\b\b\b\b\b\b\b\b\b\b\b\b\b\b\b\b\b\b\b\b\b\b\b\b\b\b\b\b\b\b\b\b\b\b\b\b\b\b\b\b\b\b\b\b\b\b\b\b\b\b\b\b\b\b\r\u001b[1m169/375\u001b[0m \u001b[32m━━━━━━━━━\u001b[0m\u001b[37m━━━━━━━━━━━\u001b[0m \u001b[1m0s\u001b[0m 4ms/step - accuracy: 0.9793 - loss: 0.0661"
                ]
              },
              {
                "output_type": "stream",
                "name": "stdout",
                "text": [
                  "\b\b\b\b\b\b\b\b\b\b\b\b\b\b\b\b\b\b\b\b\b\b\b\b\b\b\b\b\b\b\b\b\b\b\b\b\b\b\b\b\b\b\b\b\b\b\b\b\b\b\b\b\b\b\b\b\b\b\b\b\b\b\b\b\b\b\b\b\b\b\b\b\b\b\r\u001b[1m183/375\u001b[0m \u001b[32m━━━━━━━━━\u001b[0m\u001b[37m━━━━━━━━━━━\u001b[0m \u001b[1m0s\u001b[0m 4ms/step - accuracy: 0.9792 - loss: 0.0663"
                ]
              },
              {
                "output_type": "stream",
                "name": "stdout",
                "text": [
                  "\b\b\b\b\b\b\b\b\b\b\b\b\b\b\b\b\b\b\b\b\b\b\b\b\b\b\b\b\b\b\b\b\b\b\b\b\b\b\b\b\b\b\b\b\b\b\b\b\b\b\b\b\b\b\b\b\b\b\b\b\b\b\b\b\b\b\b\b\b\b\b\b\b\b\r\u001b[1m197/375\u001b[0m \u001b[32m━━━━━━━━━━\u001b[0m\u001b[37m━━━━━━━━━━\u001b[0m \u001b[1m0s\u001b[0m 4ms/step - accuracy: 0.9792 - loss: 0.0665"
                ]
              },
              {
                "output_type": "stream",
                "name": "stdout",
                "text": [
                  "\b\b\b\b\b\b\b\b\b\b\b\b\b\b\b\b\b\b\b\b\b\b\b\b\b\b\b\b\b\b\b\b\b\b\b\b\b\b\b\b\b\b\b\b\b\b\b\b\b\b\b\b\b\b\b\b\b\b\b\b\b\b\b\b\b\b\b\b\b\b\b\b\b\b\r\u001b[1m211/375\u001b[0m \u001b[32m━━━━━━━━━━━\u001b[0m\u001b[37m━━━━━━━━━\u001b[0m \u001b[1m0s\u001b[0m 4ms/step - accuracy: 0.9792 - loss: 0.0665"
                ]
              },
              {
                "output_type": "stream",
                "name": "stdout",
                "text": [
                  "\b\b\b\b\b\b\b\b\b\b\b\b\b\b\b\b\b\b\b\b\b\b\b\b\b\b\b\b\b\b\b\b\b\b\b\b\b\b\b\b\b\b\b\b\b\b\b\b\b\b\b\b\b\b\b\b\b\b\b\b\b\b\b\b\b\b\b\b\b\b\b\b\b\b\r\u001b[1m225/375\u001b[0m \u001b[32m━━━━━━━━━━━━\u001b[0m\u001b[37m━━━━━━━━\u001b[0m \u001b[1m0s\u001b[0m 4ms/step - accuracy: 0.9792 - loss: 0.0665"
                ]
              },
              {
                "output_type": "stream",
                "name": "stdout",
                "text": [
                  "\b\b\b\b\b\b\b\b\b\b\b\b\b\b\b\b\b\b\b\b\b\b\b\b\b\b\b\b\b\b\b\b\b\b\b\b\b\b\b\b\b\b\b\b\b\b\b\b\b\b\b\b\b\b\b\b\b\b\b\b\b\b\b\b\b\b\b\b\b\b\b\b\b\b\r\u001b[1m240/375\u001b[0m \u001b[32m━━━━━━━━━━━━\u001b[0m\u001b[37m━━━━━━━━\u001b[0m \u001b[1m0s\u001b[0m 4ms/step - accuracy: 0.9793 - loss: 0.0664"
                ]
              },
              {
                "output_type": "stream",
                "name": "stdout",
                "text": [
                  "\b\b\b\b\b\b\b\b\b\b\b\b\b\b\b\b\b\b\b\b\b\b\b\b\b\b\b\b\b\b\b\b\b\b\b\b\b\b\b\b\b\b\b\b\b\b\b\b\b\b\b\b\b\b\b\b\b\b\b\b\b\b\b\b\b\b\b\b\b\b\b\b\b\b\r\u001b[1m254/375\u001b[0m \u001b[32m━━━━━━━━━━━━━\u001b[0m\u001b[37m━━━━━━━\u001b[0m \u001b[1m0s\u001b[0m 4ms/step - accuracy: 0.9793 - loss: 0.0663"
                ]
              },
              {
                "output_type": "stream",
                "name": "stdout",
                "text": [
                  "\b\b\b\b\b\b\b\b\b\b\b\b\b\b\b\b\b\b\b\b\b\b\b\b\b\b\b\b\b\b\b\b\b\b\b\b\b\b\b\b\b\b\b\b\b\b\b\b\b\b\b\b\b\b\b\b\b\b\b\b\b\b\b\b\b\b\b\b\b\b\b\b\b\b\r\u001b[1m268/375\u001b[0m \u001b[32m━━━━━━━━━━━━━━\u001b[0m\u001b[37m━━━━━━\u001b[0m \u001b[1m0s\u001b[0m 4ms/step - accuracy: 0.9793 - loss: 0.0663"
                ]
              },
              {
                "output_type": "stream",
                "name": "stdout",
                "text": [
                  "\b\b\b\b\b\b\b\b\b\b\b\b\b\b\b\b\b\b\b\b\b\b\b\b\b\b\b\b\b\b\b\b\b\b\b\b\b\b\b\b\b\b\b\b\b\b\b\b\b\b\b\b\b\b\b\b\b\b\b\b\b\b\b\b\b\b\b\b\b\b\b\b\b\b\r\u001b[1m282/375\u001b[0m \u001b[32m━━━━━━━━━━━━━━━\u001b[0m\u001b[37m━━━━━\u001b[0m \u001b[1m0s\u001b[0m 4ms/step - accuracy: 0.9794 - loss: 0.0662"
                ]
              },
              {
                "output_type": "stream",
                "name": "stdout",
                "text": [
                  "\b\b\b\b\b\b\b\b\b\b\b\b\b\b\b\b\b\b\b\b\b\b\b\b\b\b\b\b\b\b\b\b\b\b\b\b\b\b\b\b\b\b\b\b\b\b\b\b\b\b\b\b\b\b\b\b\b\b\b\b\b\b\b\b\b\b\b\b\b\b\b\b\b\b\r\u001b[1m297/375\u001b[0m \u001b[32m━━━━━━━━━━━━━━━\u001b[0m\u001b[37m━━━━━\u001b[0m \u001b[1m0s\u001b[0m 4ms/step - accuracy: 0.9794 - loss: 0.0662"
                ]
              },
              {
                "output_type": "stream",
                "name": "stdout",
                "text": [
                  "\b\b\b\b\b\b\b\b\b\b\b\b\b\b\b\b\b\b\b\b\b\b\b\b\b\b\b\b\b\b\b\b\b\b\b\b\b\b\b\b\b\b\b\b\b\b\b\b\b\b\b\b\b\b\b\b\b\b\b\b\b\b\b\b\b\b\b\b\b\b\b\b\b\b\r\u001b[1m311/375\u001b[0m \u001b[32m━━━━━━━━━━━━━━━━\u001b[0m\u001b[37m━━━━\u001b[0m \u001b[1m0s\u001b[0m 4ms/step - accuracy: 0.9794 - loss: 0.0662"
                ]
              },
              {
                "output_type": "stream",
                "name": "stdout",
                "text": [
                  "\b\b\b\b\b\b\b\b\b\b\b\b\b\b\b\b\b\b\b\b\b\b\b\b\b\b\b\b\b\b\b\b\b\b\b\b\b\b\b\b\b\b\b\b\b\b\b\b\b\b\b\b\b\b\b\b\b\b\b\b\b\b\b\b\b\b\b\b\b\b\b\b\b\b\r\u001b[1m325/375\u001b[0m \u001b[32m━━━━━━━━━━━━━━━━━\u001b[0m\u001b[37m━━━\u001b[0m \u001b[1m0s\u001b[0m 4ms/step - accuracy: 0.9794 - loss: 0.0662"
                ]
              },
              {
                "output_type": "stream",
                "name": "stdout",
                "text": [
                  "\b\b\b\b\b\b\b\b\b\b\b\b\b\b\b\b\b\b\b\b\b\b\b\b\b\b\b\b\b\b\b\b\b\b\b\b\b\b\b\b\b\b\b\b\b\b\b\b\b\b\b\b\b\b\b\b\b\b\b\b\b\b\b\b\b\b\b\b\b\b\b\b\b\b\r\u001b[1m339/375\u001b[0m \u001b[32m━━━━━━━━━━━━━━━━━━\u001b[0m\u001b[37m━━\u001b[0m \u001b[1m0s\u001b[0m 4ms/step - accuracy: 0.9795 - loss: 0.0661"
                ]
              },
              {
                "output_type": "stream",
                "name": "stdout",
                "text": [
                  "\b\b\b\b\b\b\b\b\b\b\b\b\b\b\b\b\b\b\b\b\b\b\b\b\b\b\b\b\b\b\b\b\b\b\b\b\b\b\b\b\b\b\b\b\b\b\b\b\b\b\b\b\b\b\b\b\b\b\b\b\b\b\b\b\b\b\b\b\b\b\b\b\b\b\r\u001b[1m354/375\u001b[0m \u001b[32m━━━━━━━━━━━━━━━━━━\u001b[0m\u001b[37m━━\u001b[0m \u001b[1m0s\u001b[0m 4ms/step - accuracy: 0.9795 - loss: 0.0661"
                ]
              },
              {
                "output_type": "stream",
                "name": "stdout",
                "text": [
                  "\b\b\b\b\b\b\b\b\b\b\b\b\b\b\b\b\b\b\b\b\b\b\b\b\b\b\b\b\b\b\b\b\b\b\b\b\b\b\b\b\b\b\b\b\b\b\b\b\b\b\b\b\b\b\b\b\b\b\b\b\b\b\b\b\b\b\b\b\b\b\b\b\b\b\r\u001b[1m367/375\u001b[0m \u001b[32m━━━━━━━━━━━━━━━━━━━\u001b[0m\u001b[37m━\u001b[0m \u001b[1m0s\u001b[0m 4ms/step - accuracy: 0.9795 - loss: 0.0661"
                ]
              },
              {
                "output_type": "stream",
                "name": "stdout",
                "text": [
                  "\b\b\b\b\b\b\b\b\b\b\b\b\b\b\b\b\b\b\b\b\b\b\b\b\b\b\b\b\b\b\b\b\b\b\b\b\b\b\b\b\b\b\b\b\b\b\b\b\b\b\b\b\b\b\b\b\b\b\b\b\b\b\b\b\b\b\b\b\b\b\b\b\b\b\r\u001b[1m375/375\u001b[0m \u001b[32m━━━━━━━━━━━━━━━━━━━━\u001b[0m\u001b[37m\u001b[0m \u001b[1m2s\u001b[0m 5ms/step - accuracy: 0.9795 - loss: 0.0660 - val_accuracy: 0.9875 - val_loss: 0.0417\n"
                ]
              },
              {
                "output_type": "stream",
                "name": "stdout",
                "text": [
                  "Epoch 5/10\n"
                ]
              },
              {
                "output_type": "stream",
                "name": "stdout",
                "text": [
                  "\r\u001b[1m  1/375\u001b[0m \u001b[37m━━━━━━━━━━━━━━━━━━━━\u001b[0m \u001b[1m8s\u001b[0m 22ms/step - accuracy: 0.9844 - loss: 0.0640"
                ]
              },
              {
                "output_type": "stream",
                "name": "stdout",
                "text": [
                  "\b\b\b\b\b\b\b\b\b\b\b\b\b\b\b\b\b\b\b\b\b\b\b\b\b\b\b\b\b\b\b\b\b\b\b\b\b\b\b\b\b\b\b\b\b\b\b\b\b\b\b\b\b\b\b\b\b\b\b\b\b\b\b\b\b\b\b\b\b\b\b\b\b\b\b\r\u001b[1m 15/375\u001b[0m \u001b[37m━━━━━━━━━━━━━━━━━━━━\u001b[0m \u001b[1m1s\u001b[0m 4ms/step - accuracy: 0.9842 - loss: 0.0582 "
                ]
              },
              {
                "output_type": "stream",
                "name": "stdout",
                "text": [
                  "\b\b\b\b\b\b\b\b\b\b\b\b\b\b\b\b\b\b\b\b\b\b\b\b\b\b\b\b\b\b\b\b\b\b\b\b\b\b\b\b\b\b\b\b\b\b\b\b\b\b\b\b\b\b\b\b\b\b\b\b\b\b\b\b\b\b\b\b\b\b\b\b\b\b\r\u001b[1m 29/375\u001b[0m \u001b[32m━\u001b[0m\u001b[37m━━━━━━━━━━━━━━━━━━━\u001b[0m \u001b[1m1s\u001b[0m 4ms/step - accuracy: 0.9843 - loss: 0.0560"
                ]
              },
              {
                "output_type": "stream",
                "name": "stdout",
                "text": [
                  "\b\b\b\b\b\b\b\b\b\b\b\b\b\b\b\b\b\b\b\b\b\b\b\b\b\b\b\b\b\b\b\b\b\b\b\b\b\b\b\b\b\b\b\b\b\b\b\b\b\b\b\b\b\b\b\b\b\b\b\b\b\b\b\b\b\b\b\b\b\b\b\b\b\b\r\u001b[1m 44/375\u001b[0m \u001b[32m━━\u001b[0m\u001b[37m━━━━━━━━━━━━━━━━━━\u001b[0m \u001b[1m1s\u001b[0m 4ms/step - accuracy: 0.9836 - loss: 0.0555"
                ]
              },
              {
                "output_type": "stream",
                "name": "stdout",
                "text": [
                  "\b\b\b\b\b\b\b\b\b\b\b\b\b\b\b\b\b\b\b\b\b\b\b\b\b\b\b\b\b\b\b\b\b\b\b\b\b\b\b\b\b\b\b\b\b\b\b\b\b\b\b\b\b\b\b\b\b\b\b\b\b\b\b\b\b\b\b\b\b\b\b\b\b\b\r\u001b[1m 58/375\u001b[0m \u001b[32m━━━\u001b[0m\u001b[37m━━━━━━━━━━━━━━━━━\u001b[0m \u001b[1m1s\u001b[0m 4ms/step - accuracy: 0.9833 - loss: 0.0552"
                ]
              },
              {
                "output_type": "stream",
                "name": "stdout",
                "text": [
                  "\b\b\b\b\b\b\b\b\b\b\b\b\b\b\b\b\b\b\b\b\b\b\b\b\b\b\b\b\b\b\b\b\b\b\b\b\b\b\b\b\b\b\b\b\b\b\b\b\b\b\b\b\b\b\b\b\b\b\b\b\b\b\b\b\b\b\b\b\b\b\b\b\b\b\r\u001b[1m 72/375\u001b[0m \u001b[32m━━━\u001b[0m\u001b[37m━━━━━━━━━━━━━━━━━\u001b[0m \u001b[1m1s\u001b[0m 4ms/step - accuracy: 0.9832 - loss: 0.0548"
                ]
              },
              {
                "output_type": "stream",
                "name": "stdout",
                "text": [
                  "\b\b\b\b\b\b\b\b\b\b\b\b\b\b\b\b\b\b\b\b\b\b\b\b\b\b\b\b\b\b\b\b\b\b\b\b\b\b\b\b\b\b\b\b\b\b\b\b\b\b\b\b\b\b\b\b\b\b\b\b\b\b\b\b\b\b\b\b\b\b\b\b\b\b\r\u001b[1m 86/375\u001b[0m \u001b[32m━━━━\u001b[0m\u001b[37m━━━━━━━━━━━━━━━━\u001b[0m \u001b[1m1s\u001b[0m 4ms/step - accuracy: 0.9831 - loss: 0.0549"
                ]
              },
              {
                "output_type": "stream",
                "name": "stdout",
                "text": [
                  "\b\b\b\b\b\b\b\b\b\b\b\b\b\b\b\b\b\b\b\b\b\b\b\b\b\b\b\b\b\b\b\b\b\b\b\b\b\b\b\b\b\b\b\b\b\b\b\b\b\b\b\b\b\b\b\b\b\b\b\b\b\b\b\b\b\b\b\b\b\b\b\b\b\b\r\u001b[1m100/375\u001b[0m \u001b[32m━━━━━\u001b[0m\u001b[37m━━━━━━━━━━━━━━━\u001b[0m \u001b[1m0s\u001b[0m 4ms/step - accuracy: 0.9831 - loss: 0.0551"
                ]
              },
              {
                "output_type": "stream",
                "name": "stdout",
                "text": [
                  "\b\b\b\b\b\b\b\b\b\b\b\b\b\b\b\b\b\b\b\b\b\b\b\b\b\b\b\b\b\b\b\b\b\b\b\b\b\b\b\b\b\b\b\b\b\b\b\b\b\b\b\b\b\b\b\b\b\b\b\b\b\b\b\b\b\b\b\b\b\b\b\b\b\b\r\u001b[1m114/375\u001b[0m \u001b[32m━━━━━━\u001b[0m\u001b[37m━━━━━━━━━━━━━━\u001b[0m \u001b[1m0s\u001b[0m 4ms/step - accuracy: 0.9831 - loss: 0.0553"
                ]
              },
              {
                "output_type": "stream",
                "name": "stdout",
                "text": [
                  "\b\b\b\b\b\b\b\b\b\b\b\b\b\b\b\b\b\b\b\b\b\b\b\b\b\b\b\b\b\b\b\b\b\b\b\b\b\b\b\b\b\b\b\b\b\b\b\b\b\b\b\b\b\b\b\b\b\b\b\b\b\b\b\b\b\b\b\b\b\b\b\b\b\b\r\u001b[1m128/375\u001b[0m \u001b[32m━━━━━━\u001b[0m\u001b[37m━━━━━━━━━━━━━━\u001b[0m \u001b[1m0s\u001b[0m 4ms/step - accuracy: 0.9831 - loss: 0.0555"
                ]
              },
              {
                "output_type": "stream",
                "name": "stdout",
                "text": [
                  "\b\b\b\b\b\b\b\b\b\b\b\b\b\b\b\b\b\b\b\b\b\b\b\b\b\b\b\b\b\b\b\b\b\b\b\b\b\b\b\b\b\b\b\b\b\b\b\b\b\b\b\b\b\b\b\b\b\b\b\b\b\b\b\b\b\b\b\b\b\b\b\b\b\b\r\u001b[1m142/375\u001b[0m \u001b[32m━━━━━━━\u001b[0m\u001b[37m━━━━━━━━━━━━━\u001b[0m \u001b[1m0s\u001b[0m 4ms/step - accuracy: 0.9830 - loss: 0.0558"
                ]
              },
              {
                "output_type": "stream",
                "name": "stdout",
                "text": [
                  "\b\b\b\b\b\b\b\b\b\b\b\b\b\b\b\b\b\b\b\b\b\b\b\b\b\b\b\b\b\b\b\b\b\b\b\b\b\b\b\b\b\b\b\b\b\b\b\b\b\b\b\b\b\b\b\b\b\b\b\b\b\b\b\b\b\b\b\b\b\b\b\b\b\b\r\u001b[1m156/375\u001b[0m \u001b[32m━━━━━━━━\u001b[0m\u001b[37m━━━━━━━━━━━━\u001b[0m \u001b[1m0s\u001b[0m 4ms/step - accuracy: 0.9830 - loss: 0.0561"
                ]
              },
              {
                "output_type": "stream",
                "name": "stdout",
                "text": [
                  "\b\b\b\b\b\b\b\b\b\b\b\b\b\b\b\b\b\b\b\b\b\b\b\b\b\b\b\b\b\b\b\b\b\b\b\b\b\b\b\b\b\b\b\b\b\b\b\b\b\b\b\b\b\b\b\b\b\b\b\b\b\b\b\b\b\b\b\b\b\b\b\b\b\b\r\u001b[1m170/375\u001b[0m \u001b[32m━━━━━━━━━\u001b[0m\u001b[37m━━━━━━━━━━━\u001b[0m \u001b[1m0s\u001b[0m 4ms/step - accuracy: 0.9829 - loss: 0.0563"
                ]
              },
              {
                "output_type": "stream",
                "name": "stdout",
                "text": [
                  "\b\b\b\b\b\b\b\b\b\b\b\b\b\b\b\b\b\b\b\b\b\b\b\b\b\b\b\b\b\b\b\b\b\b\b\b\b\b\b\b\b\b\b\b\b\b\b\b\b\b\b\b\b\b\b\b\b\b\b\b\b\b\b\b\b\b\b\b\b\b\b\b\b\b\r\u001b[1m185/375\u001b[0m \u001b[32m━━━━━━━━━\u001b[0m\u001b[37m━━━━━━━━━━━\u001b[0m \u001b[1m0s\u001b[0m 4ms/step - accuracy: 0.9829 - loss: 0.0565"
                ]
              },
              {
                "output_type": "stream",
                "name": "stdout",
                "text": [
                  "\b\b\b\b\b\b\b\b\b\b\b\b\b\b\b\b\b\b\b\b\b\b\b\b\b\b\b\b\b\b\b\b\b\b\b\b\b\b\b\b\b\b\b\b\b\b\b\b\b\b\b\b\b\b\b\b\b\b\b\b\b\b\b\b\b\b\b\b\b\b\b\b\b\b\r\u001b[1m200/375\u001b[0m \u001b[32m━━━━━━━━━━\u001b[0m\u001b[37m━━━━━━━━━━\u001b[0m \u001b[1m0s\u001b[0m 4ms/step - accuracy: 0.9829 - loss: 0.0565"
                ]
              },
              {
                "output_type": "stream",
                "name": "stdout",
                "text": [
                  "\b\b\b\b\b\b\b\b\b\b\b\b\b\b\b\b\b\b\b\b\b\b\b\b\b\b\b\b\b\b\b\b\b\b\b\b\b\b\b\b\b\b\b\b\b\b\b\b\b\b\b\b\b\b\b\b\b\b\b\b\b\b\b\b\b\b\b\b\b\b\b\b\b\b\r\u001b[1m215/375\u001b[0m \u001b[32m━━━━━━━━━━━\u001b[0m\u001b[37m━━━━━━━━━\u001b[0m \u001b[1m0s\u001b[0m 4ms/step - accuracy: 0.9829 - loss: 0.0565"
                ]
              },
              {
                "output_type": "stream",
                "name": "stdout",
                "text": [
                  "\b\b\b\b\b\b\b\b\b\b\b\b\b\b\b\b\b\b\b\b\b\b\b\b\b\b\b\b\b\b\b\b\b\b\b\b\b\b\b\b\b\b\b\b\b\b\b\b\b\b\b\b\b\b\b\b\b\b\b\b\b\b\b\b\b\b\b\b\b\b\b\b\b\b\r\u001b[1m229/375\u001b[0m \u001b[32m━━━━━━━━━━━━\u001b[0m\u001b[37m━━━━━━━━\u001b[0m \u001b[1m0s\u001b[0m 4ms/step - accuracy: 0.9829 - loss: 0.0565"
                ]
              },
              {
                "output_type": "stream",
                "name": "stdout",
                "text": [
                  "\b\b\b\b\b\b\b\b\b\b\b\b\b\b\b\b\b\b\b\b\b\b\b\b\b\b\b\b\b\b\b\b\b\b\b\b\b\b\b\b\b\b\b\b\b\b\b\b\b\b\b\b\b\b\b\b\b\b\b\b\b\b\b\b\b\b\b\b\b\b\b\b\b\b\r\u001b[1m243/375\u001b[0m \u001b[32m━━━━━━━━━━━━\u001b[0m\u001b[37m━━━━━━━━\u001b[0m \u001b[1m0s\u001b[0m 4ms/step - accuracy: 0.9829 - loss: 0.0564"
                ]
              },
              {
                "output_type": "stream",
                "name": "stdout",
                "text": [
                  "\b\b\b\b\b\b\b\b\b\b\b\b\b\b\b\b\b\b\b\b\b\b\b\b\b\b\b\b\b\b\b\b\b\b\b\b\b\b\b\b\b\b\b\b\b\b\b\b\b\b\b\b\b\b\b\b\b\b\b\b\b\b\b\b\b\b\b\b\b\b\b\b\b\b\r\u001b[1m255/375\u001b[0m \u001b[32m━━━━━━━━━━━━━\u001b[0m\u001b[37m━━━━━━━\u001b[0m \u001b[1m0s\u001b[0m 4ms/step - accuracy: 0.9830 - loss: 0.0563"
                ]
              },
              {
                "output_type": "stream",
                "name": "stdout",
                "text": [
                  "\b\b\b\b\b\b\b\b\b\b\b\b\b\b\b\b\b\b\b\b\b\b\b\b\b\b\b\b\b\b\b\b\b\b\b\b\b\b\b\b\b\b\b\b\b\b\b\b\b\b\b\b\b\b\b\b\b\b\b\b\b\b\b\b\b\b\b\b\b\b\b\b\b\b\r\u001b[1m270/375\u001b[0m \u001b[32m━━━━━━━━━━━━━━\u001b[0m\u001b[37m━━━━━━\u001b[0m \u001b[1m0s\u001b[0m 4ms/step - accuracy: 0.9830 - loss: 0.0563"
                ]
              },
              {
                "output_type": "stream",
                "name": "stdout",
                "text": [
                  "\b\b\b\b\b\b\b\b\b\b\b\b\b\b\b\b\b\b\b\b\b\b\b\b\b\b\b\b\b\b\b\b\b\b\b\b\b\b\b\b\b\b\b\b\b\b\b\b\b\b\b\b\b\b\b\b\b\b\b\b\b\b\b\b\b\b\b\b\b\b\b\b\b\b\r\u001b[1m285/375\u001b[0m \u001b[32m━━━━━━━━━━━━━━━\u001b[0m\u001b[37m━━━━━\u001b[0m \u001b[1m0s\u001b[0m 4ms/step - accuracy: 0.9830 - loss: 0.0562"
                ]
              },
              {
                "output_type": "stream",
                "name": "stdout",
                "text": [
                  "\b\b\b\b\b\b\b\b\b\b\b\b\b\b\b\b\b\b\b\b\b\b\b\b\b\b\b\b\b\b\b\b\b\b\b\b\b\b\b\b\b\b\b\b\b\b\b\b\b\b\b\b\b\b\b\b\b\b\b\b\b\b\b\b\b\b\b\b\b\b\b\b\b\b\r\u001b[1m299/375\u001b[0m \u001b[32m━━━━━━━━━━━━━━━\u001b[0m\u001b[37m━━━━━\u001b[0m \u001b[1m0s\u001b[0m 4ms/step - accuracy: 0.9831 - loss: 0.0561"
                ]
              },
              {
                "output_type": "stream",
                "name": "stdout",
                "text": [
                  "\b\b\b\b\b\b\b\b\b\b\b\b\b\b\b\b\b\b\b\b\b\b\b\b\b\b\b\b\b\b\b\b\b\b\b\b\b\b\b\b\b\b\b\b\b\b\b\b\b\b\b\b\b\b\b\b\b\b\b\b\b\b\b\b\b\b\b\b\b\b\b\b\b\b\r\u001b[1m314/375\u001b[0m \u001b[32m━━━━━━━━━━━━━━━━\u001b[0m\u001b[37m━━━━\u001b[0m \u001b[1m0s\u001b[0m 4ms/step - accuracy: 0.9831 - loss: 0.0560"
                ]
              },
              {
                "output_type": "stream",
                "name": "stdout",
                "text": [
                  "\b\b\b\b\b\b\b\b\b\b\b\b\b\b\b\b\b\b\b\b\b\b\b\b\b\b\b\b\b\b\b\b\b\b\b\b\b\b\b\b\b\b\b\b\b\b\b\b\b\b\b\b\b\b\b\b\b\b\b\b\b\b\b\b\b\b\b\b\b\b\b\b\b\b\r\u001b[1m328/375\u001b[0m \u001b[32m━━━━━━━━━━━━━━━━━\u001b[0m\u001b[37m━━━\u001b[0m \u001b[1m0s\u001b[0m 4ms/step - accuracy: 0.9831 - loss: 0.0559"
                ]
              },
              {
                "output_type": "stream",
                "name": "stdout",
                "text": [
                  "\b\b\b\b\b\b\b\b\b\b\b\b\b\b\b\b\b\b\b\b\b\b\b\b\b\b\b\b\b\b\b\b\b\b\b\b\b\b\b\b\b\b\b\b\b\b\b\b\b\b\b\b\b\b\b\b\b\b\b\b\b\b\b\b\b\b\b\b\b\b\b\b\b\b\r\u001b[1m342/375\u001b[0m \u001b[32m━━━━━━━━━━━━━━━━━━\u001b[0m\u001b[37m━━\u001b[0m \u001b[1m0s\u001b[0m 4ms/step - accuracy: 0.9831 - loss: 0.0559"
                ]
              },
              {
                "output_type": "stream",
                "name": "stdout",
                "text": [
                  "\b\b\b\b\b\b\b\b\b\b\b\b\b\b\b\b\b\b\b\b\b\b\b\b\b\b\b\b\b\b\b\b\b\b\b\b\b\b\b\b\b\b\b\b\b\b\b\b\b\b\b\b\b\b\b\b\b\b\b\b\b\b\b\b\b\b\b\b\b\b\b\b\b\b\r\u001b[1m356/375\u001b[0m \u001b[32m━━━━━━━━━━━━━━━━━━\u001b[0m\u001b[37m━━\u001b[0m \u001b[1m0s\u001b[0m 4ms/step - accuracy: 0.9832 - loss: 0.0558"
                ]
              },
              {
                "output_type": "stream",
                "name": "stdout",
                "text": [
                  "\b\b\b\b\b\b\b\b\b\b\b\b\b\b\b\b\b\b\b\b\b\b\b\b\b\b\b\b\b\b\b\b\b\b\b\b\b\b\b\b\b\b\b\b\b\b\b\b\b\b\b\b\b\b\b\b\b\b\b\b\b\b\b\b\b\b\b\b\b\b\b\b\b\b\r\u001b[1m371/375\u001b[0m \u001b[32m━━━━━━━━━━━━━━━━━━━\u001b[0m\u001b[37m━\u001b[0m \u001b[1m0s\u001b[0m 4ms/step - accuracy: 0.9832 - loss: 0.0558"
                ]
              },
              {
                "output_type": "stream",
                "name": "stdout",
                "text": [
                  "\b\b\b\b\b\b\b\b\b\b\b\b\b\b\b\b\b\b\b\b\b\b\b\b\b\b\b\b\b\b\b\b\b\b\b\b\b\b\b\b\b\b\b\b\b\b\b\b\b\b\b\b\b\b\b\b\b\b\b\b\b\b\b\b\b\b\b\b\b\b\b\b\b\b\r\u001b[1m375/375\u001b[0m \u001b[32m━━━━━━━━━━━━━━━━━━━━\u001b[0m\u001b[37m\u001b[0m \u001b[1m2s\u001b[0m 5ms/step - accuracy: 0.9832 - loss: 0.0557 - val_accuracy: 0.9877 - val_loss: 0.0414\n"
                ]
              },
              {
                "output_type": "stream",
                "name": "stdout",
                "text": [
                  "Epoch 6/10\n"
                ]
              },
              {
                "output_type": "stream",
                "name": "stdout",
                "text": [
                  "\r\u001b[1m  1/375\u001b[0m \u001b[37m━━━━━━━━━━━━━━━━━━━━\u001b[0m \u001b[1m8s\u001b[0m 22ms/step - accuracy: 0.9844 - loss: 0.0286"
                ]
              },
              {
                "output_type": "stream",
                "name": "stdout",
                "text": [
                  "\b\b\b\b\b\b\b\b\b\b\b\b\b\b\b\b\b\b\b\b\b\b\b\b\b\b\b\b\b\b\b\b\b\b\b\b\b\b\b\b\b\b\b\b\b\b\b\b\b\b\b\b\b\b\b\b\b\b\b\b\b\b\b\b\b\b\b\b\b\b\b\b\b\b\b\r\u001b[1m 15/375\u001b[0m \u001b[37m━━━━━━━━━━━━━━━━━━━━\u001b[0m \u001b[1m1s\u001b[0m 4ms/step - accuracy: 0.9851 - loss: 0.0329 "
                ]
              },
              {
                "output_type": "stream",
                "name": "stdout",
                "text": [
                  "\b\b\b\b\b\b\b\b\b\b\b\b\b\b\b\b\b\b\b\b\b\b\b\b\b\b\b\b\b\b\b\b\b\b\b\b\b\b\b\b\b\b\b\b\b\b\b\b\b\b\b\b\b\b\b\b\b\b\b\b\b\b\b\b\b\b\b\b\b\b\b\b\b\b\r\u001b[1m 29/375\u001b[0m \u001b[32m━\u001b[0m\u001b[37m━━━━━━━━━━━━━━━━━━━\u001b[0m \u001b[1m1s\u001b[0m 4ms/step - accuracy: 0.9848 - loss: 0.0358"
                ]
              },
              {
                "output_type": "stream",
                "name": "stdout",
                "text": [
                  "\b\b\b\b\b\b\b\b\b\b\b\b\b\b\b\b\b\b\b\b\b\b\b\b\b\b\b\b\b\b\b\b\b\b\b\b\b\b\b\b\b\b\b\b\b\b\b\b\b\b\b\b\b\b\b\b\b\b\b\b\b\b\b\b\b\b\b\b\b\b\b\b\b\b\r\u001b[1m 43/375\u001b[0m \u001b[32m━━\u001b[0m\u001b[37m━━━━━━━━━━━━━━━━━━\u001b[0m \u001b[1m1s\u001b[0m 4ms/step - accuracy: 0.9841 - loss: 0.0396"
                ]
              },
              {
                "output_type": "stream",
                "name": "stdout",
                "text": [
                  "\b\b\b\b\b\b\b\b\b\b\b\b\b\b\b\b\b\b\b\b\b\b\b\b\b\b\b\b\b\b\b\b\b\b\b\b\b\b\b\b\b\b\b\b\b\b\b\b\b\b\b\b\b\b\b\b\b\b\b\b\b\b\b\b\b\b\b\b\b\b\b\b\b\b\r\u001b[1m 56/375\u001b[0m \u001b[32m━━\u001b[0m\u001b[37m━━━━━━━━━━━━━━━━━━\u001b[0m \u001b[1m1s\u001b[0m 4ms/step - accuracy: 0.9838 - loss: 0.0417"
                ]
              },
              {
                "output_type": "stream",
                "name": "stdout",
                "text": [
                  "\b\b\b\b\b\b\b\b\b\b\b\b\b\b\b\b\b\b\b\b\b\b\b\b\b\b\b\b\b\b\b\b\b\b\b\b\b\b\b\b\b\b\b\b\b\b\b\b\b\b\b\b\b\b\b\b\b\b\b\b\b\b\b\b\b\b\b\b\b\b\b\b\b\b\r\u001b[1m 68/375\u001b[0m \u001b[32m━━━\u001b[0m\u001b[37m━━━━━━━━━━━━━━━━━\u001b[0m \u001b[1m1s\u001b[0m 4ms/step - accuracy: 0.9837 - loss: 0.0429"
                ]
              },
              {
                "output_type": "stream",
                "name": "stdout",
                "text": [
                  "\b\b\b\b\b\b\b\b\b\b\b\b\b\b\b\b\b\b\b\b\b\b\b\b\b\b\b\b\b\b\b\b\b\b\b\b\b\b\b\b\b\b\b\b\b\b\b\b\b\b\b\b\b\b\b\b\b\b\b\b\b\b\b\b\b\b\b\b\b\b\b\b\b\b\r\u001b[1m 82/375\u001b[0m \u001b[32m━━━━\u001b[0m\u001b[37m━━━━━━━━━━━━━━━━\u001b[0m \u001b[1m1s\u001b[0m 4ms/step - accuracy: 0.9836 - loss: 0.0442"
                ]
              },
              {
                "output_type": "stream",
                "name": "stdout",
                "text": [
                  "\b\b\b\b\b\b\b\b\b\b\b\b\b\b\b\b\b\b\b\b\b\b\b\b\b\b\b\b\b\b\b\b\b\b\b\b\b\b\b\b\b\b\b\b\b\b\b\b\b\b\b\b\b\b\b\b\b\b\b\b\b\b\b\b\b\b\b\b\b\b\b\b\b\b\r\u001b[1m 96/375\u001b[0m \u001b[32m━━━━━\u001b[0m\u001b[37m━━━━━━━━━━━━━━━\u001b[0m \u001b[1m1s\u001b[0m 4ms/step - accuracy: 0.9835 - loss: 0.0452"
                ]
              },
              {
                "output_type": "stream",
                "name": "stdout",
                "text": [
                  "\b\b\b\b\b\b\b\b\b\b\b\b\b\b\b\b\b\b\b\b\b\b\b\b\b\b\b\b\b\b\b\b\b\b\b\b\b\b\b\b\b\b\b\b\b\b\b\b\b\b\b\b\b\b\b\b\b\b\b\b\b\b\b\b\b\b\b\b\b\b\b\b\b\b\r\u001b[1m111/375\u001b[0m \u001b[32m━━━━━\u001b[0m\u001b[37m━━━━━━━━━━━━━━━\u001b[0m \u001b[1m0s\u001b[0m 4ms/step - accuracy: 0.9834 - loss: 0.0461"
                ]
              },
              {
                "output_type": "stream",
                "name": "stdout",
                "text": [
                  "\b\b\b\b\b\b\b\b\b\b\b\b\b\b\b\b\b\b\b\b\b\b\b\b\b\b\b\b\b\b\b\b\b\b\b\b\b\b\b\b\b\b\b\b\b\b\b\b\b\b\b\b\b\b\b\b\b\b\b\b\b\b\b\b\b\b\b\b\b\b\b\b\b\b\r\u001b[1m125/375\u001b[0m \u001b[32m━━━━━━\u001b[0m\u001b[37m━━━━━━━━━━━━━━\u001b[0m \u001b[1m0s\u001b[0m 4ms/step - accuracy: 0.9834 - loss: 0.0466"
                ]
              },
              {
                "output_type": "stream",
                "name": "stdout",
                "text": [
                  "\b\b\b\b\b\b\b\b\b\b\b\b\b\b\b\b\b\b\b\b\b\b\b\b\b\b\b\b\b\b\b\b\b\b\b\b\b\b\b\b\b\b\b\b\b\b\b\b\b\b\b\b\b\b\b\b\b\b\b\b\b\b\b\b\b\b\b\b\b\b\b\b\b\b\r\u001b[1m140/375\u001b[0m \u001b[32m━━━━━━━\u001b[0m\u001b[37m━━━━━━━━━━━━━\u001b[0m \u001b[1m0s\u001b[0m 4ms/step - accuracy: 0.9834 - loss: 0.0471"
                ]
              },
              {
                "output_type": "stream",
                "name": "stdout",
                "text": [
                  "\b\b\b\b\b\b\b\b\b\b\b\b\b\b\b\b\b\b\b\b\b\b\b\b\b\b\b\b\b\b\b\b\b\b\b\b\b\b\b\b\b\b\b\b\b\b\b\b\b\b\b\b\b\b\b\b\b\b\b\b\b\b\b\b\b\b\b\b\b\b\b\b\b\b\r\u001b[1m155/375\u001b[0m \u001b[32m━━━━━━━━\u001b[0m\u001b[37m━━━━━━━━━━━━\u001b[0m \u001b[1m0s\u001b[0m 4ms/step - accuracy: 0.9834 - loss: 0.0476"
                ]
              },
              {
                "output_type": "stream",
                "name": "stdout",
                "text": [
                  "\b\b\b\b\b\b\b\b\b\b\b\b\b\b\b\b\b\b\b\b\b\b\b\b\b\b\b\b\b\b\b\b\b\b\b\b\b\b\b\b\b\b\b\b\b\b\b\b\b\b\b\b\b\b\b\b\b\b\b\b\b\b\b\b\b\b\b\b\b\b\b\b\b\b\r\u001b[1m169/375\u001b[0m \u001b[32m━━━━━━━━━\u001b[0m\u001b[37m━━━━━━━━━━━\u001b[0m \u001b[1m0s\u001b[0m 4ms/step - accuracy: 0.9834 - loss: 0.0480"
                ]
              },
              {
                "output_type": "stream",
                "name": "stdout",
                "text": [
                  "\b\b\b\b\b\b\b\b\b\b\b\b\b\b\b\b\b\b\b\b\b\b\b\b\b\b\b\b\b\b\b\b\b\b\b\b\b\b\b\b\b\b\b\b\b\b\b\b\b\b\b\b\b\b\b\b\b\b\b\b\b\b\b\b\b\b\b\b\b\b\b\b\b\b\r\u001b[1m183/375\u001b[0m \u001b[32m━━━━━━━━━\u001b[0m\u001b[37m━━━━━━━━━━━\u001b[0m \u001b[1m0s\u001b[0m 4ms/step - accuracy: 0.9834 - loss: 0.0483"
                ]
              },
              {
                "output_type": "stream",
                "name": "stdout",
                "text": [
                  "\b\b\b\b\b\b\b\b\b\b\b\b\b\b\b\b\b\b\b\b\b\b\b\b\b\b\b\b\b\b\b\b\b\b\b\b\b\b\b\b\b\b\b\b\b\b\b\b\b\b\b\b\b\b\b\b\b\b\b\b\b\b\b\b\b\b\b\b\b\b\b\b\b\b\r\u001b[1m197/375\u001b[0m \u001b[32m━━━━━━━━━━\u001b[0m\u001b[37m━━━━━━━━━━\u001b[0m \u001b[1m0s\u001b[0m 4ms/step - accuracy: 0.9834 - loss: 0.0485"
                ]
              },
              {
                "output_type": "stream",
                "name": "stdout",
                "text": [
                  "\b\b\b\b\b\b\b\b\b\b\b\b\b\b\b\b\b\b\b\b\b\b\b\b\b\b\b\b\b\b\b\b\b\b\b\b\b\b\b\b\b\b\b\b\b\b\b\b\b\b\b\b\b\b\b\b\b\b\b\b\b\b\b\b\b\b\b\b\b\b\b\b\b\b\r\u001b[1m211/375\u001b[0m \u001b[32m━━━━━━━━━━━\u001b[0m\u001b[37m━━━━━━━━━\u001b[0m \u001b[1m0s\u001b[0m 4ms/step - accuracy: 0.9834 - loss: 0.0486"
                ]
              },
              {
                "output_type": "stream",
                "name": "stdout",
                "text": [
                  "\b\b\b\b\b\b\b\b\b\b\b\b\b\b\b\b\b\b\b\b\b\b\b\b\b\b\b\b\b\b\b\b\b\b\b\b\b\b\b\b\b\b\b\b\b\b\b\b\b\b\b\b\b\b\b\b\b\b\b\b\b\b\b\b\b\b\b\b\b\b\b\b\b\b\r\u001b[1m224/375\u001b[0m \u001b[32m━━━━━━━━━━━\u001b[0m\u001b[37m━━━━━━━━━\u001b[0m \u001b[1m0s\u001b[0m 4ms/step - accuracy: 0.9835 - loss: 0.0486"
                ]
              },
              {
                "output_type": "stream",
                "name": "stdout",
                "text": [
                  "\b\b\b\b\b\b\b\b\b\b\b\b\b\b\b\b\b\b\b\b\b\b\b\b\b\b\b\b\b\b\b\b\b\b\b\b\b\b\b\b\b\b\b\b\b\b\b\b\b\b\b\b\b\b\b\b\b\b\b\b\b\b\b\b\b\b\b\b\b\b\b\b\b\b\r\u001b[1m238/375\u001b[0m \u001b[32m━━━━━━━━━━━━\u001b[0m\u001b[37m━━━━━━━━\u001b[0m \u001b[1m0s\u001b[0m 4ms/step - accuracy: 0.9836 - loss: 0.0486"
                ]
              },
              {
                "output_type": "stream",
                "name": "stdout",
                "text": [
                  "\b\b\b\b\b\b\b\b\b\b\b\b\b\b\b\b\b\b\b\b\b\b\b\b\b\b\b\b\b\b\b\b\b\b\b\b\b\b\b\b\b\b\b\b\b\b\b\b\b\b\b\b\b\b\b\b\b\b\b\b\b\b\b\b\b\b\b\b\b\b\b\b\b\b\r\u001b[1m252/375\u001b[0m \u001b[32m━━━━━━━━━━━━━\u001b[0m\u001b[37m━━━━━━━\u001b[0m \u001b[1m0s\u001b[0m 4ms/step - accuracy: 0.9836 - loss: 0.0486"
                ]
              },
              {
                "output_type": "stream",
                "name": "stdout",
                "text": [
                  "\b\b\b\b\b\b\b\b\b\b\b\b\b\b\b\b\b\b\b\b\b\b\b\b\b\b\b\b\b\b\b\b\b\b\b\b\b\b\b\b\b\b\b\b\b\b\b\b\b\b\b\b\b\b\b\b\b\b\b\b\b\b\b\b\b\b\b\b\b\b\b\b\b\b\r\u001b[1m266/375\u001b[0m \u001b[32m━━━━━━━━━━━━━━\u001b[0m\u001b[37m━━━━━━\u001b[0m \u001b[1m0s\u001b[0m 4ms/step - accuracy: 0.9837 - loss: 0.0486"
                ]
              },
              {
                "output_type": "stream",
                "name": "stdout",
                "text": [
                  "\b\b\b\b\b\b\b\b\b\b\b\b\b\b\b\b\b\b\b\b\b\b\b\b\b\b\b\b\b\b\b\b\b\b\b\b\b\b\b\b\b\b\b\b\b\b\b\b\b\b\b\b\b\b\b\b\b\b\b\b\b\b\b\b\b\b\b\b\b\b\b\b\b\b\r\u001b[1m280/375\u001b[0m \u001b[32m━━━━━━━━━━━━━━\u001b[0m\u001b[37m━━━━━━\u001b[0m \u001b[1m0s\u001b[0m 4ms/step - accuracy: 0.9838 - loss: 0.0486"
                ]
              },
              {
                "output_type": "stream",
                "name": "stdout",
                "text": [
                  "\b\b\b\b\b\b\b\b\b\b\b\b\b\b\b\b\b\b\b\b\b\b\b\b\b\b\b\b\b\b\b\b\b\b\b\b\b\b\b\b\b\b\b\b\b\b\b\b\b\b\b\b\b\b\b\b\b\b\b\b\b\b\b\b\b\b\b\b\b\b\b\b\b\b\r\u001b[1m294/375\u001b[0m \u001b[32m━━━━━━━━━━━━━━━\u001b[0m\u001b[37m━━━━━\u001b[0m \u001b[1m0s\u001b[0m 4ms/step - accuracy: 0.9838 - loss: 0.0486"
                ]
              },
              {
                "output_type": "stream",
                "name": "stdout",
                "text": [
                  "\b\b\b\b\b\b\b\b\b\b\b\b\b\b\b\b\b\b\b\b\b\b\b\b\b\b\b\b\b\b\b\b\b\b\b\b\b\b\b\b\b\b\b\b\b\b\b\b\b\b\b\b\b\b\b\b\b\b\b\b\b\b\b\b\b\b\b\b\b\b\b\b\b\b\r\u001b[1m308/375\u001b[0m \u001b[32m━━━━━━━━━━━━━━━━\u001b[0m\u001b[37m━━━━\u001b[0m \u001b[1m0s\u001b[0m 4ms/step - accuracy: 0.9839 - loss: 0.0486"
                ]
              },
              {
                "output_type": "stream",
                "name": "stdout",
                "text": [
                  "\b\b\b\b\b\b\b\b\b\b\b\b\b\b\b\b\b\b\b\b\b\b\b\b\b\b\b\b\b\b\b\b\b\b\b\b\b\b\b\b\b\b\b\b\b\b\b\b\b\b\b\b\b\b\b\b\b\b\b\b\b\b\b\b\b\b\b\b\b\b\b\b\b\b\r\u001b[1m322/375\u001b[0m \u001b[32m━━━━━━━━━━━━━━━━━\u001b[0m\u001b[37m━━━\u001b[0m \u001b[1m0s\u001b[0m 4ms/step - accuracy: 0.9840 - loss: 0.0486"
                ]
              },
              {
                "output_type": "stream",
                "name": "stdout",
                "text": [
                  "\b\b\b\b\b\b\b\b\b\b\b\b\b\b\b\b\b\b\b\b\b\b\b\b\b\b\b\b\b\b\b\b\b\b\b\b\b\b\b\b\b\b\b\b\b\b\b\b\b\b\b\b\b\b\b\b\b\b\b\b\b\b\b\b\b\b\b\b\b\b\b\b\b\b\r\u001b[1m335/375\u001b[0m \u001b[32m━━━━━━━━━━━━━━━━━\u001b[0m\u001b[37m━━━\u001b[0m \u001b[1m0s\u001b[0m 4ms/step - accuracy: 0.9840 - loss: 0.0486"
                ]
              },
              {
                "output_type": "stream",
                "name": "stdout",
                "text": [
                  "\b\b\b\b\b\b\b\b\b\b\b\b\b\b\b\b\b\b\b\b\b\b\b\b\b\b\b\b\b\b\b\b\b\b\b\b\b\b\b\b\b\b\b\b\b\b\b\b\b\b\b\b\b\b\b\b\b\b\b\b\b\b\b\b\b\b\b\b\b\b\b\b\b\b\r\u001b[1m348/375\u001b[0m \u001b[32m━━━━━━━━━━━━━━━━━━\u001b[0m\u001b[37m━━\u001b[0m \u001b[1m0s\u001b[0m 4ms/step - accuracy: 0.9841 - loss: 0.0486"
                ]
              },
              {
                "output_type": "stream",
                "name": "stdout",
                "text": [
                  "\b\b\b\b\b\b\b\b\b\b\b\b\b\b\b\b\b\b\b\b\b\b\b\b\b\b\b\b\b\b\b\b\b\b\b\b\b\b\b\b\b\b\b\b\b\b\b\b\b\b\b\b\b\b\b\b\b\b\b\b\b\b\b\b\b\b\b\b\b\b\b\b\b\b\r\u001b[1m362/375\u001b[0m \u001b[32m━━━━━━━━━━━━━━━━━━━\u001b[0m\u001b[37m━\u001b[0m \u001b[1m0s\u001b[0m 4ms/step - accuracy: 0.9841 - loss: 0.0486"
                ]
              },
              {
                "output_type": "stream",
                "name": "stdout",
                "text": [
                  "\b\b\b\b\b\b\b\b\b\b\b\b\b\b\b\b\b\b\b\b\b\b\b\b\b\b\b\b\b\b\b\b\b\b\b\b\b\b\b\b\b\b\b\b\b\b\b\b\b\b\b\b\b\b\b\b\b\b\b\b\b\b\b\b\b\b\b\b\b\b\b\b\b\b\r\u001b[1m375/375\u001b[0m \u001b[32m━━━━━━━━━━━━━━━━━━━━\u001b[0m\u001b[37m\u001b[0m \u001b[1m2s\u001b[0m 5ms/step - accuracy: 0.9842 - loss: 0.0485 - val_accuracy: 0.9893 - val_loss: 0.0387\n"
                ]
              },
              {
                "output_type": "stream",
                "name": "stdout",
                "text": [
                  "Epoch 7/10\n"
                ]
              },
              {
                "output_type": "stream",
                "name": "stdout",
                "text": [
                  "\r\u001b[1m  1/375\u001b[0m \u001b[37m━━━━━━━━━━━━━━━━━━━━\u001b[0m \u001b[1m9s\u001b[0m 25ms/step - accuracy: 0.9844 - loss: 0.0526"
                ]
              },
              {
                "output_type": "stream",
                "name": "stdout",
                "text": [
                  "\b\b\b\b\b\b\b\b\b\b\b\b\b\b\b\b\b\b\b\b\b\b\b\b\b\b\b\b\b\b\b\b\b\b\b\b\b\b\b\b\b\b\b\b\b\b\b\b\b\b\b\b\b\b\b\b\b\b\b\b\b\b\b\b\b\b\b\b\b\b\b\b\b\b\b\r\u001b[1m 16/375\u001b[0m \u001b[37m━━━━━━━━━━━━━━━━━━━━\u001b[0m \u001b[1m1s\u001b[0m 4ms/step - accuracy: 0.9871 - loss: 0.0485 "
                ]
              },
              {
                "output_type": "stream",
                "name": "stdout",
                "text": [
                  "\b\b\b\b\b\b\b\b\b\b\b\b\b\b\b\b\b\b\b\b\b\b\b\b\b\b\b\b\b\b\b\b\b\b\b\b\b\b\b\b\b\b\b\b\b\b\b\b\b\b\b\b\b\b\b\b\b\b\b\b\b\b\b\b\b\b\b\b\b\b\b\b\b\b\r\u001b[1m 30/375\u001b[0m \u001b[32m━\u001b[0m\u001b[37m━━━━━━━━━━━━━━━━━━━\u001b[0m \u001b[1m1s\u001b[0m 4ms/step - accuracy: 0.9881 - loss: 0.0457"
                ]
              },
              {
                "output_type": "stream",
                "name": "stdout",
                "text": [
                  "\b\b\b\b\b\b\b\b\b\b\b\b\b\b\b\b\b\b\b\b\b\b\b\b\b\b\b\b\b\b\b\b\b\b\b\b\b\b\b\b\b\b\b\b\b\b\b\b\b\b\b\b\b\b\b\b\b\b\b\b\b\b\b\b\b\b\b\b\b\b\b\b\b\b\r\u001b[1m 43/375\u001b[0m \u001b[32m━━\u001b[0m\u001b[37m━━━━━━━━━━━━━━━━━━\u001b[0m \u001b[1m1s\u001b[0m 4ms/step - accuracy: 0.9880 - loss: 0.0446"
                ]
              },
              {
                "output_type": "stream",
                "name": "stdout",
                "text": [
                  "\b\b\b\b\b\b\b\b\b\b\b\b\b\b\b\b\b\b\b\b\b\b\b\b\b\b\b\b\b\b\b\b\b\b\b\b\b\b\b\b\b\b\b\b\b\b\b\b\b\b\b\b\b\b\b\b\b\b\b\b\b\b\b\b\b\b\b\b\b\b\b\b\b\b\r\u001b[1m 57/375\u001b[0m \u001b[32m━━━\u001b[0m\u001b[37m━━━━━━━━━━━━━━━━━\u001b[0m \u001b[1m1s\u001b[0m 4ms/step - accuracy: 0.9878 - loss: 0.0441"
                ]
              },
              {
                "output_type": "stream",
                "name": "stdout",
                "text": [
                  "\b\b\b\b\b\b\b\b\b\b\b\b\b\b\b\b\b\b\b\b\b\b\b\b\b\b\b\b\b\b\b\b\b\b\b\b\b\b\b\b\b\b\b\b\b\b\b\b\b\b\b\b\b\b\b\b\b\b\b\b\b\b\b\b\b\b\b\b\b\b\b\b\b\b\r\u001b[1m 71/375\u001b[0m \u001b[32m━━━\u001b[0m\u001b[37m━━━━━━━━━━━━━━━━━\u001b[0m \u001b[1m1s\u001b[0m 4ms/step - accuracy: 0.9877 - loss: 0.0438"
                ]
              },
              {
                "output_type": "stream",
                "name": "stdout",
                "text": [
                  "\b\b\b\b\b\b\b\b\b\b\b\b\b\b\b\b\b\b\b\b\b\b\b\b\b\b\b\b\b\b\b\b\b\b\b\b\b\b\b\b\b\b\b\b\b\b\b\b\b\b\b\b\b\b\b\b\b\b\b\b\b\b\b\b\b\b\b\b\b\b\b\b\b\b\r\u001b[1m 85/375\u001b[0m \u001b[32m━━━━\u001b[0m\u001b[37m━━━━━━━━━━━━━━━━\u001b[0m \u001b[1m1s\u001b[0m 4ms/step - accuracy: 0.9875 - loss: 0.0438"
                ]
              },
              {
                "output_type": "stream",
                "name": "stdout",
                "text": [
                  "\b\b\b\b\b\b\b\b\b\b\b\b\b\b\b\b\b\b\b\b\b\b\b\b\b\b\b\b\b\b\b\b\b\b\b\b\b\b\b\b\b\b\b\b\b\b\b\b\b\b\b\b\b\b\b\b\b\b\b\b\b\b\b\b\b\b\b\b\b\b\b\b\b\b\r\u001b[1m 99/375\u001b[0m \u001b[32m━━━━━\u001b[0m\u001b[37m━━━━━━━━━━━━━━━\u001b[0m \u001b[1m1s\u001b[0m 4ms/step - accuracy: 0.9873 - loss: 0.0438"
                ]
              },
              {
                "output_type": "stream",
                "name": "stdout",
                "text": [
                  "\b\b\b\b\b\b\b\b\b\b\b\b\b\b\b\b\b\b\b\b\b\b\b\b\b\b\b\b\b\b\b\b\b\b\b\b\b\b\b\b\b\b\b\b\b\b\b\b\b\b\b\b\b\b\b\b\b\b\b\b\b\b\b\b\b\b\b\b\b\b\b\b\b\b\r\u001b[1m114/375\u001b[0m \u001b[32m━━━━━━\u001b[0m\u001b[37m━━━━━━━━━━━━━━\u001b[0m \u001b[1m0s\u001b[0m 4ms/step - accuracy: 0.9872 - loss: 0.0439"
                ]
              },
              {
                "output_type": "stream",
                "name": "stdout",
                "text": [
                  "\b\b\b\b\b\b\b\b\b\b\b\b\b\b\b\b\b\b\b\b\b\b\b\b\b\b\b\b\b\b\b\b\b\b\b\b\b\b\b\b\b\b\b\b\b\b\b\b\b\b\b\b\b\b\b\b\b\b\b\b\b\b\b\b\b\b\b\b\b\b\b\b\b\b\r\u001b[1m128/375\u001b[0m \u001b[32m━━━━━━\u001b[0m\u001b[37m━━━━━━━━━━━━━━\u001b[0m \u001b[1m0s\u001b[0m 4ms/step - accuracy: 0.9870 - loss: 0.0441"
                ]
              },
              {
                "output_type": "stream",
                "name": "stdout",
                "text": [
                  "\b\b\b\b\b\b\b\b\b\b\b\b\b\b\b\b\b\b\b\b\b\b\b\b\b\b\b\b\b\b\b\b\b\b\b\b\b\b\b\b\b\b\b\b\b\b\b\b\b\b\b\b\b\b\b\b\b\b\b\b\b\b\b\b\b\b\b\b\b\b\b\b\b\b\r\u001b[1m143/375\u001b[0m \u001b[32m━━━━━━━\u001b[0m\u001b[37m━━━━━━━━━━━━━\u001b[0m \u001b[1m0s\u001b[0m 4ms/step - accuracy: 0.9868 - loss: 0.0444"
                ]
              },
              {
                "output_type": "stream",
                "name": "stdout",
                "text": [
                  "\b\b\b\b\b\b\b\b\b\b\b\b\b\b\b\b\b\b\b\b\b\b\b\b\b\b\b\b\b\b\b\b\b\b\b\b\b\b\b\b\b\b\b\b\b\b\b\b\b\b\b\b\b\b\b\b\b\b\b\b\b\b\b\b\b\b\b\b\b\b\b\b\b\b\r\u001b[1m155/375\u001b[0m \u001b[32m━━━━━━━━\u001b[0m\u001b[37m━━━━━━━━━━━━\u001b[0m \u001b[1m0s\u001b[0m 4ms/step - accuracy: 0.9867 - loss: 0.0447"
                ]
              },
              {
                "output_type": "stream",
                "name": "stdout",
                "text": [
                  "\b\b\b\b\b\b\b\b\b\b\b\b\b\b\b\b\b\b\b\b\b\b\b\b\b\b\b\b\b\b\b\b\b\b\b\b\b\b\b\b\b\b\b\b\b\b\b\b\b\b\b\b\b\b\b\b\b\b\b\b\b\b\b\b\b\b\b\b\b\b\b\b\b\b\r\u001b[1m170/375\u001b[0m \u001b[32m━━━━━━━━━\u001b[0m\u001b[37m━━━━━━━━━━━\u001b[0m \u001b[1m0s\u001b[0m 4ms/step - accuracy: 0.9866 - loss: 0.0449"
                ]
              },
              {
                "output_type": "stream",
                "name": "stdout",
                "text": [
                  "\b\b\b\b\b\b\b\b\b\b\b\b\b\b\b\b\b\b\b\b\b\b\b\b\b\b\b\b\b\b\b\b\b\b\b\b\b\b\b\b\b\b\b\b\b\b\b\b\b\b\b\b\b\b\b\b\b\b\b\b\b\b\b\b\b\b\b\b\b\b\b\b\b\b\r\u001b[1m184/375\u001b[0m \u001b[32m━━━━━━━━━\u001b[0m\u001b[37m━━━━━━━━━━━\u001b[0m \u001b[1m0s\u001b[0m 4ms/step - accuracy: 0.9865 - loss: 0.0451"
                ]
              },
              {
                "output_type": "stream",
                "name": "stdout",
                "text": [
                  "\b\b\b\b\b\b\b\b\b\b\b\b\b\b\b\b\b\b\b\b\b\b\b\b\b\b\b\b\b\b\b\b\b\b\b\b\b\b\b\b\b\b\b\b\b\b\b\b\b\b\b\b\b\b\b\b\b\b\b\b\b\b\b\b\b\b\b\b\b\b\b\b\b\b\r\u001b[1m198/375\u001b[0m \u001b[32m━━━━━━━━━━\u001b[0m\u001b[37m━━━━━━━━━━\u001b[0m \u001b[1m0s\u001b[0m 4ms/step - accuracy: 0.9865 - loss: 0.0451"
                ]
              },
              {
                "output_type": "stream",
                "name": "stdout",
                "text": [
                  "\b\b\b\b\b\b\b\b\b\b\b\b\b\b\b\b\b\b\b\b\b\b\b\b\b\b\b\b\b\b\b\b\b\b\b\b\b\b\b\b\b\b\b\b\b\b\b\b\b\b\b\b\b\b\b\b\b\b\b\b\b\b\b\b\b\b\b\b\b\b\b\b\b\b\r\u001b[1m212/375\u001b[0m \u001b[32m━━━━━━━━━━━\u001b[0m\u001b[37m━━━━━━━━━\u001b[0m \u001b[1m0s\u001b[0m 4ms/step - accuracy: 0.9864 - loss: 0.0452"
                ]
              },
              {
                "output_type": "stream",
                "name": "stdout",
                "text": [
                  "\b\b\b\b\b\b\b\b\b\b\b\b\b\b\b\b\b\b\b\b\b\b\b\b\b\b\b\b\b\b\b\b\b\b\b\b\b\b\b\b\b\b\b\b\b\b\b\b\b\b\b\b\b\b\b\b\b\b\b\b\b\b\b\b\b\b\b\b\b\b\b\b\b\b\r\u001b[1m226/375\u001b[0m \u001b[32m━━━━━━━━━━━━\u001b[0m\u001b[37m━━━━━━━━\u001b[0m \u001b[1m0s\u001b[0m 4ms/step - accuracy: 0.9864 - loss: 0.0451"
                ]
              },
              {
                "output_type": "stream",
                "name": "stdout",
                "text": [
                  "\b\b\b\b\b\b\b\b\b\b\b\b\b\b\b\b\b\b\b\b\b\b\b\b\b\b\b\b\b\b\b\b\b\b\b\b\b\b\b\b\b\b\b\b\b\b\b\b\b\b\b\b\b\b\b\b\b\b\b\b\b\b\b\b\b\b\b\b\b\b\b\b\b\b\r\u001b[1m241/375\u001b[0m \u001b[32m━━━━━━━━━━━━\u001b[0m\u001b[37m━━━━━━━━\u001b[0m \u001b[1m0s\u001b[0m 4ms/step - accuracy: 0.9864 - loss: 0.0451"
                ]
              },
              {
                "output_type": "stream",
                "name": "stdout",
                "text": [
                  "\b\b\b\b\b\b\b\b\b\b\b\b\b\b\b\b\b\b\b\b\b\b\b\b\b\b\b\b\b\b\b\b\b\b\b\b\b\b\b\b\b\b\b\b\b\b\b\b\b\b\b\b\b\b\b\b\b\b\b\b\b\b\b\b\b\b\b\b\b\b\b\b\b\b\r\u001b[1m255/375\u001b[0m \u001b[32m━━━━━━━━━━━━━\u001b[0m\u001b[37m━━━━━━━\u001b[0m \u001b[1m0s\u001b[0m 4ms/step - accuracy: 0.9865 - loss: 0.0451"
                ]
              },
              {
                "output_type": "stream",
                "name": "stdout",
                "text": [
                  "\b\b\b\b\b\b\b\b\b\b\b\b\b\b\b\b\b\b\b\b\b\b\b\b\b\b\b\b\b\b\b\b\b\b\b\b\b\b\b\b\b\b\b\b\b\b\b\b\b\b\b\b\b\b\b\b\b\b\b\b\b\b\b\b\b\b\b\b\b\b\b\b\b\b\r\u001b[1m269/375\u001b[0m \u001b[32m━━━━━━━━━━━━━━\u001b[0m\u001b[37m━━━━━━\u001b[0m \u001b[1m0s\u001b[0m 4ms/step - accuracy: 0.9865 - loss: 0.0450"
                ]
              },
              {
                "output_type": "stream",
                "name": "stdout",
                "text": [
                  "\b\b\b\b\b\b\b\b\b\b\b\b\b\b\b\b\b\b\b\b\b\b\b\b\b\b\b\b\b\b\b\b\b\b\b\b\b\b\b\b\b\b\b\b\b\b\b\b\b\b\b\b\b\b\b\b\b\b\b\b\b\b\b\b\b\b\b\b\b\b\b\b\b\b\r\u001b[1m283/375\u001b[0m \u001b[32m━━━━━━━━━━━━━━━\u001b[0m\u001b[37m━━━━━\u001b[0m \u001b[1m0s\u001b[0m 4ms/step - accuracy: 0.9865 - loss: 0.0450"
                ]
              },
              {
                "output_type": "stream",
                "name": "stdout",
                "text": [
                  "\b\b\b\b\b\b\b\b\b\b\b\b\b\b\b\b\b\b\b\b\b\b\b\b\b\b\b\b\b\b\b\b\b\b\b\b\b\b\b\b\b\b\b\b\b\b\b\b\b\b\b\b\b\b\b\b\b\b\b\b\b\b\b\b\b\b\b\b\b\b\b\b\b\b\r\u001b[1m297/375\u001b[0m \u001b[32m━━━━━━━━━━━━━━━\u001b[0m\u001b[37m━━━━━\u001b[0m \u001b[1m0s\u001b[0m 4ms/step - accuracy: 0.9865 - loss: 0.0449"
                ]
              },
              {
                "output_type": "stream",
                "name": "stdout",
                "text": [
                  "\b\b\b\b\b\b\b\b\b\b\b\b\b\b\b\b\b\b\b\b\b\b\b\b\b\b\b\b\b\b\b\b\b\b\b\b\b\b\b\b\b\b\b\b\b\b\b\b\b\b\b\b\b\b\b\b\b\b\b\b\b\b\b\b\b\b\b\b\b\b\b\b\b\b\r\u001b[1m311/375\u001b[0m \u001b[32m━━━━━━━━━━━━━━━━\u001b[0m\u001b[37m━━━━\u001b[0m \u001b[1m0s\u001b[0m 4ms/step - accuracy: 0.9865 - loss: 0.0449"
                ]
              },
              {
                "output_type": "stream",
                "name": "stdout",
                "text": [
                  "\b\b\b\b\b\b\b\b\b\b\b\b\b\b\b\b\b\b\b\b\b\b\b\b\b\b\b\b\b\b\b\b\b\b\b\b\b\b\b\b\b\b\b\b\b\b\b\b\b\b\b\b\b\b\b\b\b\b\b\b\b\b\b\b\b\b\b\b\b\b\b\b\b\b\r\u001b[1m326/375\u001b[0m \u001b[32m━━━━━━━━━━━━━━━━━\u001b[0m\u001b[37m━━━\u001b[0m \u001b[1m0s\u001b[0m 4ms/step - accuracy: 0.9866 - loss: 0.0448"
                ]
              },
              {
                "output_type": "stream",
                "name": "stdout",
                "text": [
                  "\b\b\b\b\b\b\b\b\b\b\b\b\b\b\b\b\b\b\b\b\b\b\b\b\b\b\b\b\b\b\b\b\b\b\b\b\b\b\b\b\b\b\b\b\b\b\b\b\b\b\b\b\b\b\b\b\b\b\b\b\b\b\b\b\b\b\b\b\b\b\b\b\b\b\r\u001b[1m341/375\u001b[0m \u001b[32m━━━━━━━━━━━━━━━━━━\u001b[0m\u001b[37m━━\u001b[0m \u001b[1m0s\u001b[0m 4ms/step - accuracy: 0.9866 - loss: 0.0447"
                ]
              },
              {
                "output_type": "stream",
                "name": "stdout",
                "text": [
                  "\b\b\b\b\b\b\b\b\b\b\b\b\b\b\b\b\b\b\b\b\b\b\b\b\b\b\b\b\b\b\b\b\b\b\b\b\b\b\b\b\b\b\b\b\b\b\b\b\b\b\b\b\b\b\b\b\b\b\b\b\b\b\b\b\b\b\b\b\b\b\b\b\b\b\r\u001b[1m354/375\u001b[0m \u001b[32m━━━━━━━━━━━━━━━━━━\u001b[0m\u001b[37m━━\u001b[0m \u001b[1m0s\u001b[0m 4ms/step - accuracy: 0.9866 - loss: 0.0446"
                ]
              },
              {
                "output_type": "stream",
                "name": "stdout",
                "text": [
                  "\b\b\b\b\b\b\b\b\b\b\b\b\b\b\b\b\b\b\b\b\b\b\b\b\b\b\b\b\b\b\b\b\b\b\b\b\b\b\b\b\b\b\b\b\b\b\b\b\b\b\b\b\b\b\b\b\b\b\b\b\b\b\b\b\b\b\b\b\b\b\b\b\b\b\r\u001b[1m368/375\u001b[0m \u001b[32m━━━━━━━━━━━━━━━━━━━\u001b[0m\u001b[37m━\u001b[0m \u001b[1m0s\u001b[0m 4ms/step - accuracy: 0.9866 - loss: 0.0446"
                ]
              },
              {
                "output_type": "stream",
                "name": "stdout",
                "text": [
                  "\b\b\b\b\b\b\b\b\b\b\b\b\b\b\b\b\b\b\b\b\b\b\b\b\b\b\b\b\b\b\b\b\b\b\b\b\b\b\b\b\b\b\b\b\b\b\b\b\b\b\b\b\b\b\b\b\b\b\b\b\b\b\b\b\b\b\b\b\b\b\b\b\b\b\r\u001b[1m375/375\u001b[0m \u001b[32m━━━━━━━━━━━━━━━━━━━━\u001b[0m\u001b[37m\u001b[0m \u001b[1m2s\u001b[0m 5ms/step - accuracy: 0.9866 - loss: 0.0445 - val_accuracy: 0.9899 - val_loss: 0.0367\n"
                ]
              },
              {
                "output_type": "stream",
                "name": "stdout",
                "text": [
                  "Epoch 8/10\n"
                ]
              },
              {
                "output_type": "stream",
                "name": "stdout",
                "text": [
                  "\r\u001b[1m  1/375\u001b[0m \u001b[37m━━━━━━━━━━━━━━━━━━━━\u001b[0m \u001b[1m8s\u001b[0m 22ms/step - accuracy: 0.9922 - loss: 0.0525"
                ]
              },
              {
                "output_type": "stream",
                "name": "stdout",
                "text": [
                  "\b\b\b\b\b\b\b\b\b\b\b\b\b\b\b\b\b\b\b\b\b\b\b\b\b\b\b\b\b\b\b\b\b\b\b\b\b\b\b\b\b\b\b\b\b\b\b\b\b\b\b\b\b\b\b\b\b\b\b\b\b\b\b\b\b\b\b\b\b\b\b\b\b\b\b\r\u001b[1m 15/375\u001b[0m \u001b[37m━━━━━━━━━━━━━━━━━━━━\u001b[0m \u001b[1m1s\u001b[0m 4ms/step - accuracy: 0.9910 - loss: 0.0380 "
                ]
              },
              {
                "output_type": "stream",
                "name": "stdout",
                "text": [
                  "\b\b\b\b\b\b\b\b\b\b\b\b\b\b\b\b\b\b\b\b\b\b\b\b\b\b\b\b\b\b\b\b\b\b\b\b\b\b\b\b\b\b\b\b\b\b\b\b\b\b\b\b\b\b\b\b\b\b\b\b\b\b\b\b\b\b\b\b\b\b\b\b\b\b\r\u001b[1m 29/375\u001b[0m \u001b[32m━\u001b[0m\u001b[37m━━━━━━━━━━━━━━━━━━━\u001b[0m \u001b[1m1s\u001b[0m 4ms/step - accuracy: 0.9900 - loss: 0.0371"
                ]
              },
              {
                "output_type": "stream",
                "name": "stdout",
                "text": [
                  "\b\b\b\b\b\b\b\b\b\b\b\b\b\b\b\b\b\b\b\b\b\b\b\b\b\b\b\b\b\b\b\b\b\b\b\b\b\b\b\b\b\b\b\b\b\b\b\b\b\b\b\b\b\b\b\b\b\b\b\b\b\b\b\b\b\b\b\b\b\b\b\b\b\b\r\u001b[1m 43/375\u001b[0m \u001b[32m━━\u001b[0m\u001b[37m━━━━━━━━━━━━━━━━━━\u001b[0m \u001b[1m1s\u001b[0m 4ms/step - accuracy: 0.9894 - loss: 0.0368"
                ]
              },
              {
                "output_type": "stream",
                "name": "stdout",
                "text": [
                  "\b\b\b\b\b\b\b\b\b\b\b\b\b\b\b\b\b\b\b\b\b\b\b\b\b\b\b\b\b\b\b\b\b\b\b\b\b\b\b\b\b\b\b\b\b\b\b\b\b\b\b\b\b\b\b\b\b\b\b\b\b\b\b\b\b\b\b\b\b\b\b\b\b\b\r\u001b[1m 57/375\u001b[0m \u001b[32m━━━\u001b[0m\u001b[37m━━━━━━━━━━━━━━━━━\u001b[0m \u001b[1m1s\u001b[0m 4ms/step - accuracy: 0.9890 - loss: 0.0365"
                ]
              },
              {
                "output_type": "stream",
                "name": "stdout",
                "text": [
                  "\b\b\b\b\b\b\b\b\b\b\b\b\b\b\b\b\b\b\b\b\b\b\b\b\b\b\b\b\b\b\b\b\b\b\b\b\b\b\b\b\b\b\b\b\b\b\b\b\b\b\b\b\b\b\b\b\b\b\b\b\b\b\b\b\b\b\b\b\b\b\b\b\b\b\r\u001b[1m 71/375\u001b[0m \u001b[32m━━━\u001b[0m\u001b[37m━━━━━━━━━━━━━━━━━\u001b[0m \u001b[1m1s\u001b[0m 4ms/step - accuracy: 0.9889 - loss: 0.0364"
                ]
              },
              {
                "output_type": "stream",
                "name": "stdout",
                "text": [
                  "\b\b\b\b\b\b\b\b\b\b\b\b\b\b\b\b\b\b\b\b\b\b\b\b\b\b\b\b\b\b\b\b\b\b\b\b\b\b\b\b\b\b\b\b\b\b\b\b\b\b\b\b\b\b\b\b\b\b\b\b\b\b\b\b\b\b\b\b\b\b\b\b\b\b\r\u001b[1m 85/375\u001b[0m \u001b[32m━━━━\u001b[0m\u001b[37m━━━━━━━━━━━━━━━━\u001b[0m \u001b[1m1s\u001b[0m 4ms/step - accuracy: 0.9888 - loss: 0.0367"
                ]
              },
              {
                "output_type": "stream",
                "name": "stdout",
                "text": [
                  "\b\b\b\b\b\b\b\b\b\b\b\b\b\b\b\b\b\b\b\b\b\b\b\b\b\b\b\b\b\b\b\b\b\b\b\b\b\b\b\b\b\b\b\b\b\b\b\b\b\b\b\b\b\b\b\b\b\b\b\b\b\b\b\b\b\b\b\b\b\b\b\b\b\b\r\u001b[1m 99/375\u001b[0m \u001b[32m━━━━━\u001b[0m\u001b[37m━━━━━━━━━━━━━━━\u001b[0m \u001b[1m1s\u001b[0m 4ms/step - accuracy: 0.9886 - loss: 0.0370"
                ]
              },
              {
                "output_type": "stream",
                "name": "stdout",
                "text": [
                  "\b\b\b\b\b\b\b\b\b\b\b\b\b\b\b\b\b\b\b\b\b\b\b\b\b\b\b\b\b\b\b\b\b\b\b\b\b\b\b\b\b\b\b\b\b\b\b\b\b\b\b\b\b\b\b\b\b\b\b\b\b\b\b\b\b\b\b\b\b\b\b\b\b\b\r\u001b[1m113/375\u001b[0m \u001b[32m━━━━━━\u001b[0m\u001b[37m━━━━━━━━━━━━━━\u001b[0m \u001b[1m0s\u001b[0m 4ms/step - accuracy: 0.9884 - loss: 0.0374"
                ]
              },
              {
                "output_type": "stream",
                "name": "stdout",
                "text": [
                  "\b\b\b\b\b\b\b\b\b\b\b\b\b\b\b\b\b\b\b\b\b\b\b\b\b\b\b\b\b\b\b\b\b\b\b\b\b\b\b\b\b\b\b\b\b\b\b\b\b\b\b\b\b\b\b\b\b\b\b\b\b\b\b\b\b\b\b\b\b\b\b\b\b\b\r\u001b[1m127/375\u001b[0m \u001b[32m━━━━━━\u001b[0m\u001b[37m━━━━━━━━━━━━━━\u001b[0m \u001b[1m0s\u001b[0m 4ms/step - accuracy: 0.9883 - loss: 0.0377"
                ]
              },
              {
                "output_type": "stream",
                "name": "stdout",
                "text": [
                  "\b\b\b\b\b\b\b\b\b\b\b\b\b\b\b\b\b\b\b\b\b\b\b\b\b\b\b\b\b\b\b\b\b\b\b\b\b\b\b\b\b\b\b\b\b\b\b\b\b\b\b\b\b\b\b\b\b\b\b\b\b\b\b\b\b\b\b\b\b\b\b\b\b\b\r\u001b[1m142/375\u001b[0m \u001b[32m━━━━━━━\u001b[0m\u001b[37m━━━━━━━━━━━━━\u001b[0m \u001b[1m0s\u001b[0m 4ms/step - accuracy: 0.9881 - loss: 0.0381"
                ]
              },
              {
                "output_type": "stream",
                "name": "stdout",
                "text": [
                  "\b\b\b\b\b\b\b\b\b\b\b\b\b\b\b\b\b\b\b\b\b\b\b\b\b\b\b\b\b\b\b\b\b\b\b\b\b\b\b\b\b\b\b\b\b\b\b\b\b\b\b\b\b\b\b\b\b\b\b\b\b\b\b\b\b\b\b\b\b\b\b\b\b\b\r\u001b[1m156/375\u001b[0m \u001b[32m━━━━━━━━\u001b[0m\u001b[37m━━━━━━━━━━━━\u001b[0m \u001b[1m0s\u001b[0m 4ms/step - accuracy: 0.9881 - loss: 0.0383"
                ]
              },
              {
                "output_type": "stream",
                "name": "stdout",
                "text": [
                  "\b\b\b\b\b\b\b\b\b\b\b\b\b\b\b\b\b\b\b\b\b\b\b\b\b\b\b\b\b\b\b\b\b\b\b\b\b\b\b\b\b\b\b\b\b\b\b\b\b\b\b\b\b\b\b\b\b\b\b\b\b\b\b\b\b\b\b\b\b\b\b\b\b\b\r\u001b[1m170/375\u001b[0m \u001b[32m━━━━━━━━━\u001b[0m\u001b[37m━━━━━━━━━━━\u001b[0m \u001b[1m0s\u001b[0m 4ms/step - accuracy: 0.9880 - loss: 0.0385"
                ]
              },
              {
                "output_type": "stream",
                "name": "stdout",
                "text": [
                  "\b\b\b\b\b\b\b\b\b\b\b\b\b\b\b\b\b\b\b\b\b\b\b\b\b\b\b\b\b\b\b\b\b\b\b\b\b\b\b\b\b\b\b\b\b\b\b\b\b\b\b\b\b\b\b\b\b\b\b\b\b\b\b\b\b\b\b\b\b\b\b\b\b\b\r\u001b[1m184/375\u001b[0m \u001b[32m━━━━━━━━━\u001b[0m\u001b[37m━━━━━━━━━━━\u001b[0m \u001b[1m0s\u001b[0m 4ms/step - accuracy: 0.9879 - loss: 0.0386"
                ]
              },
              {
                "output_type": "stream",
                "name": "stdout",
                "text": [
                  "\b\b\b\b\b\b\b\b\b\b\b\b\b\b\b\b\b\b\b\b\b\b\b\b\b\b\b\b\b\b\b\b\b\b\b\b\b\b\b\b\b\b\b\b\b\b\b\b\b\b\b\b\b\b\b\b\b\b\b\b\b\b\b\b\b\b\b\b\b\b\b\b\b\b\r\u001b[1m198/375\u001b[0m \u001b[32m━━━━━━━━━━\u001b[0m\u001b[37m━━━━━━━━━━\u001b[0m \u001b[1m0s\u001b[0m 4ms/step - accuracy: 0.9879 - loss: 0.0387"
                ]
              },
              {
                "output_type": "stream",
                "name": "stdout",
                "text": [
                  "\b\b\b\b\b\b\b\b\b\b\b\b\b\b\b\b\b\b\b\b\b\b\b\b\b\b\b\b\b\b\b\b\b\b\b\b\b\b\b\b\b\b\b\b\b\b\b\b\b\b\b\b\b\b\b\b\b\b\b\b\b\b\b\b\b\b\b\b\b\b\b\b\b\b\r\u001b[1m213/375\u001b[0m \u001b[32m━━━━━━━━━━━\u001b[0m\u001b[37m━━━━━━━━━\u001b[0m \u001b[1m0s\u001b[0m 4ms/step - accuracy: 0.9879 - loss: 0.0387"
                ]
              },
              {
                "output_type": "stream",
                "name": "stdout",
                "text": [
                  "\b\b\b\b\b\b\b\b\b\b\b\b\b\b\b\b\b\b\b\b\b\b\b\b\b\b\b\b\b\b\b\b\b\b\b\b\b\b\b\b\b\b\b\b\b\b\b\b\b\b\b\b\b\b\b\b\b\b\b\b\b\b\b\b\b\b\b\b\b\b\b\b\b\b\r\u001b[1m226/375\u001b[0m \u001b[32m━━━━━━━━━━━━\u001b[0m\u001b[37m━━━━━━━━\u001b[0m \u001b[1m0s\u001b[0m 4ms/step - accuracy: 0.9878 - loss: 0.0387"
                ]
              },
              {
                "output_type": "stream",
                "name": "stdout",
                "text": [
                  "\b\b\b\b\b\b\b\b\b\b\b\b\b\b\b\b\b\b\b\b\b\b\b\b\b\b\b\b\b\b\b\b\b\b\b\b\b\b\b\b\b\b\b\b\b\b\b\b\b\b\b\b\b\b\b\b\b\b\b\b\b\b\b\b\b\b\b\b\b\b\b\b\b\b\r\u001b[1m239/375\u001b[0m \u001b[32m━━━━━━━━━━━━\u001b[0m\u001b[37m━━━━━━━━\u001b[0m \u001b[1m0s\u001b[0m 4ms/step - accuracy: 0.9878 - loss: 0.0387"
                ]
              },
              {
                "output_type": "stream",
                "name": "stdout",
                "text": [
                  "\b\b\b\b\b\b\b\b\b\b\b\b\b\b\b\b\b\b\b\b\b\b\b\b\b\b\b\b\b\b\b\b\b\b\b\b\b\b\b\b\b\b\b\b\b\b\b\b\b\b\b\b\b\b\b\b\b\b\b\b\b\b\b\b\b\b\b\b\b\b\b\b\b\b\r\u001b[1m252/375\u001b[0m \u001b[32m━━━━━━━━━━━━━\u001b[0m\u001b[37m━━━━━━━\u001b[0m \u001b[1m0s\u001b[0m 4ms/step - accuracy: 0.9878 - loss: 0.0387"
                ]
              },
              {
                "output_type": "stream",
                "name": "stdout",
                "text": [
                  "\b\b\b\b\b\b\b\b\b\b\b\b\b\b\b\b\b\b\b\b\b\b\b\b\b\b\b\b\b\b\b\b\b\b\b\b\b\b\b\b\b\b\b\b\b\b\b\b\b\b\b\b\b\b\b\b\b\b\b\b\b\b\b\b\b\b\b\b\b\b\b\b\b\b\r\u001b[1m266/375\u001b[0m \u001b[32m━━━━━━━━━━━━━━\u001b[0m\u001b[37m━━━━━━\u001b[0m \u001b[1m0s\u001b[0m 4ms/step - accuracy: 0.9878 - loss: 0.0387"
                ]
              },
              {
                "output_type": "stream",
                "name": "stdout",
                "text": [
                  "\b\b\b\b\b\b\b\b\b\b\b\b\b\b\b\b\b\b\b\b\b\b\b\b\b\b\b\b\b\b\b\b\b\b\b\b\b\b\b\b\b\b\b\b\b\b\b\b\b\b\b\b\b\b\b\b\b\b\b\b\b\b\b\b\b\b\b\b\b\b\b\b\b\b\r\u001b[1m280/375\u001b[0m \u001b[32m━━━━━━━━━━━━━━\u001b[0m\u001b[37m━━━━━━\u001b[0m \u001b[1m0s\u001b[0m 4ms/step - accuracy: 0.9878 - loss: 0.0387"
                ]
              },
              {
                "output_type": "stream",
                "name": "stdout",
                "text": [
                  "\b\b\b\b\b\b\b\b\b\b\b\b\b\b\b\b\b\b\b\b\b\b\b\b\b\b\b\b\b\b\b\b\b\b\b\b\b\b\b\b\b\b\b\b\b\b\b\b\b\b\b\b\b\b\b\b\b\b\b\b\b\b\b\b\b\b\b\b\b\b\b\b\b\b\r\u001b[1m294/375\u001b[0m \u001b[32m━━━━━━━━━━━━━━━\u001b[0m\u001b[37m━━━━━\u001b[0m \u001b[1m0s\u001b[0m 4ms/step - accuracy: 0.9878 - loss: 0.0386"
                ]
              },
              {
                "output_type": "stream",
                "name": "stdout",
                "text": [
                  "\b\b\b\b\b\b\b\b\b\b\b\b\b\b\b\b\b\b\b\b\b\b\b\b\b\b\b\b\b\b\b\b\b\b\b\b\b\b\b\b\b\b\b\b\b\b\b\b\b\b\b\b\b\b\b\b\b\b\b\b\b\b\b\b\b\b\b\b\b\b\b\b\b\b\r\u001b[1m308/375\u001b[0m \u001b[32m━━━━━━━━━━━━━━━━\u001b[0m\u001b[37m━━━━\u001b[0m \u001b[1m0s\u001b[0m 4ms/step - accuracy: 0.9878 - loss: 0.0386"
                ]
              },
              {
                "output_type": "stream",
                "name": "stdout",
                "text": [
                  "\b\b\b\b\b\b\b\b\b\b\b\b\b\b\b\b\b\b\b\b\b\b\b\b\b\b\b\b\b\b\b\b\b\b\b\b\b\b\b\b\b\b\b\b\b\b\b\b\b\b\b\b\b\b\b\b\b\b\b\b\b\b\b\b\b\b\b\b\b\b\b\b\b\b\r\u001b[1m317/375\u001b[0m \u001b[32m━━━━━━━━━━━━━━━━\u001b[0m\u001b[37m━━━━\u001b[0m \u001b[1m0s\u001b[0m 4ms/step - accuracy: 0.9878 - loss: 0.0386"
                ]
              },
              {
                "output_type": "stream",
                "name": "stdout",
                "text": [
                  "\b\b\b\b\b\b\b\b\b\b\b\b\b\b\b\b\b\b\b\b\b\b\b\b\b\b\b\b\b\b\b\b\b\b\b\b\b\b\b\b\b\b\b\b\b\b\b\b\b\b\b\b\b\b\b\b\b\b\b\b\b\b\b\b\b\b\b\b\b\b\b\b\b\b\r\u001b[1m329/375\u001b[0m \u001b[32m━━━━━━━━━━━━━━━━━\u001b[0m\u001b[37m━━━\u001b[0m \u001b[1m0s\u001b[0m 4ms/step - accuracy: 0.9878 - loss: 0.0386"
                ]
              },
              {
                "output_type": "stream",
                "name": "stdout",
                "text": [
                  "\b\b\b\b\b\b\b\b\b\b\b\b\b\b\b\b\b\b\b\b\b\b\b\b\b\b\b\b\b\b\b\b\b\b\b\b\b\b\b\b\b\b\b\b\b\b\b\b\b\b\b\b\b\b\b\b\b\b\b\b\b\b\b\b\b\b\b\b\b\b\b\b\b\b\r\u001b[1m339/375\u001b[0m \u001b[32m━━━━━━━━━━━━━━━━━━\u001b[0m\u001b[37m━━\u001b[0m \u001b[1m0s\u001b[0m 4ms/step - accuracy: 0.9878 - loss: 0.0386"
                ]
              },
              {
                "output_type": "stream",
                "name": "stdout",
                "text": [
                  "\b\b\b\b\b\b\b\b\b\b\b\b\b\b\b\b\b\b\b\b\b\b\b\b\b\b\b\b\b\b\b\b\b\b\b\b\b\b\b\b\b\b\b\b\b\b\b\b\b\b\b\b\b\b\b\b\b\b\b\b\b\b\b\b\b\b\b\b\b\b\b\b\b\b\r\u001b[1m350/375\u001b[0m \u001b[32m━━━━━━━━━━━━━━━━━━\u001b[0m\u001b[37m━━\u001b[0m \u001b[1m0s\u001b[0m 4ms/step - accuracy: 0.9877 - loss: 0.0385"
                ]
              },
              {
                "output_type": "stream",
                "name": "stdout",
                "text": [
                  "\b\b\b\b\b\b\b\b\b\b\b\b\b\b\b\b\b\b\b\b\b\b\b\b\b\b\b\b\b\b\b\b\b\b\b\b\b\b\b\b\b\b\b\b\b\b\b\b\b\b\b\b\b\b\b\b\b\b\b\b\b\b\b\b\b\b\b\b\b\b\b\b\b\b\r\u001b[1m362/375\u001b[0m \u001b[32m━━━━━━━━━━━━━━━━━━━\u001b[0m\u001b[37m━\u001b[0m \u001b[1m0s\u001b[0m 4ms/step - accuracy: 0.9877 - loss: 0.0385"
                ]
              },
              {
                "output_type": "stream",
                "name": "stdout",
                "text": [
                  "\b\b\b\b\b\b\b\b\b\b\b\b\b\b\b\b\b\b\b\b\b\b\b\b\b\b\b\b\b\b\b\b\b\b\b\b\b\b\b\b\b\b\b\b\b\b\b\b\b\b\b\b\b\b\b\b\b\b\b\b\b\b\b\b\b\b\b\b\b\b\b\b\b\b\r\u001b[1m373/375\u001b[0m \u001b[32m━━━━━━━━━━━━━━━━━━━\u001b[0m\u001b[37m━\u001b[0m \u001b[1m0s\u001b[0m 4ms/step - accuracy: 0.9878 - loss: 0.0385"
                ]
              },
              {
                "output_type": "stream",
                "name": "stdout",
                "text": [
                  "\b\b\b\b\b\b\b\b\b\b\b\b\b\b\b\b\b\b\b\b\b\b\b\b\b\b\b\b\b\b\b\b\b\b\b\b\b\b\b\b\b\b\b\b\b\b\b\b\b\b\b\b\b\b\b\b\b\b\b\b\b\b\b\b\b\b\b\b\b\b\b\b\b\b\r\u001b[1m375/375\u001b[0m \u001b[32m━━━━━━━━━━━━━━━━━━━━\u001b[0m\u001b[37m\u001b[0m \u001b[1m2s\u001b[0m 6ms/step - accuracy: 0.9878 - loss: 0.0385 - val_accuracy: 0.9906 - val_loss: 0.0371\n"
                ]
              },
              {
                "output_type": "stream",
                "name": "stdout",
                "text": [
                  "Epoch 9/10\n"
                ]
              },
              {
                "output_type": "stream",
                "name": "stdout",
                "text": [
                  "\r\u001b[1m  1/375\u001b[0m \u001b[37m━━━━━━━━━━━━━━━━━━━━\u001b[0m \u001b[1m12s\u001b[0m 33ms/step - accuracy: 0.9844 - loss: 0.0361"
                ]
              },
              {
                "output_type": "stream",
                "name": "stdout",
                "text": [
                  "\b\b\b\b\b\b\b\b\b\b\b\b\b\b\b\b\b\b\b\b\b\b\b\b\b\b\b\b\b\b\b\b\b\b\b\b\b\b\b\b\b\b\b\b\b\b\b\b\b\b\b\b\b\b\b\b\b\b\b\b\b\b\b\b\b\b\b\b\b\b\b\b\b\b\b\b\r\u001b[1m 12/375\u001b[0m \u001b[37m━━━━━━━━━━━━━━━━━━━━\u001b[0m \u001b[1m1s\u001b[0m 5ms/step - accuracy: 0.9887 - loss: 0.0356  "
                ]
              },
              {
                "output_type": "stream",
                "name": "stdout",
                "text": [
                  "\b\b\b\b\b\b\b\b\b\b\b\b\b\b\b\b\b\b\b\b\b\b\b\b\b\b\b\b\b\b\b\b\b\b\b\b\b\b\b\b\b\b\b\b\b\b\b\b\b\b\b\b\b\b\b\b\b\b\b\b\b\b\b\b\b\b\b\b\b\b\b\b\b\b\r\u001b[1m 24/375\u001b[0m \u001b[32m━\u001b[0m\u001b[37m━━━━━━━━━━━━━━━━━━━\u001b[0m \u001b[1m1s\u001b[0m 4ms/step - accuracy: 0.9891 - loss: 0.0339"
                ]
              },
              {
                "output_type": "stream",
                "name": "stdout",
                "text": [
                  "\b\b\b\b\b\b\b\b\b\b\b\b\b\b\b\b\b\b\b\b\b\b\b\b\b\b\b\b\b\b\b\b\b\b\b\b\b\b\b\b\b\b\b\b\b\b\b\b\b\b\b\b\b\b\b\b\b\b\b\b\b\b\b\b\b\b\b\b\b\b\b\b\b\b\r\u001b[1m 36/375\u001b[0m \u001b[32m━\u001b[0m\u001b[37m━━━━━━━━━━━━━━━━━━━\u001b[0m \u001b[1m1s\u001b[0m 4ms/step - accuracy: 0.9893 - loss: 0.0323"
                ]
              },
              {
                "output_type": "stream",
                "name": "stdout",
                "text": [
                  "\b\b\b\b\b\b\b\b\b\b\b\b\b\b\b\b\b\b\b\b\b\b\b\b\b\b\b\b\b\b\b\b\b\b\b\b\b\b\b\b\b\b\b\b\b\b\b\b\b\b\b\b\b\b\b\b\b\b\b\b\b\b\b\b\b\b\b\b\b\b\b\b\b\b\r\u001b[1m 48/375\u001b[0m \u001b[32m━━\u001b[0m\u001b[37m━━━━━━━━━━━━━━━━━━\u001b[0m \u001b[1m1s\u001b[0m 4ms/step - accuracy: 0.9894 - loss: 0.0313"
                ]
              },
              {
                "output_type": "stream",
                "name": "stdout",
                "text": [
                  "\b\b\b\b\b\b\b\b\b\b\b\b\b\b\b\b\b\b\b\b\b\b\b\b\b\b\b\b\b\b\b\b\b\b\b\b\b\b\b\b\b\b\b\b\b\b\b\b\b\b\b\b\b\b\b\b\b\b\b\b\b\b\b\b\b\b\b\b\b\b\b\b\b\b\r\u001b[1m 60/375\u001b[0m \u001b[32m━━━\u001b[0m\u001b[37m━━━━━━━━━━━━━━━━━\u001b[0m \u001b[1m1s\u001b[0m 4ms/step - accuracy: 0.9895 - loss: 0.0305"
                ]
              },
              {
                "output_type": "stream",
                "name": "stdout",
                "text": [
                  "\b\b\b\b\b\b\b\b\b\b\b\b\b\b\b\b\b\b\b\b\b\b\b\b\b\b\b\b\b\b\b\b\b\b\b\b\b\b\b\b\b\b\b\b\b\b\b\b\b\b\b\b\b\b\b\b\b\b\b\b\b\b\b\b\b\b\b\b\b\b\b\b\b\b\r\u001b[1m 71/375\u001b[0m \u001b[32m━━━\u001b[0m\u001b[37m━━━━━━━━━━━━━━━━━\u001b[0m \u001b[1m1s\u001b[0m 5ms/step - accuracy: 0.9896 - loss: 0.0303"
                ]
              },
              {
                "output_type": "stream",
                "name": "stdout",
                "text": [
                  "\b\b\b\b\b\b\b\b\b\b\b\b\b\b\b\b\b\b\b\b\b\b\b\b\b\b\b\b\b\b\b\b\b\b\b\b\b\b\b\b\b\b\b\b\b\b\b\b\b\b\b\b\b\b\b\b\b\b\b\b\b\b\b\b\b\b\b\b\b\b\b\b\b\b\r\u001b[1m 83/375\u001b[0m \u001b[32m━━━━\u001b[0m\u001b[37m━━━━━━━━━━━━━━━━\u001b[0m \u001b[1m1s\u001b[0m 4ms/step - accuracy: 0.9896 - loss: 0.0304"
                ]
              },
              {
                "output_type": "stream",
                "name": "stdout",
                "text": [
                  "\b\b\b\b\b\b\b\b\b\b\b\b\b\b\b\b\b\b\b\b\b\b\b\b\b\b\b\b\b\b\b\b\b\b\b\b\b\b\b\b\b\b\b\b\b\b\b\b\b\b\b\b\b\b\b\b\b\b\b\b\b\b\b\b\b\b\b\b\b\b\b\b\b\b\r\u001b[1m 94/375\u001b[0m \u001b[32m━━━━━\u001b[0m\u001b[37m━━━━━━━━━━━━━━━\u001b[0m \u001b[1m1s\u001b[0m 5ms/step - accuracy: 0.9897 - loss: 0.0305"
                ]
              },
              {
                "output_type": "stream",
                "name": "stdout",
                "text": [
                  "\b\b\b\b\b\b\b\b\b\b\b\b\b\b\b\b\b\b\b\b\b\b\b\b\b\b\b\b\b\b\b\b\b\b\b\b\b\b\b\b\b\b\b\b\b\b\b\b\b\b\b\b\b\b\b\b\b\b\b\b\b\b\b\b\b\b\b\b\b\b\b\b\b\b\r\u001b[1m106/375\u001b[0m \u001b[32m━━━━━\u001b[0m\u001b[37m━━━━━━━━━━━━━━━\u001b[0m \u001b[1m1s\u001b[0m 5ms/step - accuracy: 0.9897 - loss: 0.0306"
                ]
              },
              {
                "output_type": "stream",
                "name": "stdout",
                "text": [
                  "\b\b\b\b\b\b\b\b\b\b\b\b\b\b\b\b\b\b\b\b\b\b\b\b\b\b\b\b\b\b\b\b\b\b\b\b\b\b\b\b\b\b\b\b\b\b\b\b\b\b\b\b\b\b\b\b\b\b\b\b\b\b\b\b\b\b\b\b\b\b\b\b\b\b\r\u001b[1m118/375\u001b[0m \u001b[32m━━━━━━\u001b[0m\u001b[37m━━━━━━━━━━━━━━\u001b[0m \u001b[1m1s\u001b[0m 5ms/step - accuracy: 0.9897 - loss: 0.0308"
                ]
              },
              {
                "output_type": "stream",
                "name": "stdout",
                "text": [
                  "\b\b\b\b\b\b\b\b\b\b\b\b\b\b\b\b\b\b\b\b\b\b\b\b\b\b\b\b\b\b\b\b\b\b\b\b\b\b\b\b\b\b\b\b\b\b\b\b\b\b\b\b\b\b\b\b\b\b\b\b\b\b\b\b\b\b\b\b\b\b\b\b\b\b\r\u001b[1m129/375\u001b[0m \u001b[32m━━━━━━\u001b[0m\u001b[37m━━━━━━━━━━━━━━\u001b[0m \u001b[1m1s\u001b[0m 5ms/step - accuracy: 0.9897 - loss: 0.0310"
                ]
              },
              {
                "output_type": "stream",
                "name": "stdout",
                "text": [
                  "\b\b\b\b\b\b\b\b\b\b\b\b\b\b\b\b\b\b\b\b\b\b\b\b\b\b\b\b\b\b\b\b\b\b\b\b\b\b\b\b\b\b\b\b\b\b\b\b\b\b\b\b\b\b\b\b\b\b\b\b\b\b\b\b\b\b\b\b\b\b\b\b\b\b\r\u001b[1m140/375\u001b[0m \u001b[32m━━━━━━━\u001b[0m\u001b[37m━━━━━━━━━━━━━\u001b[0m \u001b[1m1s\u001b[0m 5ms/step - accuracy: 0.9897 - loss: 0.0313"
                ]
              },
              {
                "output_type": "stream",
                "name": "stdout",
                "text": [
                  "\b\b\b\b\b\b\b\b\b\b\b\b\b\b\b\b\b\b\b\b\b\b\b\b\b\b\b\b\b\b\b\b\b\b\b\b\b\b\b\b\b\b\b\b\b\b\b\b\b\b\b\b\b\b\b\b\b\b\b\b\b\b\b\b\b\b\b\b\b\b\b\b\b\b\r\u001b[1m151/375\u001b[0m \u001b[32m━━━━━━━━\u001b[0m\u001b[37m━━━━━━━━━━━━\u001b[0m \u001b[1m1s\u001b[0m 5ms/step - accuracy: 0.9897 - loss: 0.0315"
                ]
              },
              {
                "output_type": "stream",
                "name": "stdout",
                "text": [
                  "\b\b\b\b\b\b\b\b\b\b\b\b\b\b\b\b\b\b\b\b\b\b\b\b\b\b\b\b\b\b\b\b\b\b\b\b\b\b\b\b\b\b\b\b\b\b\b\b\b\b\b\b\b\b\b\b\b\b\b\b\b\b\b\b\b\b\b\b\b\b\b\b\b\b\r\u001b[1m162/375\u001b[0m \u001b[32m━━━━━━━━\u001b[0m\u001b[37m━━━━━━━━━━━━\u001b[0m \u001b[1m0s\u001b[0m 5ms/step - accuracy: 0.9897 - loss: 0.0317"
                ]
              },
              {
                "output_type": "stream",
                "name": "stdout",
                "text": [
                  "\b\b\b\b\b\b\b\b\b\b\b\b\b\b\b\b\b\b\b\b\b\b\b\b\b\b\b\b\b\b\b\b\b\b\b\b\b\b\b\b\b\b\b\b\b\b\b\b\b\b\b\b\b\b\b\b\b\b\b\b\b\b\b\b\b\b\b\b\b\b\b\b\b\b\r\u001b[1m171/375\u001b[0m \u001b[32m━━━━━━━━━\u001b[0m\u001b[37m━━━━━━━━━━━\u001b[0m \u001b[1m0s\u001b[0m 5ms/step - accuracy: 0.9897 - loss: 0.0318"
                ]
              },
              {
                "output_type": "stream",
                "name": "stdout",
                "text": [
                  "\b\b\b\b\b\b\b\b\b\b\b\b\b\b\b\b\b\b\b\b\b\b\b\b\b\b\b\b\b\b\b\b\b\b\b\b\b\b\b\b\b\b\b\b\b\b\b\b\b\b\b\b\b\b\b\b\b\b\b\b\b\b\b\b\b\b\b\b\b\b\b\b\b\b\r\u001b[1m182/375\u001b[0m \u001b[32m━━━━━━━━━\u001b[0m\u001b[37m━━━━━━━━━━━\u001b[0m \u001b[1m0s\u001b[0m 5ms/step - accuracy: 0.9897 - loss: 0.0320"
                ]
              },
              {
                "output_type": "stream",
                "name": "stdout",
                "text": [
                  "\b\b\b\b\b\b\b\b\b\b\b\b\b\b\b\b\b\b\b\b\b\b\b\b\b\b\b\b\b\b\b\b\b\b\b\b\b\b\b\b\b\b\b\b\b\b\b\b\b\b\b\b\b\b\b\b\b\b\b\b\b\b\b\b\b\b\b\b\b\b\b\b\b\b\r\u001b[1m193/375\u001b[0m \u001b[32m━━━━━━━━━━\u001b[0m\u001b[37m━━━━━━━━━━\u001b[0m \u001b[1m0s\u001b[0m 5ms/step - accuracy: 0.9896 - loss: 0.0321"
                ]
              },
              {
                "output_type": "stream",
                "name": "stdout",
                "text": [
                  "\b\b\b\b\b\b\b\b\b\b\b\b\b\b\b\b\b\b\b\b\b\b\b\b\b\b\b\b\b\b\b\b\b\b\b\b\b\b\b\b\b\b\b\b\b\b\b\b\b\b\b\b\b\b\b\b\b\b\b\b\b\b\b\b\b\b\b\b\b\b\b\b\b\b\r\u001b[1m204/375\u001b[0m \u001b[32m━━━━━━━━━━\u001b[0m\u001b[37m━━━━━━━━━━\u001b[0m \u001b[1m0s\u001b[0m 5ms/step - accuracy: 0.9896 - loss: 0.0322"
                ]
              },
              {
                "output_type": "stream",
                "name": "stdout",
                "text": [
                  "\b\b\b\b\b\b\b\b\b\b\b\b\b\b\b\b\b\b\b\b\b\b\b\b\b\b\b\b\b\b\b\b\b\b\b\b\b\b\b\b\b\b\b\b\b\b\b\b\b\b\b\b\b\b\b\b\b\b\b\b\b\b\b\b\b\b\b\b\b\b\b\b\b\b\r\u001b[1m215/375\u001b[0m \u001b[32m━━━━━━━━━━━\u001b[0m\u001b[37m━━━━━━━━━\u001b[0m \u001b[1m0s\u001b[0m 5ms/step - accuracy: 0.9897 - loss: 0.0322"
                ]
              },
              {
                "output_type": "stream",
                "name": "stdout",
                "text": [
                  "\b\b\b\b\b\b\b\b\b\b\b\b\b\b\b\b\b\b\b\b\b\b\b\b\b\b\b\b\b\b\b\b\b\b\b\b\b\b\b\b\b\b\b\b\b\b\b\b\b\b\b\b\b\b\b\b\b\b\b\b\b\b\b\b\b\b\b\b\b\b\b\b\b\b\r\u001b[1m226/375\u001b[0m \u001b[32m━━━━━━━━━━━━\u001b[0m\u001b[37m━━━━━━━━\u001b[0m \u001b[1m0s\u001b[0m 5ms/step - accuracy: 0.9897 - loss: 0.0323"
                ]
              },
              {
                "output_type": "stream",
                "name": "stdout",
                "text": [
                  "\b\b\b\b\b\b\b\b\b\b\b\b\b\b\b\b\b\b\b\b\b\b\b\b\b\b\b\b\b\b\b\b\b\b\b\b\b\b\b\b\b\b\b\b\b\b\b\b\b\b\b\b\b\b\b\b\b\b\b\b\b\b\b\b\b\b\b\b\b\b\b\b\b\b\r\u001b[1m236/375\u001b[0m \u001b[32m━━━━━━━━━━━━\u001b[0m\u001b[37m━━━━━━━━\u001b[0m \u001b[1m0s\u001b[0m 5ms/step - accuracy: 0.9897 - loss: 0.0323"
                ]
              },
              {
                "output_type": "stream",
                "name": "stdout",
                "text": [
                  "\b\b\b\b\b\b\b\b\b\b\b\b\b\b\b\b\b\b\b\b\b\b\b\b\b\b\b\b\b\b\b\b\b\b\b\b\b\b\b\b\b\b\b\b\b\b\b\b\b\b\b\b\b\b\b\b\b\b\b\b\b\b\b\b\b\b\b\b\b\b\b\b\b\b\r\u001b[1m248/375\u001b[0m \u001b[32m━━━━━━━━━━━━━\u001b[0m\u001b[37m━━━━━━━\u001b[0m \u001b[1m0s\u001b[0m 5ms/step - accuracy: 0.9897 - loss: 0.0323"
                ]
              },
              {
                "output_type": "stream",
                "name": "stdout",
                "text": [
                  "\b\b\b\b\b\b\b\b\b\b\b\b\b\b\b\b\b\b\b\b\b\b\b\b\b\b\b\b\b\b\b\b\b\b\b\b\b\b\b\b\b\b\b\b\b\b\b\b\b\b\b\b\b\b\b\b\b\b\b\b\b\b\b\b\b\b\b\b\b\b\b\b\b\b\r\u001b[1m262/375\u001b[0m \u001b[32m━━━━━━━━━━━━━\u001b[0m\u001b[37m━━━━━━━\u001b[0m \u001b[1m0s\u001b[0m 5ms/step - accuracy: 0.9897 - loss: 0.0323"
                ]
              },
              {
                "output_type": "stream",
                "name": "stdout",
                "text": [
                  "\b\b\b\b\b\b\b\b\b\b\b\b\b\b\b\b\b\b\b\b\b\b\b\b\b\b\b\b\b\b\b\b\b\b\b\b\b\b\b\b\b\b\b\b\b\b\b\b\b\b\b\b\b\b\b\b\b\b\b\b\b\b\b\b\b\b\b\b\b\b\b\b\b\b\r\u001b[1m276/375\u001b[0m \u001b[32m━━━━━━━━━━━━━━\u001b[0m\u001b[37m━━━━━━\u001b[0m \u001b[1m0s\u001b[0m 5ms/step - accuracy: 0.9897 - loss: 0.0324"
                ]
              },
              {
                "output_type": "stream",
                "name": "stdout",
                "text": [
                  "\b\b\b\b\b\b\b\b\b\b\b\b\b\b\b\b\b\b\b\b\b\b\b\b\b\b\b\b\b\b\b\b\b\b\b\b\b\b\b\b\b\b\b\b\b\b\b\b\b\b\b\b\b\b\b\b\b\b\b\b\b\b\b\b\b\b\b\b\b\b\b\b\b\b\r\u001b[1m290/375\u001b[0m \u001b[32m━━━━━━━━━━━━━━━\u001b[0m\u001b[37m━━━━━\u001b[0m \u001b[1m0s\u001b[0m 5ms/step - accuracy: 0.9897 - loss: 0.0324"
                ]
              },
              {
                "output_type": "stream",
                "name": "stdout",
                "text": [
                  "\b\b\b\b\b\b\b\b\b\b\b\b\b\b\b\b\b\b\b\b\b\b\b\b\b\b\b\b\b\b\b\b\b\b\b\b\b\b\b\b\b\b\b\b\b\b\b\b\b\b\b\b\b\b\b\b\b\b\b\b\b\b\b\b\b\b\b\b\b\b\b\b\b\b\r\u001b[1m304/375\u001b[0m \u001b[32m━━━━━━━━━━━━━━━━\u001b[0m\u001b[37m━━━━\u001b[0m \u001b[1m0s\u001b[0m 4ms/step - accuracy: 0.9897 - loss: 0.0324"
                ]
              },
              {
                "output_type": "stream",
                "name": "stdout",
                "text": [
                  "\b\b\b\b\b\b\b\b\b\b\b\b\b\b\b\b\b\b\b\b\b\b\b\b\b\b\b\b\b\b\b\b\b\b\b\b\b\b\b\b\b\b\b\b\b\b\b\b\b\b\b\b\b\b\b\b\b\b\b\b\b\b\b\b\b\b\b\b\b\b\b\b\b\b\r\u001b[1m318/375\u001b[0m \u001b[32m━━━━━━━━━━━━━━━━\u001b[0m\u001b[37m━━━━\u001b[0m \u001b[1m0s\u001b[0m 4ms/step - accuracy: 0.9897 - loss: 0.0325"
                ]
              },
              {
                "output_type": "stream",
                "name": "stdout",
                "text": [
                  "\b\b\b\b\b\b\b\b\b\b\b\b\b\b\b\b\b\b\b\b\b\b\b\b\b\b\b\b\b\b\b\b\b\b\b\b\b\b\b\b\b\b\b\b\b\b\b\b\b\b\b\b\b\b\b\b\b\b\b\b\b\b\b\b\b\b\b\b\b\b\b\b\b\b\r\u001b[1m332/375\u001b[0m \u001b[32m━━━━━━━━━━━━━━━━━\u001b[0m\u001b[37m━━━\u001b[0m \u001b[1m0s\u001b[0m 4ms/step - accuracy: 0.9897 - loss: 0.0325"
                ]
              },
              {
                "output_type": "stream",
                "name": "stdout",
                "text": [
                  "\b\b\b\b\b\b\b\b\b\b\b\b\b\b\b\b\b\b\b\b\b\b\b\b\b\b\b\b\b\b\b\b\b\b\b\b\b\b\b\b\b\b\b\b\b\b\b\b\b\b\b\b\b\b\b\b\b\b\b\b\b\b\b\b\b\b\b\b\b\b\b\b\b\b\r\u001b[1m346/375\u001b[0m \u001b[32m━━━━━━━━━━━━━━━━━━\u001b[0m\u001b[37m━━\u001b[0m \u001b[1m0s\u001b[0m 4ms/step - accuracy: 0.9897 - loss: 0.0325"
                ]
              },
              {
                "output_type": "stream",
                "name": "stdout",
                "text": [
                  "\b\b\b\b\b\b\b\b\b\b\b\b\b\b\b\b\b\b\b\b\b\b\b\b\b\b\b\b\b\b\b\b\b\b\b\b\b\b\b\b\b\b\b\b\b\b\b\b\b\b\b\b\b\b\b\b\b\b\b\b\b\b\b\b\b\b\b\b\b\b\b\b\b\b\r\u001b[1m360/375\u001b[0m \u001b[32m━━━━━━━━━━━━━━━━━━━\u001b[0m\u001b[37m━\u001b[0m \u001b[1m0s\u001b[0m 4ms/step - accuracy: 0.9897 - loss: 0.0325"
                ]
              },
              {
                "output_type": "stream",
                "name": "stdout",
                "text": [
                  "\b\b\b\b\b\b\b\b\b\b\b\b\b\b\b\b\b\b\b\b\b\b\b\b\b\b\b\b\b\b\b\b\b\b\b\b\b\b\b\b\b\b\b\b\b\b\b\b\b\b\b\b\b\b\b\b\b\b\b\b\b\b\b\b\b\b\b\b\b\b\b\b\b\b\r\u001b[1m374/375\u001b[0m \u001b[32m━━━━━━━━━━━━━━━━━━━\u001b[0m\u001b[37m━\u001b[0m \u001b[1m0s\u001b[0m 4ms/step - accuracy: 0.9897 - loss: 0.0325"
                ]
              },
              {
                "output_type": "stream",
                "name": "stdout",
                "text": [
                  "\b\b\b\b\b\b\b\b\b\b\b\b\b\b\b\b\b\b\b\b\b\b\b\b\b\b\b\b\b\b\b\b\b\b\b\b\b\b\b\b\b\b\b\b\b\b\b\b\b\b\b\b\b\b\b\b\b\b\b\b\b\b\b\b\b\b\b\b\b\b\b\b\b\b\r\u001b[1m375/375\u001b[0m \u001b[32m━━━━━━━━━━━━━━━━━━━━\u001b[0m\u001b[37m\u001b[0m \u001b[1m2s\u001b[0m 5ms/step - accuracy: 0.9897 - loss: 0.0325 - val_accuracy: 0.9905 - val_loss: 0.0377\n"
                ]
              },
              {
                "output_type": "stream",
                "name": "stdout",
                "text": [
                  "Epoch 10/10\n"
                ]
              },
              {
                "output_type": "stream",
                "name": "stdout",
                "text": [
                  "\r\u001b[1m  1/375\u001b[0m \u001b[37m━━━━━━━━━━━━━━━━━━━━\u001b[0m \u001b[1m3:40\u001b[0m 591ms/step - accuracy: 0.9844 - loss: 0.0341"
                ]
              },
              {
                "output_type": "stream",
                "name": "stdout",
                "text": [
                  "\b\b\b\b\b\b\b\b\b\b\b\b\b\b\b\b\b\b\b\b\b\b\b\b\b\b\b\b\b\b\b\b\b\b\b\b\b\b\b\b\b\b\b\b\b\b\b\b\b\b\b\b\b\b\b\b\b\b\b\b\b\b\b\b\b\b\b\b\b\b\b\b\b\b\b\b\b\b\r\u001b[1m 15/375\u001b[0m \u001b[37m━━━━━━━━━━━━━━━━━━━━\u001b[0m \u001b[1m1s\u001b[0m 4ms/step - accuracy: 0.9883 - loss: 0.0351    "
                ]
              },
              {
                "output_type": "stream",
                "name": "stdout",
                "text": [
                  "\b\b\b\b\b\b\b\b\b\b\b\b\b\b\b\b\b\b\b\b\b\b\b\b\b\b\b\b\b\b\b\b\b\b\b\b\b\b\b\b\b\b\b\b\b\b\b\b\b\b\b\b\b\b\b\b\b\b\b\b\b\b\b\b\b\b\b\b\b\b\b\b\b\b\r\u001b[1m 29/375\u001b[0m \u001b[32m━\u001b[0m\u001b[37m━━━━━━━━━━━━━━━━━━━\u001b[0m \u001b[1m1s\u001b[0m 4ms/step - accuracy: 0.9900 - loss: 0.0308"
                ]
              },
              {
                "output_type": "stream",
                "name": "stdout",
                "text": [
                  "\b\b\b\b\b\b\b\b\b\b\b\b\b\b\b\b\b\b\b\b\b\b\b\b\b\b\b\b\b\b\b\b\b\b\b\b\b\b\b\b\b\b\b\b\b\b\b\b\b\b\b\b\b\b\b\b\b\b\b\b\b\b\b\b\b\b\b\b\b\b\b\b\b\b\r\u001b[1m 41/375\u001b[0m \u001b[32m━━\u001b[0m\u001b[37m━━━━━━━━━━━━━━━━━━\u001b[0m \u001b[1m1s\u001b[0m 4ms/step - accuracy: 0.9904 - loss: 0.0294"
                ]
              },
              {
                "output_type": "stream",
                "name": "stdout",
                "text": [
                  "\b\b\b\b\b\b\b\b\b\b\b\b\b\b\b\b\b\b\b\b\b\b\b\b\b\b\b\b\b\b\b\b\b\b\b\b\b\b\b\b\b\b\b\b\b\b\b\b\b\b\b\b\b\b\b\b\b\b\b\b\b\b\b\b\b\b\b\b\b\b\b\b\b\b\r\u001b[1m 55/375\u001b[0m \u001b[32m━━\u001b[0m\u001b[37m━━━━━━━━━━━━━━━━━━\u001b[0m \u001b[1m1s\u001b[0m 4ms/step - accuracy: 0.9906 - loss: 0.0287"
                ]
              },
              {
                "output_type": "stream",
                "name": "stdout",
                "text": [
                  "\b\b\b\b\b\b\b\b\b\b\b\b\b\b\b\b\b\b\b\b\b\b\b\b\b\b\b\b\b\b\b\b\b\b\b\b\b\b\b\b\b\b\b\b\b\b\b\b\b\b\b\b\b\b\b\b\b\b\b\b\b\b\b\b\b\b\b\b\b\b\b\b\b\b\r\u001b[1m 69/375\u001b[0m \u001b[32m━━━\u001b[0m\u001b[37m━━━━━━━━━━━━━━━━━\u001b[0m \u001b[1m1s\u001b[0m 4ms/step - accuracy: 0.9907 - loss: 0.0284"
                ]
              },
              {
                "output_type": "stream",
                "name": "stdout",
                "text": [
                  "\b\b\b\b\b\b\b\b\b\b\b\b\b\b\b\b\b\b\b\b\b\b\b\b\b\b\b\b\b\b\b\b\b\b\b\b\b\b\b\b\b\b\b\b\b\b\b\b\b\b\b\b\b\b\b\b\b\b\b\b\b\b\b\b\b\b\b\b\b\b\b\b\b\b\r\u001b[1m 82/375\u001b[0m \u001b[32m━━━━\u001b[0m\u001b[37m━━━━━━━━━━━━━━━━\u001b[0m \u001b[1m1s\u001b[0m 4ms/step - accuracy: 0.9907 - loss: 0.0282"
                ]
              },
              {
                "output_type": "stream",
                "name": "stdout",
                "text": [
                  "\b\b\b\b\b\b\b\b\b\b\b\b\b\b\b\b\b\b\b\b\b\b\b\b\b\b\b\b\b\b\b\b\b\b\b\b\b\b\b\b\b\b\b\b\b\b\b\b\b\b\b\b\b\b\b\b\b\b\b\b\b\b\b\b\b\b\b\b\b\b\b\b\b\b\r\u001b[1m 95/375\u001b[0m \u001b[32m━━━━━\u001b[0m\u001b[37m━━━━━━━━━━━━━━━\u001b[0m \u001b[1m1s\u001b[0m 4ms/step - accuracy: 0.9908 - loss: 0.0280"
                ]
              },
              {
                "output_type": "stream",
                "name": "stdout",
                "text": [
                  "\b\b\b\b\b\b\b\b\b\b\b\b\b\b\b\b\b\b\b\b\b\b\b\b\b\b\b\b\b\b\b\b\b\b\b\b\b\b\b\b\b\b\b\b\b\b\b\b\b\b\b\b\b\b\b\b\b\b\b\b\b\b\b\b\b\b\b\b\b\b\b\b\b\b\r\u001b[1m109/375\u001b[0m \u001b[32m━━━━━\u001b[0m\u001b[37m━━━━━━━━━━━━━━━\u001b[0m \u001b[1m1s\u001b[0m 4ms/step - accuracy: 0.9908 - loss: 0.0280"
                ]
              },
              {
                "output_type": "stream",
                "name": "stdout",
                "text": [
                  "\b\b\b\b\b\b\b\b\b\b\b\b\b\b\b\b\b\b\b\b\b\b\b\b\b\b\b\b\b\b\b\b\b\b\b\b\b\b\b\b\b\b\b\b\b\b\b\b\b\b\b\b\b\b\b\b\b\b\b\b\b\b\b\b\b\b\b\b\b\b\b\b\b\b\r\u001b[1m124/375\u001b[0m \u001b[32m━━━━━━\u001b[0m\u001b[37m━━━━━━━━━━━━━━\u001b[0m \u001b[1m0s\u001b[0m 4ms/step - accuracy: 0.9907 - loss: 0.0281"
                ]
              },
              {
                "output_type": "stream",
                "name": "stdout",
                "text": [
                  "\b\b\b\b\b\b\b\b\b\b\b\b\b\b\b\b\b\b\b\b\b\b\b\b\b\b\b\b\b\b\b\b\b\b\b\b\b\b\b\b\b\b\b\b\b\b\b\b\b\b\b\b\b\b\b\b\b\b\b\b\b\b\b\b\b\b\b\b\b\b\b\b\b\b\r\u001b[1m138/375\u001b[0m \u001b[32m━━━━━━━\u001b[0m\u001b[37m━━━━━━━━━━━━━\u001b[0m \u001b[1m0s\u001b[0m 4ms/step - accuracy: 0.9907 - loss: 0.0282"
                ]
              },
              {
                "output_type": "stream",
                "name": "stdout",
                "text": [
                  "\b\b\b\b\b\b\b\b\b\b\b\b\b\b\b\b\b\b\b\b\b\b\b\b\b\b\b\b\b\b\b\b\b\b\b\b\b\b\b\b\b\b\b\b\b\b\b\b\b\b\b\b\b\b\b\b\b\b\b\b\b\b\b\b\b\b\b\b\b\b\b\b\b\b\r\u001b[1m152/375\u001b[0m \u001b[32m━━━━━━━━\u001b[0m\u001b[37m━━━━━━━━━━━━\u001b[0m \u001b[1m0s\u001b[0m 4ms/step - accuracy: 0.9906 - loss: 0.0285"
                ]
              },
              {
                "output_type": "stream",
                "name": "stdout",
                "text": [
                  "\b\b\b\b\b\b\b\b\b\b\b\b\b\b\b\b\b\b\b\b\b\b\b\b\b\b\b\b\b\b\b\b\b\b\b\b\b\b\b\b\b\b\b\b\b\b\b\b\b\b\b\b\b\b\b\b\b\b\b\b\b\b\b\b\b\b\b\b\b\b\b\b\b\b\r\u001b[1m166/375\u001b[0m \u001b[32m━━━━━━━━\u001b[0m\u001b[37m━━━━━━━━━━━━\u001b[0m \u001b[1m0s\u001b[0m 4ms/step - accuracy: 0.9906 - loss: 0.0287"
                ]
              },
              {
                "output_type": "stream",
                "name": "stdout",
                "text": [
                  "\b\b\b\b\b\b\b\b\b\b\b\b\b\b\b\b\b\b\b\b\b\b\b\b\b\b\b\b\b\b\b\b\b\b\b\b\b\b\b\b\b\b\b\b\b\b\b\b\b\b\b\b\b\b\b\b\b\b\b\b\b\b\b\b\b\b\b\b\b\b\b\b\b\b\r\u001b[1m180/375\u001b[0m \u001b[32m━━━━━━━━━\u001b[0m\u001b[37m━━━━━━━━━━━\u001b[0m \u001b[1m0s\u001b[0m 4ms/step - accuracy: 0.9905 - loss: 0.0289"
                ]
              },
              {
                "output_type": "stream",
                "name": "stdout",
                "text": [
                  "\b\b\b\b\b\b\b\b\b\b\b\b\b\b\b\b\b\b\b\b\b\b\b\b\b\b\b\b\b\b\b\b\b\b\b\b\b\b\b\b\b\b\b\b\b\b\b\b\b\b\b\b\b\b\b\b\b\b\b\b\b\b\b\b\b\b\b\b\b\b\b\b\b\b\r\u001b[1m194/375\u001b[0m \u001b[32m━━━━━━━━━━\u001b[0m\u001b[37m━━━━━━━━━━\u001b[0m \u001b[1m0s\u001b[0m 4ms/step - accuracy: 0.9905 - loss: 0.0291"
                ]
              },
              {
                "output_type": "stream",
                "name": "stdout",
                "text": [
                  "\b\b\b\b\b\b\b\b\b\b\b\b\b\b\b\b\b\b\b\b\b\b\b\b\b\b\b\b\b\b\b\b\b\b\b\b\b\b\b\b\b\b\b\b\b\b\b\b\b\b\b\b\b\b\b\b\b\b\b\b\b\b\b\b\b\b\b\b\b\b\b\b\b\b\r\u001b[1m209/375\u001b[0m \u001b[32m━━━━━━━━━━━\u001b[0m\u001b[37m━━━━━━━━━\u001b[0m \u001b[1m0s\u001b[0m 4ms/step - accuracy: 0.9905 - loss: 0.0292"
                ]
              },
              {
                "output_type": "stream",
                "name": "stdout",
                "text": [
                  "\b\b\b\b\b\b\b\b\b\b\b\b\b\b\b\b\b\b\b\b\b\b\b\b\b\b\b\b\b\b\b\b\b\b\b\b\b\b\b\b\b\b\b\b\b\b\b\b\b\b\b\b\b\b\b\b\b\b\b\b\b\b\b\b\b\b\b\b\b\b\b\b\b\b\r\u001b[1m223/375\u001b[0m \u001b[32m━━━━━━━━━━━\u001b[0m\u001b[37m━━━━━━━━━\u001b[0m \u001b[1m0s\u001b[0m 4ms/step - accuracy: 0.9905 - loss: 0.0292"
                ]
              },
              {
                "output_type": "stream",
                "name": "stdout",
                "text": [
                  "\b\b\b\b\b\b\b\b\b\b\b\b\b\b\b\b\b\b\b\b\b\b\b\b\b\b\b\b\b\b\b\b\b\b\b\b\b\b\b\b\b\b\b\b\b\b\b\b\b\b\b\b\b\b\b\b\b\b\b\b\b\b\b\b\b\b\b\b\b\b\b\b\b\b\r\u001b[1m238/375\u001b[0m \u001b[32m━━━━━━━━━━━━\u001b[0m\u001b[37m━━━━━━━━\u001b[0m \u001b[1m0s\u001b[0m 4ms/step - accuracy: 0.9905 - loss: 0.0292"
                ]
              },
              {
                "output_type": "stream",
                "name": "stdout",
                "text": [
                  "\b\b\b\b\b\b\b\b\b\b\b\b\b\b\b\b\b\b\b\b\b\b\b\b\b\b\b\b\b\b\b\b\b\b\b\b\b\b\b\b\b\b\b\b\b\b\b\b\b\b\b\b\b\b\b\b\b\b\b\b\b\b\b\b\b\b\b\b\b\b\b\b\b\b\r\u001b[1m253/375\u001b[0m \u001b[32m━━━━━━━━━━━━━\u001b[0m\u001b[37m━━━━━━━\u001b[0m \u001b[1m0s\u001b[0m 4ms/step - accuracy: 0.9905 - loss: 0.0292"
                ]
              },
              {
                "output_type": "stream",
                "name": "stdout",
                "text": [
                  "\b\b\b\b\b\b\b\b\b\b\b\b\b\b\b\b\b\b\b\b\b\b\b\b\b\b\b\b\b\b\b\b\b\b\b\b\b\b\b\b\b\b\b\b\b\b\b\b\b\b\b\b\b\b\b\b\b\b\b\b\b\b\b\b\b\b\b\b\b\b\b\b\b\b\r\u001b[1m267/375\u001b[0m \u001b[32m━━━━━━━━━━━━━━\u001b[0m\u001b[37m━━━━━━\u001b[0m \u001b[1m0s\u001b[0m 4ms/step - accuracy: 0.9904 - loss: 0.0293"
                ]
              },
              {
                "output_type": "stream",
                "name": "stdout",
                "text": [
                  "\b\b\b\b\b\b\b\b\b\b\b\b\b\b\b\b\b\b\b\b\b\b\b\b\b\b\b\b\b\b\b\b\b\b\b\b\b\b\b\b\b\b\b\b\b\b\b\b\b\b\b\b\b\b\b\b\b\b\b\b\b\b\b\b\b\b\b\b\b\b\b\b\b\b\r\u001b[1m281/375\u001b[0m \u001b[32m━━━━━━━━━━━━━━\u001b[0m\u001b[37m━━━━━━\u001b[0m \u001b[1m0s\u001b[0m 4ms/step - accuracy: 0.9904 - loss: 0.0293"
                ]
              },
              {
                "output_type": "stream",
                "name": "stdout",
                "text": [
                  "\b\b\b\b\b\b\b\b\b\b\b\b\b\b\b\b\b\b\b\b\b\b\b\b\b\b\b\b\b\b\b\b\b\b\b\b\b\b\b\b\b\b\b\b\b\b\b\b\b\b\b\b\b\b\b\b\b\b\b\b\b\b\b\b\b\b\b\b\b\b\b\b\b\b\r\u001b[1m295/375\u001b[0m \u001b[32m━━━━━━━━━━━━━━━\u001b[0m\u001b[37m━━━━━\u001b[0m \u001b[1m0s\u001b[0m 4ms/step - accuracy: 0.9904 - loss: 0.0294"
                ]
              },
              {
                "output_type": "stream",
                "name": "stdout",
                "text": [
                  "\b\b\b\b\b\b\b\b\b\b\b\b\b\b\b\b\b\b\b\b\b\b\b\b\b\b\b\b\b\b\b\b\b\b\b\b\b\b\b\b\b\b\b\b\b\b\b\b\b\b\b\b\b\b\b\b\b\b\b\b\b\b\b\b\b\b\b\b\b\b\b\b\b\b\r\u001b[1m310/375\u001b[0m \u001b[32m━━━━━━━━━━━━━━━━\u001b[0m\u001b[37m━━━━\u001b[0m \u001b[1m0s\u001b[0m 4ms/step - accuracy: 0.9904 - loss: 0.0294"
                ]
              },
              {
                "output_type": "stream",
                "name": "stdout",
                "text": [
                  "\b\b\b\b\b\b\b\b\b\b\b\b\b\b\b\b\b\b\b\b\b\b\b\b\b\b\b\b\b\b\b\b\b\b\b\b\b\b\b\b\b\b\b\b\b\b\b\b\b\b\b\b\b\b\b\b\b\b\b\b\b\b\b\b\b\b\b\b\b\b\b\b\b\b\r\u001b[1m324/375\u001b[0m \u001b[32m━━━━━━━━━━━━━━━━━\u001b[0m\u001b[37m━━━\u001b[0m \u001b[1m0s\u001b[0m 4ms/step - accuracy: 0.9904 - loss: 0.0295"
                ]
              },
              {
                "output_type": "stream",
                "name": "stdout",
                "text": [
                  "\b\b\b\b\b\b\b\b\b\b\b\b\b\b\b\b\b\b\b\b\b\b\b\b\b\b\b\b\b\b\b\b\b\b\b\b\b\b\b\b\b\b\b\b\b\b\b\b\b\b\b\b\b\b\b\b\b\b\b\b\b\b\b\b\b\b\b\b\b\b\b\b\b\b\r\u001b[1m338/375\u001b[0m \u001b[32m━━━━━━━━━━━━━━━━━━\u001b[0m\u001b[37m━━\u001b[0m \u001b[1m0s\u001b[0m 4ms/step - accuracy: 0.9904 - loss: 0.0295"
                ]
              },
              {
                "output_type": "stream",
                "name": "stdout",
                "text": [
                  "\b\b\b\b\b\b\b\b\b\b\b\b\b\b\b\b\b\b\b\b\b\b\b\b\b\b\b\b\b\b\b\b\b\b\b\b\b\b\b\b\b\b\b\b\b\b\b\b\b\b\b\b\b\b\b\b\b\b\b\b\b\b\b\b\b\b\b\b\b\b\b\b\b\b\r\u001b[1m353/375\u001b[0m \u001b[32m━━━━━━━━━━━━━━━━━━\u001b[0m\u001b[37m━━\u001b[0m \u001b[1m0s\u001b[0m 4ms/step - accuracy: 0.9904 - loss: 0.0296"
                ]
              },
              {
                "output_type": "stream",
                "name": "stdout",
                "text": [
                  "\b\b\b\b\b\b\b\b\b\b\b\b\b\b\b\b\b\b\b\b\b\b\b\b\b\b\b\b\b\b\b\b\b\b\b\b\b\b\b\b\b\b\b\b\b\b\b\b\b\b\b\b\b\b\b\b\b\b\b\b\b\b\b\b\b\b\b\b\b\b\b\b\b\b\r\u001b[1m368/375\u001b[0m \u001b[32m━━━━━━━━━━━━━━━━━━━\u001b[0m\u001b[37m━\u001b[0m \u001b[1m0s\u001b[0m 4ms/step - accuracy: 0.9904 - loss: 0.0296"
                ]
              },
              {
                "output_type": "stream",
                "name": "stdout",
                "text": [
                  "\b\b\b\b\b\b\b\b\b\b\b\b\b\b\b\b\b\b\b\b\b\b\b\b\b\b\b\b\b\b\b\b\b\b\b\b\b\b\b\b\b\b\b\b\b\b\b\b\b\b\b\b\b\b\b\b\b\b\b\b\b\b\b\b\b\b\b\b\b\b\b\b\b\b\r\u001b[1m375/375\u001b[0m \u001b[32m━━━━━━━━━━━━━━━━━━━━\u001b[0m\u001b[37m\u001b[0m \u001b[1m2s\u001b[0m 5ms/step - accuracy: 0.9904 - loss: 0.0296 - val_accuracy: 0.9902 - val_loss: 0.0376\n"
                ]
              },
              {
                "output_type": "stream",
                "name": "stdout",
                "text": [
                  "\n",
                  "Точность на тестовом наборе: 0.9912\n"
                ]
              }
            ]
          }
        },
        "a25a61c1ef7a4174ac65612a29652042": {
          "model_module": "@jupyter-widgets/base",
          "model_name": "LayoutModel",
          "model_module_version": "1.2.0",
          "state": {
            "_model_module": "@jupyter-widgets/base",
            "_model_module_version": "1.2.0",
            "_model_name": "LayoutModel",
            "_view_count": null,
            "_view_module": "@jupyter-widgets/base",
            "_view_module_version": "1.2.0",
            "_view_name": "LayoutView",
            "align_content": null,
            "align_items": null,
            "align_self": null,
            "border": null,
            "bottom": null,
            "display": null,
            "flex": null,
            "flex_flow": null,
            "grid_area": null,
            "grid_auto_columns": null,
            "grid_auto_flow": null,
            "grid_auto_rows": null,
            "grid_column": null,
            "grid_gap": null,
            "grid_row": null,
            "grid_template_areas": null,
            "grid_template_columns": null,
            "grid_template_rows": null,
            "height": null,
            "justify_content": null,
            "justify_items": null,
            "left": null,
            "margin": null,
            "max_height": null,
            "max_width": null,
            "min_height": null,
            "min_width": null,
            "object_fit": null,
            "object_position": null,
            "order": null,
            "overflow": null,
            "overflow_x": null,
            "overflow_y": null,
            "padding": null,
            "right": null,
            "top": null,
            "visibility": null,
            "width": null
          }
        },
        "185faa38ff2a44a1a99296431a782626": {
          "model_module": "@jupyter-widgets/base",
          "model_name": "LayoutModel",
          "model_module_version": "1.2.0",
          "state": {
            "_model_module": "@jupyter-widgets/base",
            "_model_module_version": "1.2.0",
            "_model_name": "LayoutModel",
            "_view_count": null,
            "_view_module": "@jupyter-widgets/base",
            "_view_module_version": "1.2.0",
            "_view_name": "LayoutView",
            "align_content": null,
            "align_items": null,
            "align_self": null,
            "border": null,
            "bottom": null,
            "display": null,
            "flex": null,
            "flex_flow": null,
            "grid_area": null,
            "grid_auto_columns": null,
            "grid_auto_flow": null,
            "grid_auto_rows": null,
            "grid_column": null,
            "grid_gap": null,
            "grid_row": null,
            "grid_template_areas": null,
            "grid_template_columns": null,
            "grid_template_rows": null,
            "height": null,
            "justify_content": null,
            "justify_items": null,
            "left": null,
            "margin": null,
            "max_height": null,
            "max_width": null,
            "min_height": null,
            "min_width": null,
            "object_fit": null,
            "object_position": null,
            "order": null,
            "overflow": null,
            "overflow_x": null,
            "overflow_y": null,
            "padding": null,
            "right": null,
            "top": null,
            "visibility": null,
            "width": null
          }
        },
        "c01deb0861884acfa72de4649e6e1128": {
          "model_module": "@jupyter-widgets/controls",
          "model_name": "SliderStyleModel",
          "model_module_version": "1.5.0",
          "state": {
            "_model_module": "@jupyter-widgets/controls",
            "_model_module_version": "1.5.0",
            "_model_name": "SliderStyleModel",
            "_view_count": null,
            "_view_module": "@jupyter-widgets/base",
            "_view_module_version": "1.2.0",
            "_view_name": "StyleView",
            "description_width": "",
            "handle_color": null
          }
        },
        "77a02c4b12ee470fad816fbf021bbe1e": {
          "model_module": "@jupyter-widgets/base",
          "model_name": "LayoutModel",
          "model_module_version": "1.2.0",
          "state": {
            "_model_module": "@jupyter-widgets/base",
            "_model_module_version": "1.2.0",
            "_model_name": "LayoutModel",
            "_view_count": null,
            "_view_module": "@jupyter-widgets/base",
            "_view_module_version": "1.2.0",
            "_view_name": "LayoutView",
            "align_content": null,
            "align_items": null,
            "align_self": null,
            "border": null,
            "bottom": null,
            "display": null,
            "flex": null,
            "flex_flow": null,
            "grid_area": null,
            "grid_auto_columns": null,
            "grid_auto_flow": null,
            "grid_auto_rows": null,
            "grid_column": null,
            "grid_gap": null,
            "grid_row": null,
            "grid_template_areas": null,
            "grid_template_columns": null,
            "grid_template_rows": null,
            "height": null,
            "justify_content": null,
            "justify_items": null,
            "left": null,
            "margin": null,
            "max_height": null,
            "max_width": null,
            "min_height": null,
            "min_width": null,
            "object_fit": null,
            "object_position": null,
            "order": null,
            "overflow": null,
            "overflow_x": null,
            "overflow_y": null,
            "padding": null,
            "right": null,
            "top": null,
            "visibility": null,
            "width": null
          }
        },
        "5b4751cbe9734fbc91b4b93ba7eaf2b6": {
          "model_module": "@jupyter-widgets/controls",
          "model_name": "DescriptionStyleModel",
          "model_module_version": "1.5.0",
          "state": {
            "_model_module": "@jupyter-widgets/controls",
            "_model_module_version": "1.5.0",
            "_model_name": "DescriptionStyleModel",
            "_view_count": null,
            "_view_module": "@jupyter-widgets/base",
            "_view_module_version": "1.2.0",
            "_view_name": "StyleView",
            "description_width": ""
          }
        },
        "df8683a8e9364ae996b4c0acb7471ad7": {
          "model_module": "@jupyter-widgets/base",
          "model_name": "LayoutModel",
          "model_module_version": "1.2.0",
          "state": {
            "_model_module": "@jupyter-widgets/base",
            "_model_module_version": "1.2.0",
            "_model_name": "LayoutModel",
            "_view_count": null,
            "_view_module": "@jupyter-widgets/base",
            "_view_module_version": "1.2.0",
            "_view_name": "LayoutView",
            "align_content": null,
            "align_items": null,
            "align_self": null,
            "border": null,
            "bottom": null,
            "display": null,
            "flex": null,
            "flex_flow": null,
            "grid_area": null,
            "grid_auto_columns": null,
            "grid_auto_flow": null,
            "grid_auto_rows": null,
            "grid_column": null,
            "grid_gap": null,
            "grid_row": null,
            "grid_template_areas": null,
            "grid_template_columns": null,
            "grid_template_rows": null,
            "height": null,
            "justify_content": null,
            "justify_items": null,
            "left": null,
            "margin": null,
            "max_height": null,
            "max_width": null,
            "min_height": null,
            "min_width": null,
            "object_fit": null,
            "object_position": null,
            "order": null,
            "overflow": null,
            "overflow_x": null,
            "overflow_y": null,
            "padding": null,
            "right": null,
            "top": null,
            "visibility": null,
            "width": null
          }
        },
        "c46c55e6ed78470a9e2c0e85284e3193": {
          "model_module": "@jupyter-widgets/controls",
          "model_name": "VBoxModel",
          "model_module_version": "1.5.0",
          "state": {
            "_dom_classes": [
              "widget-interact"
            ],
            "_model_module": "@jupyter-widgets/controls",
            "_model_module_version": "1.5.0",
            "_model_name": "VBoxModel",
            "_view_count": null,
            "_view_module": "@jupyter-widgets/controls",
            "_view_module_version": "1.5.0",
            "_view_name": "VBoxView",
            "box_style": "",
            "children": [
              "IPY_MODEL_539d42cf2a704f8fb768de3222a7a144",
              "IPY_MODEL_77d06b1ec72543c2b42e791884e12911"
            ],
            "layout": "IPY_MODEL_b6524b7db1014e469934db5fd30c4069"
          }
        },
        "539d42cf2a704f8fb768de3222a7a144": {
          "model_module": "@jupyter-widgets/controls",
          "model_name": "IntSliderModel",
          "model_module_version": "1.5.0",
          "state": {
            "_dom_classes": [],
            "_model_module": "@jupyter-widgets/controls",
            "_model_module_version": "1.5.0",
            "_model_name": "IntSliderModel",
            "_view_count": null,
            "_view_module": "@jupyter-widgets/controls",
            "_view_module_version": "1.5.0",
            "_view_name": "IntSliderView",
            "continuous_update": true,
            "description": "num_samples",
            "description_tooltip": null,
            "disabled": false,
            "layout": "IPY_MODEL_67ef48b799c6482282583b8a4ee8bdfb",
            "max": 20,
            "min": 1,
            "orientation": "horizontal",
            "readout": true,
            "readout_format": "d",
            "step": 1,
            "style": "IPY_MODEL_4ae69195e31840e9b1aaaa4e4f9067d1",
            "value": 16
          }
        },
        "77d06b1ec72543c2b42e791884e12911": {
          "model_module": "@jupyter-widgets/output",
          "model_name": "OutputModel",
          "model_module_version": "1.0.0",
          "state": {
            "_dom_classes": [],
            "_model_module": "@jupyter-widgets/output",
            "_model_module_version": "1.0.0",
            "_model_name": "OutputModel",
            "_view_count": null,
            "_view_module": "@jupyter-widgets/output",
            "_view_module_version": "1.0.0",
            "_view_name": "OutputView",
            "layout": "IPY_MODEL_7d531ecc319f49c497468970dc513334",
            "msg_id": "",
            "outputs": [
              {
                "output_type": "display_data",
                "data": {
                  "text/plain": "<Figure size 1500x1000 with 16 Axes>",
                  "image/png": "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\n"
                },
                "metadata": {}
              }
            ]
          }
        },
        "b6524b7db1014e469934db5fd30c4069": {
          "model_module": "@jupyter-widgets/base",
          "model_name": "LayoutModel",
          "model_module_version": "1.2.0",
          "state": {
            "_model_module": "@jupyter-widgets/base",
            "_model_module_version": "1.2.0",
            "_model_name": "LayoutModel",
            "_view_count": null,
            "_view_module": "@jupyter-widgets/base",
            "_view_module_version": "1.2.0",
            "_view_name": "LayoutView",
            "align_content": null,
            "align_items": null,
            "align_self": null,
            "border": null,
            "bottom": null,
            "display": null,
            "flex": null,
            "flex_flow": null,
            "grid_area": null,
            "grid_auto_columns": null,
            "grid_auto_flow": null,
            "grid_auto_rows": null,
            "grid_column": null,
            "grid_gap": null,
            "grid_row": null,
            "grid_template_areas": null,
            "grid_template_columns": null,
            "grid_template_rows": null,
            "height": null,
            "justify_content": null,
            "justify_items": null,
            "left": null,
            "margin": null,
            "max_height": null,
            "max_width": null,
            "min_height": null,
            "min_width": null,
            "object_fit": null,
            "object_position": null,
            "order": null,
            "overflow": null,
            "overflow_x": null,
            "overflow_y": null,
            "padding": null,
            "right": null,
            "top": null,
            "visibility": null,
            "width": null
          }
        },
        "67ef48b799c6482282583b8a4ee8bdfb": {
          "model_module": "@jupyter-widgets/base",
          "model_name": "LayoutModel",
          "model_module_version": "1.2.0",
          "state": {
            "_model_module": "@jupyter-widgets/base",
            "_model_module_version": "1.2.0",
            "_model_name": "LayoutModel",
            "_view_count": null,
            "_view_module": "@jupyter-widgets/base",
            "_view_module_version": "1.2.0",
            "_view_name": "LayoutView",
            "align_content": null,
            "align_items": null,
            "align_self": null,
            "border": null,
            "bottom": null,
            "display": null,
            "flex": null,
            "flex_flow": null,
            "grid_area": null,
            "grid_auto_columns": null,
            "grid_auto_flow": null,
            "grid_auto_rows": null,
            "grid_column": null,
            "grid_gap": null,
            "grid_row": null,
            "grid_template_areas": null,
            "grid_template_columns": null,
            "grid_template_rows": null,
            "height": null,
            "justify_content": null,
            "justify_items": null,
            "left": null,
            "margin": null,
            "max_height": null,
            "max_width": null,
            "min_height": null,
            "min_width": null,
            "object_fit": null,
            "object_position": null,
            "order": null,
            "overflow": null,
            "overflow_x": null,
            "overflow_y": null,
            "padding": null,
            "right": null,
            "top": null,
            "visibility": null,
            "width": null
          }
        },
        "4ae69195e31840e9b1aaaa4e4f9067d1": {
          "model_module": "@jupyter-widgets/controls",
          "model_name": "SliderStyleModel",
          "model_module_version": "1.5.0",
          "state": {
            "_model_module": "@jupyter-widgets/controls",
            "_model_module_version": "1.5.0",
            "_model_name": "SliderStyleModel",
            "_view_count": null,
            "_view_module": "@jupyter-widgets/base",
            "_view_module_version": "1.2.0",
            "_view_name": "StyleView",
            "description_width": "",
            "handle_color": null
          }
        },
        "7d531ecc319f49c497468970dc513334": {
          "model_module": "@jupyter-widgets/base",
          "model_name": "LayoutModel",
          "model_module_version": "1.2.0",
          "state": {
            "_model_module": "@jupyter-widgets/base",
            "_model_module_version": "1.2.0",
            "_model_name": "LayoutModel",
            "_view_count": null,
            "_view_module": "@jupyter-widgets/base",
            "_view_module_version": "1.2.0",
            "_view_name": "LayoutView",
            "align_content": null,
            "align_items": null,
            "align_self": null,
            "border": null,
            "bottom": null,
            "display": null,
            "flex": null,
            "flex_flow": null,
            "grid_area": null,
            "grid_auto_columns": null,
            "grid_auto_flow": null,
            "grid_auto_rows": null,
            "grid_column": null,
            "grid_gap": null,
            "grid_row": null,
            "grid_template_areas": null,
            "grid_template_columns": null,
            "grid_template_rows": null,
            "height": null,
            "justify_content": null,
            "justify_items": null,
            "left": null,
            "margin": null,
            "max_height": null,
            "max_width": null,
            "min_height": null,
            "min_width": null,
            "object_fit": null,
            "object_position": null,
            "order": null,
            "overflow": null,
            "overflow_x": null,
            "overflow_y": null,
            "padding": null,
            "right": null,
            "top": null,
            "visibility": null,
            "width": null
          }
        },
        "4f1801f2b01247c79f1d9b08f121cc22": {
          "model_module": "@jupyter-widgets/controls",
          "model_name": "VBoxModel",
          "model_module_version": "1.5.0",
          "state": {
            "_dom_classes": [
              "widget-interact"
            ],
            "_model_module": "@jupyter-widgets/controls",
            "_model_module_version": "1.5.0",
            "_model_name": "VBoxModel",
            "_view_count": null,
            "_view_module": "@jupyter-widgets/controls",
            "_view_module_version": "1.5.0",
            "_view_name": "VBoxView",
            "box_style": "",
            "children": [
              "IPY_MODEL_0649064751294b6e981090f08cbd5274",
              "IPY_MODEL_95f8555223554fc68a8be2b408494c98"
            ],
            "layout": "IPY_MODEL_5c283d9b1ba545e489ffba0494f48340"
          }
        },
        "0649064751294b6e981090f08cbd5274": {
          "model_module": "@jupyter-widgets/controls",
          "model_name": "IntSliderModel",
          "model_module_version": "1.5.0",
          "state": {
            "_dom_classes": [],
            "_model_module": "@jupyter-widgets/controls",
            "_model_module_version": "1.5.0",
            "_model_name": "IntSliderModel",
            "_view_count": null,
            "_view_module": "@jupyter-widgets/controls",
            "_view_module_version": "1.5.0",
            "_view_name": "IntSliderView",
            "continuous_update": true,
            "description": "image_idx",
            "description_tooltip": null,
            "disabled": false,
            "layout": "IPY_MODEL_c4b36b2112dc44c9b033e98db9b090a8",
            "max": 9999,
            "min": 0,
            "orientation": "horizontal",
            "readout": true,
            "readout_format": "d",
            "step": 1,
            "style": "IPY_MODEL_03ad2459f8f144b4bc232025c1c537e0",
            "value": 6472
          }
        },
        "95f8555223554fc68a8be2b408494c98": {
          "model_module": "@jupyter-widgets/output",
          "model_name": "OutputModel",
          "model_module_version": "1.0.0",
          "state": {
            "_dom_classes": [],
            "_model_module": "@jupyter-widgets/output",
            "_model_module_version": "1.0.0",
            "_model_name": "OutputModel",
            "_view_count": null,
            "_view_module": "@jupyter-widgets/output",
            "_view_module_version": "1.0.0",
            "_view_name": "OutputView",
            "layout": "IPY_MODEL_bfce11e53082435e9cec5d238bd4e739",
            "msg_id": "",
            "outputs": [
              {
                "output_type": "stream",
                "name": "stdout",
                "text": [
                  "\r\u001b[1m1/1\u001b[0m \u001b[32m━━━━━━━━━━━━━━━━━━━━\u001b[0m\u001b[37m\u001b[0m \u001b[1m0s\u001b[0m 15ms/step"
                ]
              },
              {
                "output_type": "stream",
                "name": "stdout",
                "text": [
                  "\b\b\b\b\b\b\b\b\b\b\b\b\b\b\b\b\b\b\b\b\b\b\b\b\b\b\b\b\b\b\b\b\b\b\b\b\b\r\u001b[1m1/1\u001b[0m \u001b[32m━━━━━━━━━━━━━━━━━━━━\u001b[0m\u001b[37m\u001b[0m \u001b[1m0s\u001b[0m 29ms/step\n"
                ]
              },
              {
                "output_type": "display_data",
                "data": {
                  "text/plain": "<Figure size 800x400 with 2 Axes>",
                  "image/png": "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\n"
                },
                "metadata": {}
              }
            ]
          }
        },
        "5c283d9b1ba545e489ffba0494f48340": {
          "model_module": "@jupyter-widgets/base",
          "model_name": "LayoutModel",
          "model_module_version": "1.2.0",
          "state": {
            "_model_module": "@jupyter-widgets/base",
            "_model_module_version": "1.2.0",
            "_model_name": "LayoutModel",
            "_view_count": null,
            "_view_module": "@jupyter-widgets/base",
            "_view_module_version": "1.2.0",
            "_view_name": "LayoutView",
            "align_content": null,
            "align_items": null,
            "align_self": null,
            "border": null,
            "bottom": null,
            "display": null,
            "flex": null,
            "flex_flow": null,
            "grid_area": null,
            "grid_auto_columns": null,
            "grid_auto_flow": null,
            "grid_auto_rows": null,
            "grid_column": null,
            "grid_gap": null,
            "grid_row": null,
            "grid_template_areas": null,
            "grid_template_columns": null,
            "grid_template_rows": null,
            "height": null,
            "justify_content": null,
            "justify_items": null,
            "left": null,
            "margin": null,
            "max_height": null,
            "max_width": null,
            "min_height": null,
            "min_width": null,
            "object_fit": null,
            "object_position": null,
            "order": null,
            "overflow": null,
            "overflow_x": null,
            "overflow_y": null,
            "padding": null,
            "right": null,
            "top": null,
            "visibility": null,
            "width": null
          }
        },
        "c4b36b2112dc44c9b033e98db9b090a8": {
          "model_module": "@jupyter-widgets/base",
          "model_name": "LayoutModel",
          "model_module_version": "1.2.0",
          "state": {
            "_model_module": "@jupyter-widgets/base",
            "_model_module_version": "1.2.0",
            "_model_name": "LayoutModel",
            "_view_count": null,
            "_view_module": "@jupyter-widgets/base",
            "_view_module_version": "1.2.0",
            "_view_name": "LayoutView",
            "align_content": null,
            "align_items": null,
            "align_self": null,
            "border": null,
            "bottom": null,
            "display": null,
            "flex": null,
            "flex_flow": null,
            "grid_area": null,
            "grid_auto_columns": null,
            "grid_auto_flow": null,
            "grid_auto_rows": null,
            "grid_column": null,
            "grid_gap": null,
            "grid_row": null,
            "grid_template_areas": null,
            "grid_template_columns": null,
            "grid_template_rows": null,
            "height": null,
            "justify_content": null,
            "justify_items": null,
            "left": null,
            "margin": null,
            "max_height": null,
            "max_width": null,
            "min_height": null,
            "min_width": null,
            "object_fit": null,
            "object_position": null,
            "order": null,
            "overflow": null,
            "overflow_x": null,
            "overflow_y": null,
            "padding": null,
            "right": null,
            "top": null,
            "visibility": null,
            "width": null
          }
        },
        "03ad2459f8f144b4bc232025c1c537e0": {
          "model_module": "@jupyter-widgets/controls",
          "model_name": "SliderStyleModel",
          "model_module_version": "1.5.0",
          "state": {
            "_model_module": "@jupyter-widgets/controls",
            "_model_module_version": "1.5.0",
            "_model_name": "SliderStyleModel",
            "_view_count": null,
            "_view_module": "@jupyter-widgets/base",
            "_view_module_version": "1.2.0",
            "_view_name": "StyleView",
            "description_width": "",
            "handle_color": null
          }
        },
        "bfce11e53082435e9cec5d238bd4e739": {
          "model_module": "@jupyter-widgets/base",
          "model_name": "LayoutModel",
          "model_module_version": "1.2.0",
          "state": {
            "_model_module": "@jupyter-widgets/base",
            "_model_module_version": "1.2.0",
            "_model_name": "LayoutModel",
            "_view_count": null,
            "_view_module": "@jupyter-widgets/base",
            "_view_module_version": "1.2.0",
            "_view_name": "LayoutView",
            "align_content": null,
            "align_items": null,
            "align_self": null,
            "border": null,
            "bottom": null,
            "display": null,
            "flex": null,
            "flex_flow": null,
            "grid_area": null,
            "grid_auto_columns": null,
            "grid_auto_flow": null,
            "grid_auto_rows": null,
            "grid_column": null,
            "grid_gap": null,
            "grid_row": null,
            "grid_template_areas": null,
            "grid_template_columns": null,
            "grid_template_rows": null,
            "height": null,
            "justify_content": null,
            "justify_items": null,
            "left": null,
            "margin": null,
            "max_height": null,
            "max_width": null,
            "min_height": null,
            "min_width": null,
            "object_fit": null,
            "object_position": null,
            "order": null,
            "overflow": null,
            "overflow_x": null,
            "overflow_y": null,
            "padding": null,
            "right": null,
            "top": null,
            "visibility": null,
            "width": null
          }
        }
      }
    }
  },
  "nbformat": 4,
  "nbformat_minor": 0
}